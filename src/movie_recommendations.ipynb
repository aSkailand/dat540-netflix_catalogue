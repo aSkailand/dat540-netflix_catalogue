{
 "cells": [
  {
   "cell_type": "code",
   "execution_count": null,
   "metadata": {},
   "outputs": [],
   "source": [
    "import os\n",
    "import pandas as pd\n",
    "import numpy as np\n",
    "# Changes the notebook working directory on level up.\n",
    "#%cd ..\n",
    "\n",
    "# Running main python script.\n",
    "%run -i \"src/main.py\"\n",
    "\n",
    "#data_set"
   ]
  },
  {
   "cell_type": "markdown",
   "metadata": {},
   "source": [
    "# Movie recommendations "
   ]
  },
  {
   "cell_type": "markdown",
   "metadata": {},
   "source": [
    "The aim of this part is to create content recommondations based on a given title. \n",
    "In order to create recommondations, one needs to identify similarities between the given title and others titles in the dataset. \n",
    "\n",
    "The similarity between titles will be found by comparing and finding similarities in the description, genre and cast columns. \n",
    "\n",
    "To create recommondations, it is crucial to quantify the similarities. For this porpuse, the cosine similarity will be utlizied. The cosine similarity measures similarity between two vectors by comparing the angle between two vectors and determining if they are pointing in the same direction \\[kilde: Data Mining: Concepts and Techniques, chap 2.5.7]\n",
    "\n",
    "kilde link https://www.sciencedirect.com/science/article/pii/B9780123814791000022\n",
    "\n",
    "To fully understand this concept before the developement of the recommendation system, a simple example is explained:\n",
    "\n",
    "Consider two texts:\n",
    "\n",
    "text1 = Hello Hello Goodbye\n",
    "\n",
    "text2 = Goodbye Hello Goodbye\n",
    "\n",
    "By identifying the words and their frequency in the two texts, the table below is acheived: \n",
    "\n",
    "|  | Hello | Goodbye |\n",
    "| --- | --- | --- |\n",
    "| textA | 2 | 1 |\n",
    "| textB | 1 | 2 |\n",
    "\n",
    "This can now be visualized as vectors: "
   ]
  },
  {
   "cell_type": "code",
   "execution_count": 376,
   "metadata": {},
   "outputs": [
    {
     "data": {
      "text/plain": [
       "Text(2.02, 1.02, 'textB')"
      ]
     },
     "execution_count": 376,
     "metadata": {},
     "output_type": "execute_result"
    },
    {
     "data": {
      "image/png": "[encoded data removed]",
      "text/plain": [
       "<Figure size 432x288 with 1 Axes>"
      ]
     },
     "metadata": {},
     "output_type": "display_data"
    }
   ],
   "source": [
    "import matplotlib.pyplot as plt\n",
    "plt.style.use(\"ggplot\")\n",
    "text1_occurences = [2,1]\n",
    "text2_occurences = [1,2]\n",
    "vectors = np.array([text1_occurences,text2_occurences])\n",
    "origin = np.array([[0, 0],[0,0]])\n",
    "plt.quiver(*origin,vectors[:,0],vectors[:,1],color=[\"r\",\"g\"],angles=\"xy\",scale_units=\"xy\",scale=1)\n",
    "plt.xlim(0,2.5)\n",
    "plt.ylim(0,2.5)\n",
    "plt.xlabel(\"Goodbye\")\n",
    "plt.ylabel(\"Hello\")\n",
    "plt.text(0.4,0.5,\"\\u03B8\",fontsize=17)\n",
    "plt.text(1.02,2.02,\"textA\",fontsize=12,color=\"g\")\n",
    "plt.text(2.02,1.02,\"textB\",fontsize=12,color=\"r\")\n"
   ]
  },
  {
   "cell_type": "markdown",
   "metadata": {},
   "source": [
    "By letting $\\theta$ be the angle between the two vectors, the cosine similarity  is calculated by: \n",
    "\\begin{equation}\n",
    "\\cos \\theta = \\frac{A \\cdot B}{ |A| \\cdot |B|},\n",
    "\\end{equation}\n",
    "where $A$ and $B$ are vectors representing the occurences of words in textA and textB, and $|A|$ and $|B|$ are the length of the vectors.\n",
    "Recalling from calculus the relation between a cosine value for $\\theta$ and the angle $\\theta$ itself:\n",
    "\n",
    "|  Degrees | cos $\\theta$ |\n",
    "|  --- | --- |\n",
    "|  0 | 1 |\n",
    "|  30 | 0.866 |\n",
    "| 60 |  0.5 |\n",
    "| 90 |  0 |\n",
    "\n",
    "For this angle-identifying reason, the cosine similarity is used to identify similar content. Vectors with similar angles represents similar content vectors.  \n",
    "\n",
    "As mentioned above, the description, genre and cast column will be used to identify similarities. We start by extracting the dataframe with the respective columns:"
   ]
  },
  {
   "cell_type": "code",
   "execution_count": 377,
   "metadata": {},
   "outputs": [],
   "source": [
    "df = data_set[[\"title\",\"description\",\"listed_in\",\"cast\"]].copy()"
   ]
  },
  {
   "cell_type": "markdown",
   "metadata": {},
   "source": [
    "In order to identify cosine similarities, we need to convert the information in the columns to strings. Therefore, the columns are modified and added to a seperate column. We start by removing stopwords from the description column and cleaning it up: "
   ]
  },
  {
   "cell_type": "code",
   "execution_count": 378,
   "metadata": {},
   "outputs": [
    {
     "name": "stderr",
     "output_type": "stream",
     "text": [
      "[nltk_data] Downloading package stopwords to\n",
      "[nltk_data]     C:\\Users\\aleks\\AppData\\Roaming\\nltk_data...\n",
      "[nltk_data]   Package stopwords is already up-to-date!\n"
     ]
    }
   ],
   "source": [
    "import nltk\n",
    "nltk.download('stopwords')\n",
    "from nltk.corpus import stopwords\n",
    "from nltk.tokenize import word_tokenize\n",
    "stop_words = stopwords.words('english')"
   ]
  },
  {
   "cell_type": "code",
   "execution_count": 379,
   "metadata": {},
   "outputs": [
    {
     "data": {
      "text/html": [
       "<div>\n",
       "<style scoped>\n",
       "    .dataframe tbody tr th:only-of-type {\n",
       "        vertical-align: middle;\n",
       "    }\n",
       "\n",
       "    .dataframe tbody tr th {\n",
       "        vertical-align: top;\n",
       "    }\n",
       "\n",
       "    .dataframe thead th {\n",
       "        text-align: right;\n",
       "    }\n",
       "</style>\n",
       "<table border=\"1\" class=\"dataframe\">\n",
       "  <thead>\n",
       "    <tr style=\"text-align: right;\">\n",
       "      <th></th>\n",
       "      <th>title</th>\n",
       "      <th>description</th>\n",
       "      <th>listed_in</th>\n",
       "      <th>cast</th>\n",
       "    </tr>\n",
       "  </thead>\n",
       "  <tbody>\n",
       "    <tr>\n",
       "      <th>0</th>\n",
       "      <td>Norm of the North: King Sized Adventure</td>\n",
       "      <td>Before planning an awesome wedding for his gra...</td>\n",
       "      <td>Children &amp; Family Movies, Comedies</td>\n",
       "      <td>Alan Marriott, Andrew Toth, Brian Dobson, Cole...</td>\n",
       "    </tr>\n",
       "    <tr>\n",
       "      <th>1</th>\n",
       "      <td>Jandino: Whatever it Takes</td>\n",
       "      <td>Jandino Asporaat riffs on the challenges of ra...</td>\n",
       "      <td>Stand-Up Comedy</td>\n",
       "      <td>Jandino Asporaat</td>\n",
       "    </tr>\n",
       "    <tr>\n",
       "      <th>2</th>\n",
       "      <td>Transformers Prime</td>\n",
       "      <td>With the help of three human allies, the Autob...</td>\n",
       "      <td>Kids' TV</td>\n",
       "      <td>Peter Cullen, Sumalee Montano, Frank Welker, J...</td>\n",
       "    </tr>\n",
       "    <tr>\n",
       "      <th>3</th>\n",
       "      <td>Transformers: Robots in Disguise</td>\n",
       "      <td>When a prison ship crash unleashes hundreds of...</td>\n",
       "      <td>Kids' TV</td>\n",
       "      <td>Will Friedle, Darren Criss, Constance Zimmer, ...</td>\n",
       "    </tr>\n",
       "    <tr>\n",
       "      <th>4</th>\n",
       "      <td>#realityhigh</td>\n",
       "      <td>When nerdy high schooler Dani finally attracts...</td>\n",
       "      <td>Comedies</td>\n",
       "      <td>Nesta Cooper, Kate Walsh, John Michael Higgins...</td>\n",
       "    </tr>\n",
       "    <tr>\n",
       "      <th>...</th>\n",
       "      <td>...</td>\n",
       "      <td>...</td>\n",
       "      <td>...</td>\n",
       "      <td>...</td>\n",
       "    </tr>\n",
       "    <tr>\n",
       "      <th>6229</th>\n",
       "      <td>Red vs. Blue</td>\n",
       "      <td>This parody of first-person shooter games, mil...</td>\n",
       "      <td>TV Action &amp; Adventure, TV Comedies, TV Sci-Fi ...</td>\n",
       "      <td>Burnie Burns, Jason Saldaña, Gustavo Sorola, G...</td>\n",
       "    </tr>\n",
       "    <tr>\n",
       "      <th>6230</th>\n",
       "      <td>Maron</td>\n",
       "      <td>Marc Maron stars as Marc Maron, who interviews...</td>\n",
       "      <td>TV Comedies</td>\n",
       "      <td>Marc Maron, Judd Hirsch, Josh Brener, Nora Zeh...</td>\n",
       "    </tr>\n",
       "    <tr>\n",
       "      <th>6231</th>\n",
       "      <td>Little Baby Bum: Nursery Rhyme Friends</td>\n",
       "      <td>Nursery rhymes and original music for children...</td>\n",
       "      <td>Movies</td>\n",
       "      <td>Unknown cast</td>\n",
       "    </tr>\n",
       "    <tr>\n",
       "      <th>6232</th>\n",
       "      <td>A Young Doctor's Notebook and Other Stories</td>\n",
       "      <td>Set during the Russian Revolution, this comic ...</td>\n",
       "      <td>British TV Shows, TV Comedies, TV Dramas</td>\n",
       "      <td>Daniel Radcliffe, Jon Hamm, Adam Godley, Chris...</td>\n",
       "    </tr>\n",
       "    <tr>\n",
       "      <th>6233</th>\n",
       "      <td>Friends</td>\n",
       "      <td>This hit sitcom follows the merry misadventure...</td>\n",
       "      <td>Classic &amp; Cult TV, TV Comedies</td>\n",
       "      <td>Jennifer Aniston, Courteney Cox, Lisa Kudrow, ...</td>\n",
       "    </tr>\n",
       "  </tbody>\n",
       "</table>\n",
       "<p>6234 rows × 4 columns</p>\n",
       "</div>"
      ],
      "text/plain": [
       "                                            title  \\\n",
       "0         Norm of the North: King Sized Adventure   \n",
       "1                      Jandino: Whatever it Takes   \n",
       "2                              Transformers Prime   \n",
       "3                Transformers: Robots in Disguise   \n",
       "4                                    #realityhigh   \n",
       "...                                           ...   \n",
       "6229                                 Red vs. Blue   \n",
       "6230                                        Maron   \n",
       "6231       Little Baby Bum: Nursery Rhyme Friends   \n",
       "6232  A Young Doctor's Notebook and Other Stories   \n",
       "6233                                      Friends   \n",
       "\n",
       "                                            description  \\\n",
       "0     Before planning an awesome wedding for his gra...   \n",
       "1     Jandino Asporaat riffs on the challenges of ra...   \n",
       "2     With the help of three human allies, the Autob...   \n",
       "3     When a prison ship crash unleashes hundreds of...   \n",
       "4     When nerdy high schooler Dani finally attracts...   \n",
       "...                                                 ...   \n",
       "6229  This parody of first-person shooter games, mil...   \n",
       "6230  Marc Maron stars as Marc Maron, who interviews...   \n",
       "6231  Nursery rhymes and original music for children...   \n",
       "6232  Set during the Russian Revolution, this comic ...   \n",
       "6233  This hit sitcom follows the merry misadventure...   \n",
       "\n",
       "                                              listed_in  \\\n",
       "0                    Children & Family Movies, Comedies   \n",
       "1                                       Stand-Up Comedy   \n",
       "2                                              Kids' TV   \n",
       "3                                              Kids' TV   \n",
       "4                                              Comedies   \n",
       "...                                                 ...   \n",
       "6229  TV Action & Adventure, TV Comedies, TV Sci-Fi ...   \n",
       "6230                                        TV Comedies   \n",
       "6231                                             Movies   \n",
       "6232           British TV Shows, TV Comedies, TV Dramas   \n",
       "6233                     Classic & Cult TV, TV Comedies   \n",
       "\n",
       "                                                   cast  \n",
       "0     Alan Marriott, Andrew Toth, Brian Dobson, Cole...  \n",
       "1                                      Jandino Asporaat  \n",
       "2     Peter Cullen, Sumalee Montano, Frank Welker, J...  \n",
       "3     Will Friedle, Darren Criss, Constance Zimmer, ...  \n",
       "4     Nesta Cooper, Kate Walsh, John Michael Higgins...  \n",
       "...                                                 ...  \n",
       "6229  Burnie Burns, Jason Saldaña, Gustavo Sorola, G...  \n",
       "6230  Marc Maron, Judd Hirsch, Josh Brener, Nora Zeh...  \n",
       "6231                                       Unknown cast  \n",
       "6232  Daniel Radcliffe, Jon Hamm, Adam Godley, Chris...  \n",
       "6233  Jennifer Aniston, Courteney Cox, Lisa Kudrow, ...  \n",
       "\n",
       "[6234 rows x 4 columns]"
      ]
     },
     "execution_count": 379,
     "metadata": {},
     "output_type": "execute_result"
    }
   ],
   "source": [
    "df"
   ]
  },
  {
   "cell_type": "code",
   "execution_count": 380,
   "metadata": {},
   "outputs": [],
   "source": [
    "#Clean the description column\n",
    "df[\"description\"] = df[\"description\"].str.lower() #converting all words to lower \n",
    "df[\"description\"] = df[\"description\"].str.split() #creating each description to a list\n",
    "df[\"description\"] = df[\"description\"].apply(lambda x: pd.Series(''.join([word + ' ' for word in x if word not in stop_words]))) #need to get aslak to explain\n",
    "df[\"description\"] = df[\"description\"].apply(lambda x: x.replace(',','')) #Removing commas\n",
    "df[\"description\"] = df[\"description\"].apply(lambda x: x.replace('.','')) #Removing dots"
   ]
  },
  {
   "cell_type": "code",
   "execution_count": 381,
   "metadata": {},
   "outputs": [],
   "source": [
    "#Clean the listed in column\n",
    "df[\"listed_in\"] = df[\"listed_in\"].str.lower()\n",
    "df[\"listed_in\"] = df[\"listed_in\"].str.split()\n",
    "df[\"listed_in\"] = df[\"listed_in\"].apply(lambda x: pd.Series(''.join([word + ' ' for word in x if word not in stop_words])))\n",
    "df[\"listed_in\"] = df[\"listed_in\"].apply(lambda x: x.replace(',',''))\n",
    "df[\"listed_in\"] = df[\"listed_in\"].apply(lambda x: x.replace('.',''))\n",
    "df[\"listed_in\"] = df[\"listed_in\"].apply(lambda x: x.replace('&',''))"
   ]
  },
  {
   "cell_type": "code",
   "execution_count": 382,
   "metadata": {},
   "outputs": [],
   "source": [
    "#Clean the cast column\n",
    "df[\"cast\"] = df[\"cast\"].str.lower()\n",
    "df[\"cast\"] = df[\"cast\"].apply(lambda x: x.replace(' ','')) #removing whitespace between first and last name so cosine similraity checks entire actor name, and not only first name and last name\n",
    "df[\"cast\"] = df[\"cast\"].apply(lambda x: x.replace(',',' ')) \n",
    "\n"
   ]
  },
  {
   "cell_type": "code",
   "execution_count": 384,
   "metadata": {},
   "outputs": [],
   "source": [
    "#Combine description, listed_in and cast as new column \n",
    "df[\"all_info\"] = df[\"description\"] + df[\"listed_in\"] + df[\"cast\"]\n",
    "#df.iloc[0].all_info run this line to see an example"
   ]
  },
  {
   "cell_type": "code",
   "execution_count": 388,
   "metadata": {},
   "outputs": [
    {
     "data": {
      "text/html": [
       "<div>\n",
       "<style scoped>\n",
       "    .dataframe tbody tr th:only-of-type {\n",
       "        vertical-align: middle;\n",
       "    }\n",
       "\n",
       "    .dataframe tbody tr th {\n",
       "        vertical-align: top;\n",
       "    }\n",
       "\n",
       "    .dataframe thead th {\n",
       "        text-align: right;\n",
       "    }\n",
       "</style>\n",
       "<table border=\"1\" class=\"dataframe\">\n",
       "  <thead>\n",
       "    <tr style=\"text-align: right;\">\n",
       "      <th></th>\n",
       "      <th>title</th>\n",
       "      <th>description</th>\n",
       "      <th>listed_in</th>\n",
       "      <th>cast</th>\n",
       "      <th>all_info</th>\n",
       "    </tr>\n",
       "  </thead>\n",
       "  <tbody>\n",
       "    <tr>\n",
       "      <th>0</th>\n",
       "      <td>Norm of the North: King Sized Adventure</td>\n",
       "      <td>planning awesome wedding grandfather polar bea...</td>\n",
       "      <td>children  family movies comedies</td>\n",
       "      <td>alanmarriott andrewtoth briandobson colehoward...</td>\n",
       "      <td>planning awesome wedding grandfather polar bea...</td>\n",
       "    </tr>\n",
       "    <tr>\n",
       "      <th>1</th>\n",
       "      <td>Jandino: Whatever it Takes</td>\n",
       "      <td>jandino asporaat riffs challenges raising kids...</td>\n",
       "      <td>stand-up comedy</td>\n",
       "      <td>jandinoasporaat</td>\n",
       "      <td>jandino asporaat riffs challenges raising kids...</td>\n",
       "    </tr>\n",
       "    <tr>\n",
       "      <th>2</th>\n",
       "      <td>Transformers Prime</td>\n",
       "      <td>help three human allies autobots protect earth...</td>\n",
       "      <td>kids' tv</td>\n",
       "      <td>petercullen sumaleemontano frankwelker jeffrey...</td>\n",
       "      <td>help three human allies autobots protect earth...</td>\n",
       "    </tr>\n",
       "    <tr>\n",
       "      <th>3</th>\n",
       "      <td>Transformers: Robots in Disguise</td>\n",
       "      <td>prison ship crash unleashes hundreds deceptico...</td>\n",
       "      <td>kids' tv</td>\n",
       "      <td>willfriedle darrencriss constancezimmer kharyp...</td>\n",
       "      <td>prison ship crash unleashes hundreds deceptico...</td>\n",
       "    </tr>\n",
       "    <tr>\n",
       "      <th>4</th>\n",
       "      <td>#realityhigh</td>\n",
       "      <td>nerdy high schooler dani finally attracts inte...</td>\n",
       "      <td>comedies</td>\n",
       "      <td>nestacooper katewalsh johnmichaelhiggins keith...</td>\n",
       "      <td>nerdy high schooler dani finally attracts inte...</td>\n",
       "    </tr>\n",
       "    <tr>\n",
       "      <th>...</th>\n",
       "      <td>...</td>\n",
       "      <td>...</td>\n",
       "      <td>...</td>\n",
       "      <td>...</td>\n",
       "      <td>...</td>\n",
       "    </tr>\n",
       "    <tr>\n",
       "      <th>6229</th>\n",
       "      <td>Red vs. Blue</td>\n",
       "      <td>parody first-person shooter games military lif...</td>\n",
       "      <td>tv action  adventure tv comedies tv sci-fi  fa...</td>\n",
       "      <td>burnieburns jasonsaldaña gustavosorola geoffla...</td>\n",
       "      <td>parody first-person shooter games military lif...</td>\n",
       "    </tr>\n",
       "    <tr>\n",
       "      <th>6230</th>\n",
       "      <td>Maron</td>\n",
       "      <td>marc maron stars marc maron interviews fellow ...</td>\n",
       "      <td>tv comedies</td>\n",
       "      <td>marcmaron juddhirsch joshbrener norazehetner a...</td>\n",
       "      <td>marc maron stars marc maron interviews fellow ...</td>\n",
       "    </tr>\n",
       "    <tr>\n",
       "      <th>6231</th>\n",
       "      <td>Little Baby Bum: Nursery Rhyme Friends</td>\n",
       "      <td>nursery rhymes original music children accompa...</td>\n",
       "      <td>movies</td>\n",
       "      <td>unknowncast</td>\n",
       "      <td>nursery rhymes original music children accompa...</td>\n",
       "    </tr>\n",
       "    <tr>\n",
       "      <th>6232</th>\n",
       "      <td>A Young Doctor's Notebook and Other Stories</td>\n",
       "      <td>set russian revolution comic miniseries based ...</td>\n",
       "      <td>british tv shows tv comedies tv dramas</td>\n",
       "      <td>danielradcliffe jonhamm adamgodley christopher...</td>\n",
       "      <td>set russian revolution comic miniseries based ...</td>\n",
       "    </tr>\n",
       "    <tr>\n",
       "      <th>6233</th>\n",
       "      <td>Friends</td>\n",
       "      <td>hit sitcom follows merry misadventures six 20-...</td>\n",
       "      <td>classic  cult tv tv comedies</td>\n",
       "      <td>jenniferaniston courteneycox lisakudrow mattle...</td>\n",
       "      <td>hit sitcom follows merry misadventures six 20-...</td>\n",
       "    </tr>\n",
       "  </tbody>\n",
       "</table>\n",
       "<p>6234 rows × 5 columns</p>\n",
       "</div>"
      ],
      "text/plain": [
       "                                            title  \\\n",
       "0         Norm of the North: King Sized Adventure   \n",
       "1                      Jandino: Whatever it Takes   \n",
       "2                              Transformers Prime   \n",
       "3                Transformers: Robots in Disguise   \n",
       "4                                    #realityhigh   \n",
       "...                                           ...   \n",
       "6229                                 Red vs. Blue   \n",
       "6230                                        Maron   \n",
       "6231       Little Baby Bum: Nursery Rhyme Friends   \n",
       "6232  A Young Doctor's Notebook and Other Stories   \n",
       "6233                                      Friends   \n",
       "\n",
       "                                            description  \\\n",
       "0     planning awesome wedding grandfather polar bea...   \n",
       "1     jandino asporaat riffs challenges raising kids...   \n",
       "2     help three human allies autobots protect earth...   \n",
       "3     prison ship crash unleashes hundreds deceptico...   \n",
       "4     nerdy high schooler dani finally attracts inte...   \n",
       "...                                                 ...   \n",
       "6229  parody first-person shooter games military lif...   \n",
       "6230  marc maron stars marc maron interviews fellow ...   \n",
       "6231  nursery rhymes original music children accompa...   \n",
       "6232  set russian revolution comic miniseries based ...   \n",
       "6233  hit sitcom follows merry misadventures six 20-...   \n",
       "\n",
       "                                              listed_in  \\\n",
       "0                     children  family movies comedies    \n",
       "1                                      stand-up comedy    \n",
       "2                                             kids' tv    \n",
       "3                                             kids' tv    \n",
       "4                                             comedies    \n",
       "...                                                 ...   \n",
       "6229  tv action  adventure tv comedies tv sci-fi  fa...   \n",
       "6230                                       tv comedies    \n",
       "6231                                            movies    \n",
       "6232            british tv shows tv comedies tv dramas    \n",
       "6233                      classic  cult tv tv comedies    \n",
       "\n",
       "                                                   cast  \\\n",
       "0     alanmarriott andrewtoth briandobson colehoward...   \n",
       "1                                       jandinoasporaat   \n",
       "2     petercullen sumaleemontano frankwelker jeffrey...   \n",
       "3     willfriedle darrencriss constancezimmer kharyp...   \n",
       "4     nestacooper katewalsh johnmichaelhiggins keith...   \n",
       "...                                                 ...   \n",
       "6229  burnieburns jasonsaldaña gustavosorola geoffla...   \n",
       "6230  marcmaron juddhirsch joshbrener norazehetner a...   \n",
       "6231                                        unknowncast   \n",
       "6232  danielradcliffe jonhamm adamgodley christopher...   \n",
       "6233  jenniferaniston courteneycox lisakudrow mattle...   \n",
       "\n",
       "                                               all_info  \n",
       "0     planning awesome wedding grandfather polar bea...  \n",
       "1     jandino asporaat riffs challenges raising kids...  \n",
       "2     help three human allies autobots protect earth...  \n",
       "3     prison ship crash unleashes hundreds deceptico...  \n",
       "4     nerdy high schooler dani finally attracts inte...  \n",
       "...                                                 ...  \n",
       "6229  parody first-person shooter games military lif...  \n",
       "6230  marc maron stars marc maron interviews fellow ...  \n",
       "6231  nursery rhymes original music children accompa...  \n",
       "6232  set russian revolution comic miniseries based ...  \n",
       "6233  hit sitcom follows merry misadventures six 20-...  \n",
       "\n",
       "[6234 rows x 5 columns]"
      ]
     },
     "execution_count": 388,
     "metadata": {},
     "output_type": "execute_result"
    }
   ],
   "source": [
    "df"
   ]
  },
  {
   "cell_type": "markdown",
   "metadata": {},
   "source": [
    "Now that we for each title have a single column containing information about the description, the genres and the cast, we can count instances of different words and create a matrix containing instances count of unique words. This can be acheived by using sklearn.feature_extraction.text.CountVectorizer, which is described to \"convert a collection of text documents to a matrix of token counts \\[source: https://scikit-learn.org/stable/modules/generated/sklearn.feature_extraction.text.CountVectorizer.html ]. "
   ]
  },
  {
   "cell_type": "code",
   "execution_count": 385,
   "metadata": {},
   "outputs": [],
   "source": [
    "from sklearn.feature_extraction.text import CountVectorizer\n",
    "cv = CountVectorizer() #Initialize a CountVectorizer object\n",
    "count_matrix = cv.fit_transform(df[\"all_info\"]) # Identify and count instances in the \"all_info\" column. \n",
    "# print(count_matrix.toarray()) print this line to get a feeling of what the count_matrix looks like"
   ]
  },
  {
   "cell_type": "markdown",
   "metadata": {},
   "source": [
    "Once the count_matrix is acheived, the next step is to find the cosine similarity. For this purpose, sklearn.metrics.pairwise.cosine_similarity is used \\[source: https://scikit-learn.org/stable/modules/generated/sklearn.metrics.pairwise.cosine_similarity.html]."
   ]
  },
  {
   "cell_type": "code",
   "execution_count": 399,
   "metadata": {},
   "outputs": [],
   "source": [
    "from sklearn.metrics.pairwise import cosine_similarity\n",
    "\n",
    "cos_sim = cosine_similarity(count_matrix) #Now the cosine similarities have been quantified\n",
    "#print(cos_sim) print this line to get a feeling of what cosine sims looks like\n",
    "\n",
    "#Defining two helper functions\n",
    "def get_title_from_idx(df,idx):\n",
    "    \"\"\"\n",
    "    Returns the title of a entry from a given index\n",
    "    \"\"\"\n",
    "    return df[df.index == idx].title.values[0]\n",
    "#df[df.index == index][\"title\"].values[0]\n",
    "\n",
    "def get_idx_from_title(df,title):\n",
    "    \"\"\"\n",
    "    Returns the index of a movie from a given title\n",
    "    \"\"\"\n",
    "    return df[df[\"title\"]==title].index.values.astype(int)[0]"
   ]
  },
  {
   "cell_type": "code",
   "execution_count": 392,
   "metadata": {},
   "outputs": [],
   "source": [
    "title_user_likes = \"Transformers Prime\"\n",
    "title_idx = get_idx_from_title(df,title_user_likes) #identify the index of the title that the user likes"
   ]
  },
  {
   "cell_type": "markdown",
   "metadata": {},
   "source": [
    "With the index of the movie, we can find the list of the cosine similarities for the specific title. This is done by:"
   ]
  },
  {
   "cell_type": "code",
   "execution_count": 394,
   "metadata": {},
   "outputs": [],
   "source": [
    "specific_cos_sim = cos_sim[title_idx]"
   ]
  },
  {
   "cell_type": "markdown",
   "metadata": {},
   "source": [
    "We need to keep track of the indexes elements in the specific_cos_sim scores. By enumerating, the array of cosine similarity scores are converted into tuples containing the index and the scores. Finally, by converting these tuples into a list, we get a list of tuples containing the index and the scores:"
   ]
  },
  {
   "cell_type": "code",
   "execution_count": 395,
   "metadata": {},
   "outputs": [],
   "source": [
    "similar_content = list(enumerate(specific_cos_sim))"
   ]
  },
  {
   "cell_type": "markdown",
   "metadata": {},
   "source": [
    "Now we wish to sort the list of tuples based on similarity scores. \n",
    "\n",
    "This is acheived by using the built-in sorted() function in python. The sorted() function buils a new list. In the official documentation for the sorted()-function, it says that the key should specify a function of one argument that is used to extract a comparison key for each element in the iterable. We wish to sort on second value for each tuple (wich is the cosine similirity score). I therefore define a function to acheive this:\n",
    "\n",
    "source:\n",
    "https://docs.python.org/3/library/functions.html#sorted"
   ]
  },
  {
   "cell_type": "code",
   "execution_count": 402,
   "metadata": {},
   "outputs": [
    {
     "name": "stdout",
     "output_type": "stream",
     "text": [
      "Top 5 titles similar to Transformers Prime are:\n",
      "\n",
      "Transformers: Robots in Disguise\n",
      "You vs. Wild\n",
      "All Hail King Julien: Exiled\n",
      "We Bare Bears\n",
      "Mutant Busters\n"
     ]
    }
   ],
   "source": [
    "def key_func(val):\n",
    "    return val[1]\n",
    "\n",
    "sorted_similar = sorted(similar_content,key=key_func,reverse=True) #using reverse because we wish to sort by descending order\n",
    "#note, could also have used key = lambda x: x[1]\n",
    "sorted_similar_suggestions = sorted_similar[1:] #Skip the first because this will suggest itself\n",
    "\n",
    "\n",
    "#Print top 5 similar content:\n",
    "i = 0\n",
    "print(\"Top 5 titles similar to \"+movie_user_likes+\" are:\\n\")\n",
    "for e in sorted_similar_suggestions:\n",
    "    print(get_title_from_idx(recom_df,e[0])) #As above, we have a list of tuples, where index 0 is key and inde 1 is cosine sim score. Therefore give index (e[0]) to function.\n",
    "    i+=1\n",
    "    if i >= 5:\n",
    "        break\n"
   ]
  }
 ],
 "metadata": {
  "kernelspec": {
   "display_name": "Python 3",
   "language": "python",
   "name": "python3"
  },
  "language_info": {
   "codemirror_mode": {
    "name": "ipython",
    "version": 3
   },
   "file_extension": ".py",
   "mimetype": "text/x-python",
   "name": "python",
   "nbconvert_exporter": "python",
   "pygments_lexer": "ipython3",
   "version": "3.7.9"
  }
 },
 "nbformat": 4,
 "nbformat_minor": 4
}
