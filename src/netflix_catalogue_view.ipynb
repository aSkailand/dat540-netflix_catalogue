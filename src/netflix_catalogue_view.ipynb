{
 "cells": [
  {
   "cell_type": "markdown",
   "metadata": {},
   "source": [
    "# Analysis of the Netflix catalogue\n",
    "## Visualization, data mining and prediction of data\n",
    "This notebook contains the results by using the aformentioned techniques in order to get an understanding of how the netflix catalogue has evolved over the years as well as representing the data in an understandable manner.\n",
    "\n",
    "Most of the python code that does the heavy lifting i.e data sanitizing, crunching of numbers and magic resides in seperate .py files in order to keep the notbook clean, only featuring code that is relevant for plot and other visualization.\n",
    "\n"
   ]
  },
  {
   "cell_type": "markdown",
   "metadata": {},
   "source": [
    "# Python setup\n",
    "We recommend opening this notebook using JupyterLab in order to be able to view all the interactive plots.\n",
    "\n",
    "NB! Please only run this one time as the change director command will keep moving the notebook directory up the directory tree, this causes the filepath defined in the code to not agree with the current directory of the notebook. Restart kernel if IOError occurs. \n",
    "\n"
   ]
  },
  {
   "cell_type": "code",
   "execution_count": null,
   "metadata": {},
   "outputs": [],
   "source": [
    "# Only run this cell one time. Restart kernel and run again to fix IOError.\n",
    "import os\n",
    "import yrs_months\n",
    "\n",
    "# Changes the notebook working directory on level up.\n",
    "%cd ..\n",
    "\n",
    "# Running main python script.\n",
    "%run -i \"src/main.py\"\n",
    "\n",
    "# Data set from main.py\n",
    "data_set"
   ]
  },
  {
   "cell_type": "markdown",
   "metadata": {},
   "source": [
    "# Chapter 1. Genre analysis"
   ]
  },
  {
   "cell_type": "markdown",
   "metadata": {},
   "source": [
    "## Most Popular movie and series genres\n",
    "### Discarding the 'movie' and 'tv show'  entry in the genre list and "
   ]
  },
  {
   "cell_type": "code",
   "execution_count": null,
   "metadata": {},
   "outputs": [],
   "source": [
    "from matplotlib import pyplot as plt\n",
    "\n",
    "plt.figure(figsize = (15,15))\n",
    "plt.pie(\n",
    "    [genre_value for genre_value in pop_movie_genre.values()],\n",
    "    labels=[genre_keys for genre_keys in pop_movie_genre.keys()],\n",
    "    autopct=None\n",
    ")\n",
    "plt.show()"
   ]
  },
  {
   "cell_type": "code",
   "execution_count": null,
   "metadata": {},
   "outputs": [],
   "source": [
    "from matplotlib import pyplot as plt\n",
    "\n",
    "plt.figure(figsize = (15,15))\n",
    "plt.pie(\n",
    "    [genre_value for genre_value in pop_series_genre.values()],\n",
    "    labels=[genre_keys for genre_keys in pop_series_genre.keys()],\n",
    "    autopct=None\n",
    ")\n",
    "plt.show()\n"
   ]
  },
  {
   "cell_type": "markdown",
   "metadata": {},
   "source": [
    "# Classifying directors  from heatmap."
   ]
  },
  {
   "cell_type": "markdown",
   "metadata": {},
   "source": [
    "### Creating director - genre matrix"
   ]
  },
  {
   "cell_type": "code",
   "execution_count": null,
   "metadata": {},
   "outputs": [],
   "source": [
    "populated = director_classification.populate_director_genre_dataframe()"
   ]
  },
  {
   "cell_type": "code",
   "execution_count": null,
   "metadata": {},
   "outputs": [],
   "source": [
    "import copy\n",
    "import seaborn as sns\n",
    "\n",
    "# Copying dataframe in order to not directly mutating the populated list\n",
    "# as it takes some time to create the populatedDirector list\n",
    "copy = copy.copy(populated)\n",
    "\n",
    "for d in copy:\n",
    "    # Dropping directors columns that has less that 8 registered movies in total in addition to unknown director.\n",
    "    if (copy[d].sum() < 8.0 or d == 'Unknown director'):\n",
    "        copy.drop([d],  axis=1, inplace = True)\n",
    "\n",
    "sns.heatmap(copy) # Creating heatmap\n",
    "plt.show()"
   ]
  },
  {
   "cell_type": "markdown",
   "metadata": {},
   "source": [
    "From this heatmap containing the most active directors in the Netflix catalogue we can \"classify\" which genre a certain director is. By analysing the heatmap we can clearly state that \"Stand-Up Comedy\" is the genre that director is most active in and that Jan Suter is a \"Stand-Up Comedy\" director. McG can be with some certanty be classified as a \"Action & Adventure\" director."
   ]
  },
  {
   "cell_type": "markdown",
   "metadata": {},
   "source": [
    "# Genres added per year (Sander)\n",
    "## The following plots shows the frequency of when genres were added"
   ]
  },
  {
   "cell_type": "code",
   "execution_count": null,
   "metadata": {},
   "outputs": [],
   "source": [
    "import pandas as pd\n",
    "import numpy as np\n",
    "import correlation_between_genres\n",
    "import matplotlib.pyplot as plt\n",
    "import chord\n",
    "\n",
    "df = pd.DataFrame(pd.read_csv('netflix_titles.csv'))\n",
    "dfMovies = df[df['type'] == 'Movie']\n",
    "dfSeries = df[df['type'] == 'TV Show']"
   ]
  },
  {
   "cell_type": "markdown",
   "metadata": {},
   "source": [
    "# Handling null values\n",
    "### Number of movies and series which have missing date for when they were added."
   ]
  },
  {
   "cell_type": "code",
   "execution_count": null,
   "metadata": {},
   "outputs": [],
   "source": [
    "missingMovieDates = len(dfMovies[dfMovies['date_added'].isnull()])\n",
    "missingSeriesDates = len(dfSeries[dfSeries['date_added'].isnull()])\n",
    "print('Total number of movies having a unknown date they were added: ', missingMovieDates)\n",
    "print('Total number of series having a unknown date they were added: ', missingSeriesDates)"
   ]
  },
  {
   "cell_type": "code",
   "execution_count": null,
   "metadata": {},
   "outputs": [],
   "source": [
    "def genresAddedPerYear(df: pd.DataFrame) -> pd.DataFrame:\n",
    "    # Gets the dates from the dateFrame and converts the format to datetime\n",
    "    dates = pd.to_datetime(df['date_added'])\n",
    "    # Removes day and month, as we are only interested in the year\n",
    "    dates = dates.dt.year\n",
    "\n",
    "\n",
    "    # Splits the listed_in column into individual genre columns\n",
    "    genres = correlation_between_genres.genresOfMoviesSeries(df)\n",
    "\n",
    "    # Puts dates and genres into one table\n",
    "    genreAdded = correlation_between_genres.genresOfMoviesSeries(df)\n",
    "    genreAdded.insert(0, 'date_added', dates)\n",
    "\n",
    "    # Change cells with no value to None\n",
    "    genreAdded = genreAdded.where(genreAdded.notnull(), None)\n",
    "\n",
    "    # Name of every genre\n",
    "    uniqueGenres = correlation_between_genres.totalOccurenceOfGenres(genres).keys().tolist()\n",
    "    uniqueYears = genreAdded['date_added'].unique()\n",
    "    # Flip the list to get the columns in the next step in ascending order from left to right\n",
    "    uniqueYears = np.flip(uniqueYears)\n",
    "    # Removing nan value\n",
    "    uniqueYears = uniqueYears[1:]\n",
    "    uniqueYears = np.sort(uniqueYears)\n",
    "\n",
    "    genresAddedPerYear = pd.DataFrame(0, index = uniqueGenres, columns=uniqueYears)\n",
    "\n",
    "\n",
    "    for i, movie in genreAdded.iterrows():\n",
    "        yearAdded = movie['date_added']\n",
    "        genresOfMovie = movie[1:4]\n",
    "\n",
    "        for genre in genresOfMovie:\n",
    "            if (yearAdded == None or genre == None):\n",
    "                continue\n",
    "            genresAddedPerYear[yearAdded][genre] += 1\n",
    "    \n",
    "    return genresAddedPerYear"
   ]
  },
  {
   "cell_type": "markdown",
   "metadata": {},
   "source": [
    "### DataFrame showing how many movies/series with a given genre was added per year. Mind that a movie/series may have multiple genres and the sum of each column isn't the same as at number of movies/series added per year."
   ]
  },
  {
   "cell_type": "code",
   "execution_count": null,
   "metadata": {},
   "outputs": [],
   "source": [
    "genresAddedPerYearSeries = genresAddedPerYear(dfSeries)\n",
    "genresAddedPerYearMovies = genresAddedPerYear(dfMovies)"
   ]
  },
  {
   "cell_type": "markdown",
   "metadata": {},
   "source": [
    "### Removing the data in the year 2020 as the year is not over yet and therefore is not representable"
   ]
  },
  {
   "cell_type": "code",
   "execution_count": null,
   "metadata": {},
   "outputs": [],
   "source": [
    "genresAddedPerYearSeries = genresAddedPerYearSeries.drop(2020, axis = 'columns')\n",
    "genresAddedPerYearMovies = genresAddedPerYearMovies.drop(2020, axis = 'columns')"
   ]
  },
  {
   "cell_type": "markdown",
   "metadata": {},
   "source": [
    "### Displaying DataFrames"
   ]
  },
  {
   "cell_type": "code",
   "execution_count": null,
   "metadata": {},
   "outputs": [],
   "source": [
    "display(genresAddedPerYearSeries)\n",
    "display(genresAddedPerYearMovies)"
   ]
  },
  {
   "cell_type": "markdown",
   "metadata": {},
   "source": [
    "# Visualizing the data"
   ]
  },
  {
   "cell_type": "code",
   "execution_count": null,
   "metadata": {},
   "outputs": [],
   "source": [
    "movieGenres = genresAddedPerYearMovies.index\n",
    "seriesGenres = genresAddedPerYearSeries.index\n",
    "\n",
    "fig, (ax1, ax2) = plt.subplots(1, 2, )\n",
    "fig.subplots_adjust(right = 2, top = 1)\n",
    "\n",
    "ax1.set_xlabel('Years')\n",
    "ax1.set_ylabel('Added to genre')\n",
    "ax1.set_title('Movies added to genre per year', fontweight = 'bold')\n",
    "\n",
    "ax2.set_xlabel('Years')\n",
    "ax2.set_ylabel('Added to genre')\n",
    "ax2.set_title('Series added to genre per year', fontweight = 'bold')\n",
    "\n",
    "\n",
    "\n",
    "for genre in movieGenres:\n",
    "    ax1.plot(genresAddedPerYearMovies.loc[genre], marker = '.')\n",
    "\n",
    "for genre in seriesGenres:\n",
    "    ax2.plot(genresAddedPerYearSeries.loc[genre], marker = '.')\n",
    "\n",
    "ax1.legend(movieGenres, loc = 2, fontsize = 5)\n",
    "ax2.legend(seriesGenres, loc = 2, fontsize = 5)\n",
    "plt.show()"
   ]
  },
  {
   "cell_type": "markdown",
   "metadata": {},
   "source": [
    "## Genres added per year\n",
    "We can tell from these two plots that the amount of new content added has been increasing every year, and the growth started to spike around 2015. We can also tell that there hasn't been added any new series in the years between 2008 and 2012. There are in total 11 movies/series missing a added date where 10 of them are series. Some of these, or all, might have been added in the years between 2008 and 2012, but we don't really know."
   ]
  },
  {
   "cell_type": "code",
   "execution_count": null,
   "metadata": {},
   "outputs": [],
   "source": [
    "def genreCombos(df: pd.DataFrame) -> pd.DataFrame:\n",
    "        # Genre of every movie/series\n",
    "    genres = correlation_between_genres.genresOfMoviesSeries(df)\n",
    "\n",
    "    # How many occurences a genre needs to have to be included in the data\n",
    "    TOTAL_OCCURENCE_THRESHOLD = 100\n",
    "\n",
    "    # How many times a genre occurs\n",
    "    genreOccurence = correlation_between_genres.totalOccurenceOfGenres(genres)\n",
    "\n",
    "    # Only keeping genres that has an occurence higher than the threshold\n",
    "    genreOccurence = genreOccurence[genreOccurence > TOTAL_OCCURENCE_THRESHOLD]\n",
    "\n",
    "    # Cross-section between genres\n",
    "    corrMatrix = pd.DataFrame(index = genreOccurence.keys(), columns = genreOccurence.keys())\n",
    "\n",
    "    # Filling corrMatrix with values\n",
    "    for genre1 in corrMatrix.keys():\n",
    "        for genre2 in corrMatrix.keys():\n",
    "            mainGenre = correlation_between_genres.moviesSeriesWithGenre(genres, genre1)\n",
    "            genreCombination = correlation_between_genres.moviesSeriesWithGenre(mainGenre, genre2)\n",
    "\n",
    "            if(genre1 == genre2):\n",
    "                corrMatrix[genre1][genre2] = 0\n",
    "            else:\n",
    "                corrMatrix[genre1][genre2] = len(genreCombination)\n",
    "                \n",
    "    return corrMatrix"
   ]
  },
  {
   "cell_type": "markdown",
   "metadata": {},
   "source": [
    "### Combination of genres in movies\n",
    "NB! As mentioned before in order to show this plot open in JupyterLab."
   ]
  },
  {
   "cell_type": "code",
   "execution_count": null,
   "metadata": {},
   "outputs": [],
   "source": [
    "moviesGenreCombos = genreCombos(dfMovies)\n",
    "\n",
    "# Converts the cross-section matrix to a list as it is needed it the next step.\n",
    "genreCombinationValues = moviesGenreCombos.values.tolist()\n",
    "genreNames = moviesGenreCombos.index.tolist()\n",
    "\n",
    "# NOTE: Requires to be run in jupyter lab as the plot won't show in notebook.\n",
    "chord.Chord(genreCombinationValues, genreNames, margin=80, font_size_large='10px').show()"
   ]
  },
  {
   "cell_type": "markdown",
   "metadata": {},
   "source": [
    "### Combination of genres in movies\n",
    "NB! As mentioned before in order to show this plot open in JupyterLab."
   ]
  },
  {
   "cell_type": "code",
   "execution_count": null,
   "metadata": {},
   "outputs": [],
   "source": [
    "moviesGenreCombos = genreCombos(dfSeries)\n",
    "\n",
    "# Converts the cross-section matrix to a list as it is needed it the next step.\n",
    "genreCombinationValues = moviesGenreCombos.values.tolist()\n",
    "genreNames = moviesGenreCombos.index.tolist()\n",
    "\n",
    "# NOTE: Requires to be run in jupyter lab as the plot won't show in notebook.\n",
    "chord.Chord(genreCombinationValues, genreNames, margin=80, font_size_large='10px').show()"
   ]
  },
  {
   "cell_type": "markdown",
   "metadata": {},
   "source": [
    "## Chapter 1.2 - Patterns in genres (Aleksander)"
   ]
  },
  {
   "cell_type": "code",
   "execution_count": null,
   "metadata": {},
   "outputs": [],
   "source": [
    "#Work with desired data\n",
    "df = data_set[[\"type\",\"date_added\"]].copy()\n",
    "df = yrs_months.valid_dates(df)\n",
    "df"
   ]
  },
  {
   "cell_type": "code",
   "execution_count": null,
   "metadata": {},
   "outputs": [],
   "source": [
    "#Get month and year columns\n",
    "df = yrs_months.create_month_column(df)\n",
    "df = yrs_months.create_year_column(df)\n",
    "df"
   ]
  },
  {
   "cell_type": "code",
   "execution_count": null,
   "metadata": {},
   "outputs": [],
   "source": [
    "months = yrs_months.all_months()\n",
    "years = yrs_months.all_years()"
   ]
  },
  {
   "cell_type": "code",
   "execution_count": null,
   "metadata": {},
   "outputs": [],
   "source": [
    "df = yrs_months.create_table(df)"
   ]
  },
  {
   "cell_type": "code",
   "execution_count": null,
   "metadata": {},
   "outputs": [],
   "source": [
    "df"
   ]
  },
  {
   "cell_type": "code",
   "execution_count": null,
   "metadata": {},
   "outputs": [],
   "source": [
    "yrs_months.heatmap(df,title=\"Content update per month and year\",xlab=\"Month\",ylab=\"Year\")"
   ]
  },
  {
   "cell_type": "code",
   "execution_count": null,
   "metadata": {},
   "outputs": [],
   "source": [
    "#Christmas\n",
    "df_xmas = data_set[[\"date_added\",\"description\"]].copy()\n",
    "df_xmas = df_xmas[df_xmas[\"description\"].str.contains(\"Christmas\")]\n",
    "df_xmas "
   ]
  },
  {
   "cell_type": "code",
   "execution_count": null,
   "metadata": {},
   "outputs": [],
   "source": [
    "df_xmas = yrs_months.valid_dates(df_xmas) #Remova all dates with \"Uknown date_added\"\n",
    "df_xmas = yrs_months.create_month_column(df_xmas) #Create month column\n",
    "df_xmas = yrs_months.create_year_column(df_xmas) #Create year column\n",
    "df_xmas"
   ]
  },
  {
   "cell_type": "code",
   "execution_count": null,
   "metadata": {},
   "outputs": [],
   "source": [
    "df_xmas_tab = yrs_months.create_table(df_xmas)"
   ]
  },
  {
   "cell_type": "code",
   "execution_count": null,
   "metadata": {},
   "outputs": [],
   "source": [
    "df_xmas_tab"
   ]
  },
  {
   "cell_type": "code",
   "execution_count": null,
   "metadata": {},
   "outputs": [],
   "source": [
    "yrs_months.heatmap(df_xmas_tab,title=\"Overview of when Christmas content is added\",xlab=\"Months\",ylab=\"Years\")"
   ]
  },
  {
   "cell_type": "code",
   "execution_count": null,
   "metadata": {},
   "outputs": [],
   "source": [
    "#Find all Horror related categories and see if more horror stuff comes before Halloween (should come in september/october)\n",
    "df_horror = data_set[[\"date_added\",\"listed_in\"]].copy()\n",
    "df_horror = df_horror[df_horror[\"listed_in\"].str.contains(\"Horror\")]"
   ]
  },
  {
   "cell_type": "code",
   "execution_count": null,
   "metadata": {},
   "outputs": [],
   "source": [
    "df_horror = yrs_months.valid_dates(df_horror)\n",
    "df_horror = yrs_months.create_month_column(df_horror)\n",
    "df_horror = yrs_months.create_year_column(df_horror)"
   ]
  },
  {
   "cell_type": "code",
   "execution_count": null,
   "metadata": {},
   "outputs": [],
   "source": [
    "df_horror"
   ]
  },
  {
   "cell_type": "code",
   "execution_count": null,
   "metadata": {},
   "outputs": [],
   "source": [
    "df_horror_tab = yrs_months.create_table(df_horror)"
   ]
  },
  {
   "cell_type": "code",
   "execution_count": null,
   "metadata": {},
   "outputs": [],
   "source": [
    "df_horror_tab"
   ]
  },
  {
   "cell_type": "code",
   "execution_count": null,
   "metadata": {},
   "outputs": [],
   "source": [
    "yrs_months.heatmap(df_horror_tab,title=\"Overview of when Horror content is added\",xlab=\"Months\",ylab=\"Years\")"
   ]
  },
  {
   "cell_type": "code",
   "execution_count": null,
   "metadata": {},
   "outputs": [],
   "source": [
    "#Love movies around valentines? should be added in jan/feb\n",
    "\n",
    "#Find all Romantic related categories and see if more horror stuff comes before Halloween (should come in september/october)\n",
    "df_romantic = data_set[[\"date_added\",\"listed_in\"]].copy()\n",
    "df_romantic = df_romantic[df_romantic[\"listed_in\"].str.contains(\"Romantic\")]\n",
    "df_romantic = yrs_months.valid_dates(df_romantic)\n",
    "df_romantic = yrs_months.create_month_column(df_romantic)\n",
    "df_romantic = yrs_months.create_year_column(df_romantic)\n",
    "df_romantic_tab = yrs_months.create_table(df_romantic)"
   ]
  },
  {
   "cell_type": "code",
   "execution_count": null,
   "metadata": {},
   "outputs": [],
   "source": [
    "yrs_months.heatmap(df_romantic_tab,title=\"sometitle\",xlab=\"fksd\",ylab=\"fonsd\")"
   ]
  },
  {
   "cell_type": "markdown",
   "metadata": {},
   "source": [
    "# Summary genre"
   ]
  }
 ],
 "metadata": {
  "anaconda-cloud": {},
  "kernelspec": {
   "display_name": "Python 3",
   "language": "python",
   "name": "python3"
  },
  "language_info": {
   "codemirror_mode": {
    "name": "ipython",
    "version": 3
   },
   "file_extension": ".py",
   "mimetype": "text/x-python",
   "name": "python",
   "nbconvert_exporter": "python",
   "pygments_lexer": "ipython3",
   "version": "3.8.3"
  }
 },
 "nbformat": 4,
 "nbformat_minor": 4
}
