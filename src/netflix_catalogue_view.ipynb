{
 "cells": [
  {
   "cell_type": "markdown",
   "metadata": {},
   "source": [
    "# Python setup"
   ]
  },
  {
   "cell_type": "code",
   "execution_count": null,
   "metadata": {},
   "outputs": [],
   "source": [
    "import os\n",
    "\n",
    "# Changes the notebook working directory on level up.\n",
    "%cd ..\n",
    "\n",
    "# Running main python script.\n",
    "%run -i \"src/main.py\"\n",
    "\n",
    "# Data set from main.py\n",
    "data_set"
   ]
  },
  {
   "cell_type": "code",
   "execution_count": null,
   "metadata": {
    "scrolled": true
   },
   "outputs": [],
   "source": []
  },
  {
   "cell_type": "code",
   "execution_count": null,
   "metadata": {},
   "outputs": [],
   "source": []
  },
  {
   "cell_type": "code",
   "execution_count": null,
   "metadata": {},
   "outputs": [],
   "source": []
  },
  {
   "cell_type": "code",
   "execution_count": null,
   "metadata": {},
   "outputs": [],
   "source": []
  },
  {
   "cell_type": "code",
   "execution_count": null,
   "metadata": {},
   "outputs": [],
   "source": []
  },
  {
   "cell_type": "code",
   "execution_count": null,
   "metadata": {},
   "outputs": [],
   "source": [
    "import datetime\n",
    "from matplotlib import pyplot as plt \n",
    "\n",
    "# all unique dates \n",
    "date_added = list(set(data_set['date_added']))\n",
    "\n",
    "datetime_list = []\n",
    "\n",
    "for date in date_added:\n",
    "    # remove ',' and leading whitespace from the date string\n",
    "    sanitized_date_string = date.replace(',', '').lstrip()\n",
    "    # discard unknown date\n",
    "    if ('Unknown' not in sanitized_date_string):\n",
    "        # convert to datetime object\n",
    "        datetime_format = datetime.datetime.strptime(sanitized_date_string, '%B %d %Y')\n",
    "        datetime_list.append(datetime_format)\n",
    "\n",
    "# sort the unique dates\n",
    "sorted_datetime = sorted(datetime_list)\n",
    "sorted_datetime_string_list = []\n",
    "# note that the datetime format is given in the format '%B %#d, %Y', the pound sign is needed \n",
    "# in order to remove leading zeroes in dates, '#' for windows '-' for linux (should the code not run)\n",
    "for datetime_object in sorted_datetime:\n",
    "    date_string = datetime_object.strftime('%B %#d, %Y')\n",
    "    sorted_datetime_string_list.append(date_string)\n",
    "    \n",
    "# TODO: visualize the categories when they were added (look for themes relating to that period)\n",
    "# TODO: visualize the frequency of categories added by dates (peak dates)\n",
    "\n",
    "date_freq_dict = dict()\n",
    "for date in sorted_datetime_string_list:\n",
    "    date_freq_dict[date] = len(data_set.loc[data_set['date_added'] == date])\n",
    "\n",
    "# Showing number of added assets for each unique date.\n",
    "plt.plot(list(date_freq_dict.keys()), list(date_freq_dict.values()))\n",
    "plt.show()\n",
    "    \n",
    "\n"
   ]
  },
  {
   "cell_type": "markdown",
   "metadata": {},
   "source": [
    "# Popular movie genres per country\n",
    "### Discarding the 'movie' entry in the genre list"
   ]
  },
  {
   "cell_type": "code",
   "execution_count": null,
   "metadata": {},
   "outputs": [],
   "source": [
    "from matplotlib import pyplot as plt\n",
    "\n",
    "plt.figure(figsize = (15,15))\n",
    "plt.pie(\n",
    "    [float(genre_value) for genre_value in pop_movie_genre.values()],\n",
    "    labels=[genre_keys for genre_keys in pop_movie_genre.keys()],\n",
    "    autopct=None\n",
    ")"
   ]
  },
  {
   "cell_type": "code",
   "execution_count": null,
   "metadata": {},
   "outputs": [],
   "source": [
    "from matplotlib import pyplot as plt\n",
    "\n",
    "plt.figure(figsize = (15,15))\n",
    "plt.pie(\n",
    "    [float(genre_value) for genre_value in pop_series_genre.values()],\n",
    "    labels=[genre_keys for genre_keys in pop_series_genre.keys()],\n",
    "    autopct=None\n",
    ")"
   ]
  },
  {
   "cell_type": "code",
   "execution_count": null,
   "metadata": {},
   "outputs": [],
   "source": []
  },
  {
   "cell_type": "code",
   "execution_count": null,
   "metadata": {},
   "outputs": [],
   "source": []
  },
  {
   "cell_type": "code",
   "execution_count": null,
   "metadata": {},
   "outputs": [],
   "source": []
  }
 ],
 "metadata": {
  "kernelspec": {
   "display_name": "Python 3",
   "language": "python",
   "name": "python3"
  },
  "language_info": {
   "codemirror_mode": {
    "name": "ipython",
    "version": 3
   },
   "file_extension": ".py",
   "mimetype": "text/x-python",
   "name": "python",
   "nbconvert_exporter": "python",
   "pygments_lexer": "ipython3",
   "version": "3.8.3"
  }
 },
 "nbformat": 4,
 "nbformat_minor": 4
}
