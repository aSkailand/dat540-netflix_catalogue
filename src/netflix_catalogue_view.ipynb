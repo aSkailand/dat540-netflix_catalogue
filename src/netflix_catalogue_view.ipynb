{
 "cells": [
  {
   "cell_type": "markdown",
   "metadata": {},
   "source": [
    "# Analysis of the Netflix catalogue\n",
    "## Visualization, data mining and prediction of data\n",
    "This notebook contains the results by using the aformentioned techniques in order to get an understanding of how the netflix catalogue has evolved over the years as well as representing the data in an understandable manner.\n",
    "\n",
    "Most of the python code that does the heavy lifting i.e data sanitizing, crunching of numbers and magic resides in seperate .py files in order to keep the notbook clean, only featuring code that is relevant for plot and other visualization.\n",
    "\n"
   ]
  },
  {
   "cell_type": "markdown",
   "metadata": {},
   "source": [
    "# Python setup\n",
    "We recommend opening this notebook using JupyterLab in order to be able to view all the interactive plots.\n",
    "\n",
    "NB! Please only run this one time as the change director command will keep moving the notebook directory up the directory tree, this causes the filepath defined in the code to not agree with the current directory of the notebook. Restart kernel if IOError occurs. \n",
    "\n"
   ]
  },
  {
   "cell_type": "code",
   "execution_count": 1,
   "metadata": {},
   "outputs": [
    {
     "name": "stdout",
     "output_type": "stream",
     "text": [
      "C:\\Users\\ASLAKSK\\study\\dat540-netflix_catalogue\n",
      "analyse gender representation? *takes up to 10 minutes* hit: [y]\n"
     ]
    },
    {
     "data": {
      "text/html": [
       "<div>\n",
       "<style scoped>\n",
       "    .dataframe tbody tr th:only-of-type {\n",
       "        vertical-align: middle;\n",
       "    }\n",
       "\n",
       "    .dataframe tbody tr th {\n",
       "        vertical-align: top;\n",
       "    }\n",
       "\n",
       "    .dataframe thead th {\n",
       "        text-align: right;\n",
       "    }\n",
       "</style>\n",
       "<table border=\"1\" class=\"dataframe\">\n",
       "  <thead>\n",
       "    <tr style=\"text-align: right;\">\n",
       "      <th></th>\n",
       "      <th>show_id</th>\n",
       "      <th>type</th>\n",
       "      <th>title</th>\n",
       "      <th>director</th>\n",
       "      <th>cast</th>\n",
       "      <th>country</th>\n",
       "      <th>date_added</th>\n",
       "      <th>release_year</th>\n",
       "      <th>rating</th>\n",
       "      <th>duration</th>\n",
       "      <th>listed_in</th>\n",
       "      <th>description</th>\n",
       "    </tr>\n",
       "  </thead>\n",
       "  <tbody>\n",
       "    <tr>\n",
       "      <th>0</th>\n",
       "      <td>81145628</td>\n",
       "      <td>Movie</td>\n",
       "      <td>Norm of the North: King Sized Adventure</td>\n",
       "      <td>Richard Finn, Tim Maltby</td>\n",
       "      <td>Alan Marriott, Andrew Toth, Brian Dobson, Cole...</td>\n",
       "      <td>United States, India, South Korea, China</td>\n",
       "      <td>September 9, 2019</td>\n",
       "      <td>2019</td>\n",
       "      <td>TV-PG</td>\n",
       "      <td>90 min</td>\n",
       "      <td>Children &amp; Family Movies, Comedies</td>\n",
       "      <td>Before planning an awesome wedding for his gra...</td>\n",
       "    </tr>\n",
       "    <tr>\n",
       "      <th>1</th>\n",
       "      <td>80117401</td>\n",
       "      <td>Movie</td>\n",
       "      <td>Jandino: Whatever it Takes</td>\n",
       "      <td>Unknown director</td>\n",
       "      <td>Jandino Asporaat</td>\n",
       "      <td>United Kingdom</td>\n",
       "      <td>September 9, 2016</td>\n",
       "      <td>2016</td>\n",
       "      <td>TV-MA</td>\n",
       "      <td>94 min</td>\n",
       "      <td>Stand-Up Comedy</td>\n",
       "      <td>Jandino Asporaat riffs on the challenges of ra...</td>\n",
       "    </tr>\n",
       "    <tr>\n",
       "      <th>2</th>\n",
       "      <td>70234439</td>\n",
       "      <td>TV Show</td>\n",
       "      <td>Transformers Prime</td>\n",
       "      <td>Unknown director</td>\n",
       "      <td>Peter Cullen, Sumalee Montano, Frank Welker, J...</td>\n",
       "      <td>United States</td>\n",
       "      <td>September 8, 2018</td>\n",
       "      <td>2013</td>\n",
       "      <td>TV-Y7-FV</td>\n",
       "      <td>1 Season</td>\n",
       "      <td>Kids' TV</td>\n",
       "      <td>With the help of three human allies, the Autob...</td>\n",
       "    </tr>\n",
       "    <tr>\n",
       "      <th>3</th>\n",
       "      <td>80058654</td>\n",
       "      <td>TV Show</td>\n",
       "      <td>Transformers: Robots in Disguise</td>\n",
       "      <td>Unknown director</td>\n",
       "      <td>Will Friedle, Darren Criss, Constance Zimmer, ...</td>\n",
       "      <td>United States</td>\n",
       "      <td>September 8, 2018</td>\n",
       "      <td>2016</td>\n",
       "      <td>TV-Y7</td>\n",
       "      <td>1 Season</td>\n",
       "      <td>Kids' TV</td>\n",
       "      <td>When a prison ship crash unleashes hundreds of...</td>\n",
       "    </tr>\n",
       "    <tr>\n",
       "      <th>4</th>\n",
       "      <td>80125979</td>\n",
       "      <td>Movie</td>\n",
       "      <td>#realityhigh</td>\n",
       "      <td>Fernando Lebrija</td>\n",
       "      <td>Nesta Cooper, Kate Walsh, John Michael Higgins...</td>\n",
       "      <td>United States</td>\n",
       "      <td>September 8, 2017</td>\n",
       "      <td>2017</td>\n",
       "      <td>TV-14</td>\n",
       "      <td>99 min</td>\n",
       "      <td>Comedies</td>\n",
       "      <td>When nerdy high schooler Dani finally attracts...</td>\n",
       "    </tr>\n",
       "    <tr>\n",
       "      <th>...</th>\n",
       "      <td>...</td>\n",
       "      <td>...</td>\n",
       "      <td>...</td>\n",
       "      <td>...</td>\n",
       "      <td>...</td>\n",
       "      <td>...</td>\n",
       "      <td>...</td>\n",
       "      <td>...</td>\n",
       "      <td>...</td>\n",
       "      <td>...</td>\n",
       "      <td>...</td>\n",
       "      <td>...</td>\n",
       "    </tr>\n",
       "    <tr>\n",
       "      <th>6229</th>\n",
       "      <td>80000063</td>\n",
       "      <td>TV Show</td>\n",
       "      <td>Red vs. Blue</td>\n",
       "      <td>Unknown director</td>\n",
       "      <td>Burnie Burns, Jason Saldaña, Gustavo Sorola, G...</td>\n",
       "      <td>United States</td>\n",
       "      <td>Unknown date_added</td>\n",
       "      <td>2015</td>\n",
       "      <td>NR</td>\n",
       "      <td>13 Seasons</td>\n",
       "      <td>TV Action &amp; Adventure, TV Comedies, TV Sci-Fi ...</td>\n",
       "      <td>This parody of first-person shooter games, mil...</td>\n",
       "    </tr>\n",
       "    <tr>\n",
       "      <th>6230</th>\n",
       "      <td>70286564</td>\n",
       "      <td>TV Show</td>\n",
       "      <td>Maron</td>\n",
       "      <td>Unknown director</td>\n",
       "      <td>Marc Maron, Judd Hirsch, Josh Brener, Nora Zeh...</td>\n",
       "      <td>United States</td>\n",
       "      <td>Unknown date_added</td>\n",
       "      <td>2016</td>\n",
       "      <td>TV-MA</td>\n",
       "      <td>4 Seasons</td>\n",
       "      <td>TV Comedies</td>\n",
       "      <td>Marc Maron stars as Marc Maron, who interviews...</td>\n",
       "    </tr>\n",
       "    <tr>\n",
       "      <th>6231</th>\n",
       "      <td>80116008</td>\n",
       "      <td>Movie</td>\n",
       "      <td>Little Baby Bum: Nursery Rhyme Friends</td>\n",
       "      <td>Unknown director</td>\n",
       "      <td>Unknown cast</td>\n",
       "      <td>Unknown country</td>\n",
       "      <td>Unknown date_added</td>\n",
       "      <td>2016</td>\n",
       "      <td>Unknown rating</td>\n",
       "      <td>60 min</td>\n",
       "      <td>Movies</td>\n",
       "      <td>Nursery rhymes and original music for children...</td>\n",
       "    </tr>\n",
       "    <tr>\n",
       "      <th>6232</th>\n",
       "      <td>70281022</td>\n",
       "      <td>TV Show</td>\n",
       "      <td>A Young Doctor's Notebook and Other Stories</td>\n",
       "      <td>Unknown director</td>\n",
       "      <td>Daniel Radcliffe, Jon Hamm, Adam Godley, Chris...</td>\n",
       "      <td>United Kingdom</td>\n",
       "      <td>Unknown date_added</td>\n",
       "      <td>2013</td>\n",
       "      <td>TV-MA</td>\n",
       "      <td>2 Seasons</td>\n",
       "      <td>British TV Shows, TV Comedies, TV Dramas</td>\n",
       "      <td>Set during the Russian Revolution, this comic ...</td>\n",
       "    </tr>\n",
       "    <tr>\n",
       "      <th>6233</th>\n",
       "      <td>70153404</td>\n",
       "      <td>TV Show</td>\n",
       "      <td>Friends</td>\n",
       "      <td>Unknown director</td>\n",
       "      <td>Jennifer Aniston, Courteney Cox, Lisa Kudrow, ...</td>\n",
       "      <td>United States</td>\n",
       "      <td>Unknown date_added</td>\n",
       "      <td>2003</td>\n",
       "      <td>TV-14</td>\n",
       "      <td>10 Seasons</td>\n",
       "      <td>Classic &amp; Cult TV, TV Comedies</td>\n",
       "      <td>This hit sitcom follows the merry misadventure...</td>\n",
       "    </tr>\n",
       "  </tbody>\n",
       "</table>\n",
       "<p>6234 rows × 12 columns</p>\n",
       "</div>"
      ],
      "text/plain": [
       "       show_id     type                                        title  \\\n",
       "0     81145628    Movie      Norm of the North: King Sized Adventure   \n",
       "1     80117401    Movie                   Jandino: Whatever it Takes   \n",
       "2     70234439  TV Show                           Transformers Prime   \n",
       "3     80058654  TV Show             Transformers: Robots in Disguise   \n",
       "4     80125979    Movie                                 #realityhigh   \n",
       "...        ...      ...                                          ...   \n",
       "6229  80000063  TV Show                                 Red vs. Blue   \n",
       "6230  70286564  TV Show                                        Maron   \n",
       "6231  80116008    Movie       Little Baby Bum: Nursery Rhyme Friends   \n",
       "6232  70281022  TV Show  A Young Doctor's Notebook and Other Stories   \n",
       "6233  70153404  TV Show                                      Friends   \n",
       "\n",
       "                      director  \\\n",
       "0     Richard Finn, Tim Maltby   \n",
       "1             Unknown director   \n",
       "2             Unknown director   \n",
       "3             Unknown director   \n",
       "4             Fernando Lebrija   \n",
       "...                        ...   \n",
       "6229          Unknown director   \n",
       "6230          Unknown director   \n",
       "6231          Unknown director   \n",
       "6232          Unknown director   \n",
       "6233          Unknown director   \n",
       "\n",
       "                                                   cast  \\\n",
       "0     Alan Marriott, Andrew Toth, Brian Dobson, Cole...   \n",
       "1                                      Jandino Asporaat   \n",
       "2     Peter Cullen, Sumalee Montano, Frank Welker, J...   \n",
       "3     Will Friedle, Darren Criss, Constance Zimmer, ...   \n",
       "4     Nesta Cooper, Kate Walsh, John Michael Higgins...   \n",
       "...                                                 ...   \n",
       "6229  Burnie Burns, Jason Saldaña, Gustavo Sorola, G...   \n",
       "6230  Marc Maron, Judd Hirsch, Josh Brener, Nora Zeh...   \n",
       "6231                                       Unknown cast   \n",
       "6232  Daniel Radcliffe, Jon Hamm, Adam Godley, Chris...   \n",
       "6233  Jennifer Aniston, Courteney Cox, Lisa Kudrow, ...   \n",
       "\n",
       "                                       country          date_added  \\\n",
       "0     United States, India, South Korea, China   September 9, 2019   \n",
       "1                               United Kingdom   September 9, 2016   \n",
       "2                                United States   September 8, 2018   \n",
       "3                                United States   September 8, 2018   \n",
       "4                                United States   September 8, 2017   \n",
       "...                                        ...                 ...   \n",
       "6229                             United States  Unknown date_added   \n",
       "6230                             United States  Unknown date_added   \n",
       "6231                           Unknown country  Unknown date_added   \n",
       "6232                            United Kingdom  Unknown date_added   \n",
       "6233                             United States  Unknown date_added   \n",
       "\n",
       "      release_year          rating    duration  \\\n",
       "0             2019           TV-PG      90 min   \n",
       "1             2016           TV-MA      94 min   \n",
       "2             2013        TV-Y7-FV    1 Season   \n",
       "3             2016           TV-Y7    1 Season   \n",
       "4             2017           TV-14      99 min   \n",
       "...            ...             ...         ...   \n",
       "6229          2015              NR  13 Seasons   \n",
       "6230          2016           TV-MA   4 Seasons   \n",
       "6231          2016  Unknown rating      60 min   \n",
       "6232          2013           TV-MA   2 Seasons   \n",
       "6233          2003           TV-14  10 Seasons   \n",
       "\n",
       "                                              listed_in  \\\n",
       "0                    Children & Family Movies, Comedies   \n",
       "1                                       Stand-Up Comedy   \n",
       "2                                              Kids' TV   \n",
       "3                                              Kids' TV   \n",
       "4                                              Comedies   \n",
       "...                                                 ...   \n",
       "6229  TV Action & Adventure, TV Comedies, TV Sci-Fi ...   \n",
       "6230                                        TV Comedies   \n",
       "6231                                             Movies   \n",
       "6232           British TV Shows, TV Comedies, TV Dramas   \n",
       "6233                     Classic & Cult TV, TV Comedies   \n",
       "\n",
       "                                            description  \n",
       "0     Before planning an awesome wedding for his gra...  \n",
       "1     Jandino Asporaat riffs on the challenges of ra...  \n",
       "2     With the help of three human allies, the Autob...  \n",
       "3     When a prison ship crash unleashes hundreds of...  \n",
       "4     When nerdy high schooler Dani finally attracts...  \n",
       "...                                                 ...  \n",
       "6229  This parody of first-person shooter games, mil...  \n",
       "6230  Marc Maron stars as Marc Maron, who interviews...  \n",
       "6231  Nursery rhymes and original music for children...  \n",
       "6232  Set during the Russian Revolution, this comic ...  \n",
       "6233  This hit sitcom follows the merry misadventure...  \n",
       "\n",
       "[6234 rows x 12 columns]"
      ]
     },
     "execution_count": 1,
     "metadata": {},
     "output_type": "execute_result"
    }
   ],
   "source": [
    "# Only run this cell one time. Restart kernel and run again to fix IOError.\n",
    "import os\n",
    "import yrs_months\n",
    "\n",
    "# Changes the notebook working directory on level up.\n",
    "%cd ..\n",
    "\n",
    "# Running main python script.\n",
    "%run -i \"src/main.py\"\n",
    "\n",
    "# Data set from main.py\n",
    "data_set"
   ]
  },
  {
   "cell_type": "markdown",
   "metadata": {},
   "source": [
    "# Chapter 1. Genre analysis"
   ]
  },
  {
   "cell_type": "markdown",
   "metadata": {},
   "source": [
    "## Most Popular movie and series genres\n",
    "### Discarding the 'movie' and 'tv show'  entry in the genre list and "
   ]
  },
  {
   "cell_type": "code",
   "execution_count": null,
   "metadata": {},
   "outputs": [],
   "source": [
    "# Import packages needed for visualization\n",
    "import datetime as dt\n",
    "import numpy as np\n",
    "import pandas as pd\n",
    "from matplotlib import pyplot as plt \n",
    "import seaborn as sns\n",
    "from wordcloud import WordCloud\n",
    "import chord # Need to install - pip install chord"
   ]
  },
  {
   "cell_type": "code",
   "execution_count": null,
   "metadata": {},
   "outputs": [],
   "source": [
    "# Split genres into list on comma and put each item on separate line\n",
    "genres = data_set['listed_in'].dropna().str.split(', ').explode().copy()"
   ]
  },
  {
   "cell_type": "markdown",
   "metadata": {},
   "source": [
    "Use word cloud to visualize the most frequent genres in the Netflix library"
   ]
  },
  {
   "cell_type": "code",
   "execution_count": null,
   "metadata": {},
   "outputs": [],
   "source": [
    "# Make word cloud using frequency of genres.\n",
    "plt.subplots(figsize=(10,10))\n",
    "wordcloud = WordCloud(\n",
    "                          background_color='Black',\n",
    "                          width=1920,\n",
    "                          height=1080\n",
    "                         ).generate_from_frequencies(genres.value_counts())\n",
    "plt.imshow(wordcloud, interpolation='bilinear')\n",
    "plt.axis('off')\n",
    "plt.show()"
   ]
  },
  {
   "cell_type": "code",
   "execution_count": null,
   "metadata": {},
   "outputs": [],
   "source": [
    "netflix_data = data_set\n",
    "order =  sorted(netflix_data.release_year.unique())[-15:-1]\n",
    "plt.figure(figsize=(15,7))\n",
    "g = sns.countplot(netflix_data.release_year, hue=netflix_data.type, order=order, palette=\"pastel\");\n",
    "plt.title(\"Movies vs TV-Shows released on Netflix\")\n",
    "plt.xlabel(\"Production year\")\n",
    "plt.ylabel(\"Total Count\")\n",
    "plt.show()"
   ]
  },
  {
   "cell_type": "code",
   "execution_count": null,
   "metadata": {},
   "outputs": [],
   "source": [
    "plt.figure(figsize=(12,10))\n",
    "sns.set(style=\"darkgrid\")\n",
    "ax = sns.countplot(x=\"rating\", data=netflix_data, palette=\"Set2\", order=netflix_data['rating'].value_counts().index[0:15])"
   ]
  },
  {
   "cell_type": "code",
   "execution_count": null,
   "metadata": {},
   "outputs": [],
   "source": [
    "rating_order =  ['G', 'TV-Y', 'TV-G', 'PG', 'TV-Y7', 'TV-Y7-FV', 'TV-PG', 'PG-13', 'TV-14', 'R', 'NC-17', 'TV-MA']\n",
    "\n",
    "movie_rating = netflix_data['rating'].value_counts()\n",
    "#tv_rating = tv_show['rating'].value_counts()[rating_order].fillna(0)"
   ]
  },
  {
   "cell_type": "code",
   "execution_count": null,
   "metadata": {},
   "outputs": [],
   "source": [
    "temp3 = temp2.explode('listed_in')\n",
    "temp3 = temp3.rename(columns={'listed_in': 'Genre', 'rating': 'PG-Rating'})\n",
    "df = temp3.groupby(['Genre','PG-Rating']).size().unstack(fill_value=0)\n",
    "df = df[df > 0].fillna(0)\n",
    "\n",
    "df[1:]"
   ]
  },
  {
   "cell_type": "code",
   "execution_count": null,
   "metadata": {},
   "outputs": [],
   "source": [
    "sns.heatmap(df[1:]).set_title(\"Genre vs PG Rating\")"
   ]
  },
  {
   "cell_type": "code",
   "execution_count": null,
   "metadata": {},
   "outputs": [],
   "source": [
    "replacements = {\n",
    "        \"& Talk\": \"\",\n",
    "        \"Classic & Cult\": \"Classic, Cult\",\n",
    "        \"Features\": \"\",\n",
    "        \"Series\": \"\",\n",
    "        \"Comedy\": \"Comedies\",\n",
    "        \"British\": \"International\",\n",
    "        \"Spanish-Language\": \"International\",\n",
    "        \"Children & Family\": \"Kids'\",\n",
    "        \"TV Shows\": \"\",\n",
    "        \"Movies\": \"\",\n",
    "        \"Docuseries\": \"Documentaries\",\n",
    "        \"& Talk Shows\": \"\",\n",
    "        \"Stand-Up\": \"\",\n",
    "        \"TV\": \"\",\n",
    "        \"Shows\": \"\",\n",
    "        \" \": \"\",\n",
    "    }\n",
    "\n",
    "temp2 = netflix_data.copy()\n",
    "temp2.listed_in = temp2.listed_in.replace(replacements, regex=True).str.split(',').apply(lambda x: [i for i in x if i != 'International'])"
   ]
  },
  {
   "cell_type": "markdown",
   "metadata": {},
   "source": [
    "Want to plot the genres and total count of each genre. \n",
    "Separate into movies and tv shows.\n",
    "Decided to remove categories International Movies and International TV shows as these were overrepresented in the data set as they are given to all movies not from the US. This category is always coupled with another gerne and is therefore not seen as one of the main genres."
   ]
  },
  {
   "cell_type": "code",
   "execution_count": null,
   "metadata": {},
   "outputs": [],
   "source": [
    "# Extract movie genres\n",
    "genres_movies = data_set[data_set[\"type\"]==\"Movie\"]['listed_in'].dropna().str.split(', ').explode().copy()"
   ]
  },
  {
   "cell_type": "code",
   "execution_count": null,
   "metadata": {},
   "outputs": [],
   "source": [
    "# Plot bar plot of all movie genres\n",
    "plt.figure(figsize=(12,6))\n",
    "sns.countplot(y=genres_movies, order=genres_movies.value_counts(ascending=True).index[:-1]) #removed international movies\n",
    "plt.title(\"Movies by Genre\")\n",
    "plt.ylabel(\"Genre\")\n",
    "plt.xlabel(\"Total Count\")"
   ]
  },
  {
   "cell_type": "code",
   "execution_count": null,
   "metadata": {},
   "outputs": [],
   "source": [
    "#Extract TV genres\n",
    "genres_tv = data_set[data_set[\"type\"]==\"TV Show\"]['listed_in'].dropna().str.split(', ').explode().copy()"
   ]
  },
  {
   "cell_type": "code",
   "execution_count": null,
   "metadata": {},
   "outputs": [],
   "source": [
    "# Plot TV genre count\n",
    "plt.figure(figsize=(12,6))\n",
    "sns.countplot(y=genres_tv, order=genres_tv.value_counts(ascending=True).index[:-1]) # Removed international TV shows\n",
    "plt.title(\"TV Shows by Genre\")\n",
    "plt.ylabel(\"Genre\")\n",
    "plt.xlabel(\"Total Count\")"
   ]
  },
  {
   "cell_type": "code",
   "execution_count": null,
   "metadata": {
    "tags": [
     "outputPrepend"
    ]
   },
   "outputs": [],
   "source": [
    "plt.figure(figsize = (15,15))\n",
    "plt.pie(\n",
    "    [genre_value for genre_value in pop_movie_genre.values()],\n",
    "    labels=[genre_keys for genre_keys in pop_movie_genre.keys()],\n",
    "    autopct=None\n",
    ")\n",
    "plt.show()"
   ]
  },
  {
   "cell_type": "code",
   "execution_count": null,
   "metadata": {},
   "outputs": [],
   "source": [
    "plt.figure(figsize = (15,15))\n",
    "plt.pie(\n",
    "    [genre_value for genre_value in pop_series_genre.values()],\n",
    "    labels=[genre_keys for genre_keys in pop_series_genre.keys()],\n",
    "    autopct=None\n",
    ")\n",
    "plt.show()\n"
   ]
  },
  {
   "cell_type": "markdown",
   "metadata": {},
   "source": [
    "Look at the 5 most frequent movie and TV genres and plot with gear added to see if there are any patterns.\n",
    "International TV shows and Movies have again been removed. "
   ]
  },
  {
   "cell_type": "code",
   "execution_count": null,
   "metadata": {},
   "outputs": [],
   "source": [
    "genre_time = data_set[['date_added','listed_in']].copy()\n",
    "genre_time = genre_time[genre_time['date_added'] != 'Unknown date_added']\n",
    "genre_time['month_added'] = genre_time['date_added'].str.replace(',', '').str.lstrip().apply(lambda x: dt.datetime.strptime(x,'%B %d %Y')).dt.month_name()\n",
    "genre_time['year_added'] = genre_time['date_added'].str.replace(',', '').str.lstrip().apply(lambda x: dt.datetime.strptime(x,'%B %d %Y')).dt.year\n",
    "#year_released = genre_time['date_added']\n",
    "genre_time['listed_in'] = genre_time['listed_in'].str.split(', ')\n",
    "genre_time = genre_time.explode('listed_in')\n",
    "#print(genre_time)\n",
    "\n",
    "filter_list_m = ['Dramas', 'Comedies', 'Documentaries', 'Action & Adventure', 'Independent Movies']\n",
    "filter_list_tv = [\"TV Dramas\", \"TV Comedies\", \"Crime TV Shows\", \"Kids' TV\", \"Docuseries\"]\n",
    "top_m_genres = genre_time[genre_time.listed_in.isin(filter_list_m)]\n",
    "top_tv_genres = genre_time[genre_time.listed_in.isin(filter_list_tv)]\n",
    "\n",
    "\n",
    "fig, axes = plt.subplots(1, 2, figsize=(15, 8))\n",
    "#fig.suptitle(\"Movies TV Shows added to Netflix by Year for top 5 genres\")\n",
    "fig.tight_layout()\n",
    "\n",
    "sns.countplot(ax=axes[0], x=\"year_added\", hue=\"listed_in\" ,data=top_m_genres, palette=\"pastel\")\n",
    "axes[0].set_title(\"Movies\")\n",
    "axes[0].set_xlabel(\"Year added\")\n",
    "axes[0].set_ylabel(\"Total count\")\n",
    "axes[0].legend(loc=2)\n",
    "\n",
    "sns.countplot(ax=axes[1], x=\"year_added\", hue=\"listed_in\" ,data=top_tv_genres, palette=\"pastel\")\n",
    "axes[1].set_title(\"TV Shows\")\n",
    "axes[1].set_xlabel(\"Year added\")\n",
    "axes[1].set_ylabel(\"\")\n",
    "axes[1].legend(loc=2)\n"
   ]
  },
  {
   "cell_type": "markdown",
   "metadata": {},
   "source": [
    "Plot heatplot of genre and year added to Netflix to see if there are any patterns in what genres have been popular over time."
   ]
  },
  {
   "cell_type": "code",
   "execution_count": null,
   "metadata": {},
   "outputs": [],
   "source": [
    "# Create a list of from dataset with month added and genre\n",
    "year_genre = genre_time[[\"year_added\", \"listed_in\"]]\n",
    "\n",
    "# Group month added and genre and make table with value counts\n",
    "group_y = year_genre.groupby(\"listed_in\")\n",
    "group_y = group_y['year_added'].value_counts() #count values in month\n",
    "group_y = group_y.unstack() \n",
    "group_y = group_y.fillna(0) #fill nans with 0\n",
    "\n",
    "# Check table\n",
    "group_y"
   ]
  },
  {
   "cell_type": "code",
   "execution_count": null,
   "metadata": {},
   "outputs": [],
   "source": [
    "# Plot heatmap\n",
    "plt.figure(figsize=(12,10))\n",
    "sns.heatmap(group_y, cmap=\"Greens\")\n",
    "plt.title(\"Heatmap of 15 most popular genres and year added to Netflix\")\n",
    "plt.ylabel(\"Genre\")\n",
    "plt.xlabel(\"Month added to Netflix\")"
   ]
  },
  {
   "cell_type": "markdown",
   "metadata": {},
   "source": [
    "Heat plot of month added to netflix for 15 most frequent genres. \n",
    "Want to check if there is a pattern in when in the year the genres are added to Netflix."
   ]
  },
  {
   "cell_type": "code",
   "execution_count": null,
   "metadata": {},
   "outputs": [],
   "source": [
    "# Create a list of from dataset with year added and genre\n",
    "month_genre = genre_time[[\"month_added\", \"listed_in\"]]\n",
    "\n",
    "# Get most popular genres by value_counts() and only select these from data set\n",
    "popular_genres = data_set.listed_in.str.split(', ').explode().value_counts().index[:17]\n",
    "month_genre = month_genre[month_genre.listed_in.isin(popular_genres)]\n",
    "\n",
    "# Remove International TV shows and International Movies as these are categories that does not give the genre of the movie, only that is was not made in the US. There are overrepresented in the dataset and not that interesting.\n",
    "month_genre = month_genre[month_genre.listed_in != 'International TV Shows']\n",
    "month_genre = month_genre[month_genre.listed_in != 'International Movies']\n",
    "\n",
    "# Group month added and genre and make table with value counts\n",
    "group = month_genre.groupby(\"listed_in\")\n",
    "group = group['month_added'].value_counts() #count values in month\n",
    "group = group.unstack() \n",
    "group = group.fillna(0) #fill nans with 0\n",
    "\n",
    "# Reindex to sort months by calendar and not alphabetically\n",
    "months = ['January', 'February', 'March', 'April', 'May', 'June', 'July', 'August', 'September', 'October', 'November', 'December']\n",
    "group = group.reindex(columns=months) #sort months according to calendar\n",
    "\n",
    "# Check table\n",
    "group"
   ]
  },
  {
   "cell_type": "code",
   "execution_count": null,
   "metadata": {},
   "outputs": [],
   "source": [
    "# Plot heatmap\n",
    "plt.figure(figsize=(12,8))\n",
    "sns.heatmap(group, cmap=\"Greens\")\n",
    "plt.title(\"Heatmap of 15 most popular genres and month added to Netflix\")\n",
    "plt.ylabel(\"Genre\")\n",
    "plt.xlabel(\"Month added to Netflix\")"
   ]
  },
  {
   "cell_type": "markdown",
   "metadata": {},
   "source": [
    "Check if there has been a change in added international movies and tv shows."
   ]
  },
  {
   "cell_type": "code",
   "execution_count": null,
   "metadata": {},
   "outputs": [],
   "source": [
    "filter_list_int = [\"International TV Shows\", \"International Movies\"]\n",
    "top_int = genre_time[genre_time.listed_in.isin(filter_list_int)]\n",
    "\n",
    "plt.figure(figsize=(12,6))\n",
    "sns.countplot(x=\"year_added\", hue=\"listed_in\" ,data=top_int, palette=\"pastel\")\n",
    "plt.legend(loc=2)\n",
    "plt.xlabel(\"Year\")"
   ]
  },
  {
   "cell_type": "markdown",
   "metadata": {},
   "source": [
    "Check most frequent cast in the most frequent movie genres. "
   ]
  },
  {
   "cell_type": "code",
   "execution_count": null,
   "metadata": {},
   "outputs": [],
   "source": [
    "genre_cast = data_set[['cast','listed_in']].copy()\n",
    "genre_cast = genre_cast[genre_cast['cast'] != 'Unknown cast']\n",
    "genre_cast['cast'] = genre_cast['cast'].str.split(', ')\n",
    "genre_cast = genre_cast.explode('cast')\n",
    "\n",
    "m_per_cast = genre_cast['cast'].value_counts()\n",
    "\n",
    "genre_cast['listed_in'] = genre_cast['listed_in'].str.split(', ')\n",
    "genre_cast = genre_cast.explode('listed_in')\n",
    "\n",
    "top_comedy_cast = genre_cast[genre_cast['listed_in'] == 'Comedies']['cast']\n",
    "\n",
    "top_action_cast = genre_cast[genre_cast['listed_in'] == 'Action & Adventure']['cast']\n",
    "\n",
    "top_thriller_cast = genre_cast[genre_cast['listed_in'] == 'Thrillers']['cast']\n",
    "top_drama_cast = genre_cast[genre_cast['listed_in'] == 'Dramas']['cast']\n",
    "\n",
    "fig, axes = plt.subplots(2, 2, figsize=(20, 8))\n",
    "#fig.suptitle(\"Movies TV Shows added to Netflix by Year for top 5 genres\")\n",
    "#fig.tight_layout()\n",
    "\n",
    "sns.countplot(ax=axes[0,0], y=top_comedy_cast, palette=\"pastel\", order=top_comedy_cast.value_counts(ascending=False).index[:10])\n",
    "axes[0,0].set_title(\"Comedies\")\n",
    "axes[0,0].set_xlabel(\"\")\n",
    "\n",
    "sns.countplot(ax=axes[0,1], y=top_action_cast, palette=\"pastel\", order=top_action_cast.value_counts(ascending=False).index[:10])\n",
    "axes[0,1].set_title(\"Action & Adventure\")\n",
    "axes[0,1].set_xlabel(\"\")\n",
    "axes[0,1].set_ylabel(\"\")\n",
    "\n",
    "sns.countplot(ax=axes[1,0], y=top_drama_cast, palette=\"pastel\", order=top_drama_cast.value_counts(ascending=False).index[:10])\n",
    "axes[1,0].set_title(\"Dramas\")\n",
    "axes[1,0].set_xlabel(\"No. of Movies\")\n",
    "\n",
    "sns.countplot(ax=axes[1,1], y=top_thriller_cast, palette=\"pastel\", order=top_thriller_cast.value_counts(ascending=False).index[:10])\n",
    "axes[1,1].set_title(\"Thrillers\")\n",
    "axes[1,1].set_xlabel(\"No. of Movies\")\n",
    "axes[1,1].set_ylabel(\"\")\n"
   ]
  },
  {
   "cell_type": "markdown",
   "metadata": {},
   "source": [
    "Check most frequent directors in most frequent movie genres"
   ]
  },
  {
   "cell_type": "code",
   "execution_count": null,
   "metadata": {},
   "outputs": [],
   "source": [
    "genre_director = data_set[['director','listed_in']].copy()\n",
    "genre_director = genre_director[genre_director['director'] != 'Unknown director']\n",
    "genre_director['director'] = genre_director['director'].str.split(',')\n",
    "genre_director = genre_director.explode('director')\n",
    "genre_director['director'] = genre_director['director'].str.strip()\n",
    "\n",
    "m_per_dir = genre_director['director'].value_counts()\n",
    "\n",
    "genre_director['listed_in'] = genre_director['listed_in'].str.split(',')\n",
    "genre_director = genre_director.explode('listed_in')\n",
    "genre_director['listed_in'] = genre_director['listed_in'].str.lstrip()\n",
    "\n",
    "\n",
    "top_comedy_dir = genre_director[genre_director['listed_in'] == 'Stand-Up Comedy']['director']\n",
    "\n",
    "top_action_dir = genre_director[genre_director['listed_in'] == 'Action & Adventure']['director']\n",
    "\n",
    "top_thriller_dir = genre_director[genre_director['listed_in'] == 'Thrillers']['director']\n",
    "top_doc_dir = genre_director[genre_director['listed_in'] == 'Documentaries']['director']\n",
    "top_drama_dir = genre_director[genre_director['listed_in'] == 'Dramas']['director']\n",
    "\n",
    "fig, axes = plt.subplots(2, 2, figsize=(20, 8))\n",
    "#fig.suptitle(\"Movies TV Shows added to Netflix by Year for top 5 genres\")\n",
    "#fig.tight_layout()\n",
    "\n",
    "sns.countplot(ax=axes[0,0], y=top_comedy_dir, palette=\"pastel\", order=top_comedy_dir.value_counts(ascending=False).index[:10])\n",
    "axes[0,0].set_title(\"Stand-Up Comedy\")\n",
    "axes[0,0].set_xlabel(\"\")\n",
    "\n",
    "sns.countplot(ax=axes[0,1], y=top_action_dir, palette=\"pastel\", order=top_action_dir.value_counts(ascending=False).index[:10])\n",
    "axes[0,1].set_title(\"Action & Adventure\")\n",
    "axes[0,1].set_xlabel(\"\")\n",
    "axes[0,1].set_ylabel(\"\")\n",
    "\n",
    "sns.countplot(ax=axes[1,0], y=top_drama_dir, palette=\"pastel\", order=top_drama_dir.value_counts(ascending=False).index[:10])\n",
    "axes[1,0].set_title(\"Dramas\")\n",
    "axes[1,0].set_xlabel(\"No. of Movies\")\n",
    "\n",
    "sns.countplot(ax=axes[1,1], y=top_doc_dir, palette=\"pastel\", order=top_doc_dir.value_counts(ascending=False).index[:10])\n",
    "axes[1,1].set_title(\"Documentaries\")\n",
    "axes[1,1].set_xlabel(\"No. of Movies\")\n",
    "axes[1,1].set_ylabel(\"\")"
   ]
  },
  {
   "cell_type": "markdown",
   "metadata": {},
   "source": [
    "# Classifying directors  from heatmap."
   ]
  },
  {
   "cell_type": "markdown",
   "metadata": {},
   "source": [
    "### Creating director - genre matrix"
   ]
  },
  {
   "cell_type": "code",
   "execution_count": null,
   "metadata": {},
   "outputs": [],
   "source": [
    "populated = director_classification.populate_director_genre_dataframe()"
   ]
  },
  {
   "cell_type": "code",
   "execution_count": null,
   "metadata": {},
   "outputs": [],
   "source": [
    "import copy\n",
    "import seaborn as sns\n",
    "\n",
    "# Copying dataframe in order to not directly mutating the populated list\n",
    "# as it takes some time to create the populatedDirector list\n",
    "copy = copy.copy(populated)\n",
    "\n",
    "for d in copy:\n",
    "    # Dropping directors columns that has less that 8 registered movies in total in addition to unknown director.\n",
    "    if (copy[d].sum() < 8.0 or d == 'Unknown director'):\n",
    "        copy.drop([d],  axis=1, inplace = True)\n",
    "\n",
    "sns.heatmap(copy) # Creating heatmap\n",
    "plt.show()"
   ]
  },
  {
   "cell_type": "markdown",
   "metadata": {},
   "source": [
    "From this heatmap containing the most active directors in the Netflix catalogue we can \"classify\" which genre a certain director is. By analysing the heatmap we can clearly state that \"Stand-Up Comedy\" is the genre that director is most active in and that Jan Suter is a \"Stand-Up Comedy\" director. McG can be with some certanty be classified as a \"Action & Adventure\" director."
   ]
  },
  {
   "cell_type": "markdown",
   "metadata": {},
   "source": [
    "# Genres added per year (Sander)\n",
    "## The following plots shows the frequency of when genres were added"
   ]
  },
  {
   "cell_type": "code",
   "execution_count": null,
   "metadata": {},
   "outputs": [],
   "source": [
    "import pandas as pd\n",
    "import numpy as np\n",
    "import correlation_between_genres\n",
    "import matplotlib.pyplot as plt\n",
    "import chord\n",
    "\n",
    "df = pd.DataFrame(pd.read_csv('netflix_titles.csv'))\n",
    "dfMovies = df[df['type'] == 'Movie']\n",
    "dfSeries = df[df['type'] == 'TV Show']"
   ]
  },
  {
   "cell_type": "markdown",
   "metadata": {},
   "source": [
    "# Handling null values\n",
    "### Number of movies and series which have missing date for when they were added."
   ]
  },
  {
   "cell_type": "code",
   "execution_count": null,
   "metadata": {},
   "outputs": [],
   "source": [
    "missingMovieDates = len(dfMovies[dfMovies['date_added'].isnull()])\n",
    "missingSeriesDates = len(dfSeries[dfSeries['date_added'].isnull()])\n",
    "print('Total number of movies having a unknown date they were added: ', missingMovieDates)\n",
    "print('Total number of series having a unknown date they were added: ', missingSeriesDates)"
   ]
  },
  {
   "cell_type": "code",
   "execution_count": null,
   "metadata": {},
   "outputs": [],
   "source": [
    "def genresAddedPerYear(df: pd.DataFrame) -> pd.DataFrame:\n",
    "    # Gets the dates from the dateFrame and converts the format to datetime\n",
    "    dates = pd.to_datetime(df['date_added'])\n",
    "    # Removes day and month, as we are only interested in the year\n",
    "    dates = dates.dt.year\n",
    "\n",
    "\n",
    "    # Splits the listed_in column into individual genre columns\n",
    "    genres = correlation_between_genres.genresOfMoviesSeries(df)\n",
    "\n",
    "    # Puts dates and genres into one table\n",
    "    genreAdded = correlation_between_genres.genresOfMoviesSeries(df)\n",
    "    genreAdded.insert(0, 'date_added', dates)\n",
    "\n",
    "    # Change cells with no value to None\n",
    "    genreAdded = genreAdded.where(genreAdded.notnull(), None)\n",
    "\n",
    "    # Name of every genre\n",
    "    uniqueGenres = correlation_between_genres.totalOccurenceOfGenres(genres).keys().tolist()\n",
    "    uniqueYears = genreAdded['date_added'].unique()\n",
    "    # Flip the list to get the columns in the next step in ascending order from left to right\n",
    "    uniqueYears = np.flip(uniqueYears)\n",
    "    # Removing nan value\n",
    "    uniqueYears = uniqueYears[1:]\n",
    "    uniqueYears = np.sort(uniqueYears)\n",
    "\n",
    "    genresAddedPerYear = pd.DataFrame(0, index = uniqueGenres, columns=uniqueYears)\n",
    "\n",
    "\n",
    "    for i, movie in genreAdded.iterrows():\n",
    "        yearAdded = movie['date_added']\n",
    "        genresOfMovie = movie[1:4]\n",
    "\n",
    "        for genre in genresOfMovie:\n",
    "            if (yearAdded == None or genre == None):\n",
    "                continue\n",
    "            genresAddedPerYear[yearAdded][genre] += 1\n",
    "    \n",
    "    return genresAddedPerYear"
   ]
  },
  {
   "cell_type": "markdown",
   "metadata": {},
   "source": [
    "### DataFrame showing how many movies/series with a given genre was added per year. Mind that a movie/series may have multiple genres and the sum of each column isn't the same as at number of movies/series added per year."
   ]
  },
  {
   "cell_type": "code",
   "execution_count": null,
   "metadata": {},
   "outputs": [],
   "source": [
    "genresAddedPerYearSeries = genresAddedPerYear(dfSeries)\n",
    "genresAddedPerYearMovies = genresAddedPerYear(dfMovies)"
   ]
  },
  {
   "cell_type": "markdown",
   "metadata": {},
   "source": [
    "### Removing the data in the year 2020 as the year is not over yet and therefore is not representable"
   ]
  },
  {
   "cell_type": "code",
   "execution_count": null,
   "metadata": {},
   "outputs": [],
   "source": [
    "genresAddedPerYearSeries = genresAddedPerYearSeries.drop(2020, axis = 'columns')\n",
    "genresAddedPerYearMovies = genresAddedPerYearMovies.drop(2020, axis = 'columns')"
   ]
  },
  {
   "cell_type": "markdown",
   "metadata": {},
   "source": [
    "### Displaying DataFrames"
   ]
  },
  {
   "cell_type": "code",
   "execution_count": null,
   "metadata": {},
   "outputs": [],
   "source": [
    "display(genresAddedPerYearSeries)\n",
    "display(genresAddedPerYearMovies)"
   ]
  },
  {
   "cell_type": "markdown",
   "metadata": {},
   "source": [
    "# Visualizing the data"
   ]
  },
  {
   "cell_type": "code",
   "execution_count": null,
   "metadata": {},
   "outputs": [],
   "source": [
    "movieGenres = genresAddedPerYearMovies.index\n",
    "seriesGenres = genresAddedPerYearSeries.index\n",
    "\n",
    "fig, (ax1, ax2) = plt.subplots(1, 2, )\n",
    "fig.subplots_adjust(right = 2, top = 1)\n",
    "\n",
    "ax1.set_xlabel('Years')\n",
    "ax1.set_ylabel('Added to genre')\n",
    "ax1.set_title('Movies added to genre per year', fontweight = 'bold')\n",
    "\n",
    "ax2.set_xlabel('Years')\n",
    "ax2.set_ylabel('Added to genre')\n",
    "ax2.set_title('Series added to genre per year', fontweight = 'bold')\n",
    "\n",
    "\n",
    "\n",
    "for genre in movieGenres:\n",
    "    ax1.plot(genresAddedPerYearMovies.loc[genre], marker = '.')\n",
    "\n",
    "for genre in seriesGenres:\n",
    "    ax2.plot(genresAddedPerYearSeries.loc[genre], marker = '.')\n",
    "\n",
    "ax1.legend(movieGenres, loc = 2, fontsize = 5)\n",
    "ax2.legend(seriesGenres, loc = 2, fontsize = 5)\n",
    "plt.show()"
   ]
  },
  {
   "cell_type": "markdown",
   "metadata": {},
   "source": [
    "We can tell from these two plots that the amount of new content added has been increasing every year, and the growth started to spike around 2015. We can also tell that there hasn't been added any new series in the years between 2008 and 2012. There are in total 11 movies/series missing a added date where 10 of them are series. Some of these, or all, might have been added in the years between 2008 and 2012, but we don't really know."
   ]
  },
  {
   "cell_type": "markdown",
   "metadata": {},
   "source": [
    "## Combinations of genres"
   ]
  },
  {
   "cell_type": "code",
   "execution_count": null,
   "metadata": {},
   "outputs": [],
   "source": [
    "def genreCombos(df: pd.DataFrame) -> pd.DataFrame:\n",
    "        # Genre of every movie/series\n",
    "    genres = correlation_between_genres.genresOfMoviesSeries(df)\n",
    "\n",
    "    # How many occurences a genre needs to have to be included in the data\n",
    "    TOTAL_OCCURENCE_THRESHOLD = 100\n",
    "\n",
    "    # How many times a genre occurs\n",
    "    genreOccurence = correlation_between_genres.totalOccurenceOfGenres(genres)\n",
    "\n",
    "    # Only keeping genres that has an occurence higher than the threshold\n",
    "    genreOccurence = genreOccurence[genreOccurence > TOTAL_OCCURENCE_THRESHOLD]\n",
    "\n",
    "    # Cross-section between genres\n",
    "    corrMatrix = pd.DataFrame(index = genreOccurence.keys(), columns = genreOccurence.keys())\n",
    "\n",
    "    # Filling corrMatrix with values\n",
    "    for genre1 in corrMatrix.keys():\n",
    "        for genre2 in corrMatrix.keys():\n",
    "            mainGenre = correlation_between_genres.moviesSeriesWithGenre(genres, genre1)\n",
    "            genreCombination = correlation_between_genres.moviesSeriesWithGenre(mainGenre, genre2)\n",
    "\n",
    "            if(genre1 == genre2):\n",
    "                corrMatrix[genre1][genre2] = 0\n",
    "            else:\n",
    "                corrMatrix[genre1][genre2] = len(genreCombination)\n",
    "                \n",
    "    return corrMatrix"
   ]
  },
  {
   "cell_type": "markdown",
   "metadata": {},
   "source": [
    "### Combination of genres in movies\n",
    "NB! To show this plot open in JupyterLab."
   ]
  },
  {
   "cell_type": "code",
   "execution_count": null,
   "metadata": {},
   "outputs": [],
   "source": [
    "moviesGenreCombos = genreCombos(dfMovies)\n",
    "\n",
    "# Converts the cross-section matrix to a list as it is needed it the next step.\n",
    "genreCombinationValues = moviesGenreCombos.values.tolist()\n",
    "genreNames = moviesGenreCombos.index.tolist()\n",
    "\n",
    "# NOTE: Requires to be run in jupyter lab as the plot won't show in notebook.\n",
    "chord.Chord(genreCombinationValues, genreNames, margin=80, font_size_large='10px').show()"
   ]
  },
  {
   "cell_type": "markdown",
   "metadata": {},
   "source": [
    "### Combination of genres in series\n",
    "NB! To show this plot open in JupyterLab."
   ]
  },
  {
   "cell_type": "code",
   "execution_count": null,
   "metadata": {},
   "outputs": [],
   "source": [
    "moviesGenreCombos = genreCombos(dfSeries)\n",
    "\n",
    "# Converts the cross-section matrix to a list as it is needed it the next step.\n",
    "genreCombinationValues = moviesGenreCombos.values.tolist()\n",
    "genreNames = moviesGenreCombos.index.tolist()\n",
    "\n",
    "# NOTE: Requires to be run in jupyter lab as the plot won't show in notebook.\n",
    "chord.Chord(genreCombinationValues, genreNames, margin=80, font_size_large='10px').show()"
   ]
  },
  {
   "cell_type": "markdown",
   "metadata": {},
   "source": [
    "## Chapter 1.2 - Patterns in genres (Aleksander)"
   ]
  },
  {
   "cell_type": "markdown",
   "metadata": {},
   "source": [
    "In this part, we wish to study how the catalogue changes per month over the various years. This is to identify (if there are) any patterns in the publication of new content. \n",
    "\n",
    "We start off by studying how the overall content is added to the catalogue:"
   ]
  },
  {
   "cell_type": "code",
   "execution_count": null,
   "metadata": {},
   "outputs": [],
   "source": [
    "#Start by making a copy of initial data_set:\n",
    "df = data_set[[\"type\",\"date_added\"]].copy()\n",
    "\n",
    "\n",
    "#We skip the rows where date_added is unknown,\n",
    "#because these entries are irrelevant to the pattern of \n",
    "#content publication:\n",
    "df = df[df.date_added != \"Unknown date_added\"]\n",
    "\n",
    "#We know the current dataset:\n",
    "df.head(10) #Only displaying top 10. "
   ]
  },
  {
   "cell_type": "markdown",
   "metadata": {},
   "source": [
    "Since we wish to create a heatmap for months versus years for added content, we need to extract months and years from the date_added column. This is done by the apply() function \\[1] and using lambda functions:"
   ]
  },
  {
   "cell_type": "code",
   "execution_count": null,
   "metadata": {},
   "outputs": [],
   "source": [
    "df[\"year\"] = df[\"date_added\"].apply(lambda x: x.split(\", \")[-1])  #Lambda: Iterates though every entry. Splits by comma and extracts the last value (which is year)\n",
    "df[\"month\"] = df[\"date_added\"].apply(lambda x: x.lstrip().split(\" \")[0]) #Remove leading whitespace using lstrip(), then using split by whitespace and extracting the first value\n",
    "df.head(10) #Display changes"
   ]
  },
  {
   "cell_type": "markdown",
   "metadata": {},
   "source": [
    "In order to make a heatmap, we convert the dataframe to a dataframe where the index are years and the columns are months. Then, we can count the number of times content is added per month and year:"
   ]
  },
  {
   "cell_type": "code",
   "execution_count": null,
   "metadata": {},
   "outputs": [],
   "source": [
    "df_grp = df.groupby(\"year\") #Group dataframe by year to index it by years\n",
    "df_grp = df_grp[\"month\"].value_counts() #Counts unique values (year and month)\n",
    "df_tab = df_grp.unstack() #Unstack to create a \"tablezed\" version of the dataframe. Source [https://riptutorial.com/pandas/example/6787/stacking-and-unstacking]\n",
    "df_tab"
   ]
  },
  {
   "cell_type": "markdown",
   "metadata": {},
   "source": [
    "Now we wish to replace NaNs by 0 and sort the columns by the months of the year:"
   ]
  },
  {
   "cell_type": "code",
   "execution_count": null,
   "metadata": {},
   "outputs": [],
   "source": [
    "df_tab = df_tab.fillna(0) #Fill NaNs with 0.\n",
    "\n",
    "months = [\"January\",\"February\",\"March\",\"April\",\"May\",\"June\",\"July\",\n",
    "         \"August\",\"September\",\"October\",\"November\",\"December\"]\n",
    "\n",
    "df_tab = df_tab[months] #Sort colum by months\n",
    "df_tab"
   ]
  },
  {
   "cell_type": "markdown",
   "metadata": {},
   "source": [
    "Finally, we may use this \"tablelized\" dataframe to plot a nice heatmap:"
   ]
  },
  {
   "cell_type": "code",
   "execution_count": null,
   "metadata": {},
   "outputs": [],
   "source": [
    "import matplotlib.pyplot as plt\n",
    "plt.style.use(\"ggplot\")\n",
    "plt.figure(figsize=(15,15))\n",
    "plt.pcolor(df_tab, cmap=\"Greens\", edgecolors = \"white\",linewidths=2) #Source: https://matplotlib.org/3.1.1/api/_as_gen/matplotlib.pyplot.pcolor.html\n",
    "plt.xticks(np.arange(0.5, len(df_tab.columns), 1), df_tab.columns) #Notice 0.5 to get months and years in middle of sqaures\n",
    "plt.yticks(np.arange(0.5, len(df_tab.index), 1), df_tab.index)\n",
    "plt.colorbar(orientation=\"horizontal\") #Adds colorbar to the plot\n",
    "plt.title(\"Content update per month and year\")\n",
    "plt.xlabel(\"Month\")\n",
    "plt.ylabel(\"Year\")"
   ]
  },
  {
   "cell_type": "markdown",
   "metadata": {},
   "source": [
    "We see that the amount of content update per month has been steadily increasing since the end of 2016. The figure also clearly indicated that November of 2019 was the month where the most contend were added. If the last total year of data (2019) is considered, we see that there less content beeing added in august and september. Therefore, adding data these months might increase the probability of success, as there is less competition among new content these months.\n",
    "\n",
    "Now that we have an overall view of the added content on a per month basis, we can closer study when specific content is added to the catalogue.\n",
    "\n",
    "The process above has been defined into functions in the yrs_months.py-file, so we only need to get a relevant dataframe and then the process  is done by the function heatplot_analysis(). "
   ]
  },
  {
   "cell_type": "code",
   "execution_count": null,
   "metadata": {},
   "outputs": [],
   "source": [
    "#Checking when TV Shows are added: \n",
    "\n",
    "df = data_set[[\"date_added\",\"type\"]].copy()\n",
    "df_shows = df.loc[df[\"type\"] == \"TV Show\"]\n",
    "\n",
    "yrs_months.heatplot_analysis(df_dramas,\"Overview of when TV Shows are added\",\"Month\",\"Year\")\n"
   ]
  },
  {
   "cell_type": "markdown",
   "metadata": {},
   "source": [
    "We see that for TV Shows, there has been a steady increase in content starting in December 2016. The most TV Shows were added in December of 2019. The amount of content added during this month was over 100 titles, as seen from in the colorscheme. \n",
    "\n",
    "Now let us get an overview of when movies have been added:"
   ]
  },
  {
   "cell_type": "code",
   "execution_count": null,
   "metadata": {},
   "outputs": [],
   "source": [
    "df_movie = df.loc[df[\"type\"] == \"Movie\"]\n",
    "\n",
    "yrs_months.heatplot_analysis(df_movie,\"Overview of when Movies are added\",\"Month\",\"Year\")"
   ]
  },
  {
   "cell_type": "markdown",
   "metadata": {},
   "source": [
    "From the above figure, we see that November of 2019 was the month were most movies were added to the catalogue. This month, there where over 200 movie titles added. This is approximately twice as many movies added in Novembr 2019 compared to TV shows added in December 2019, which was the month most TV shows were added. This might be because it is easier to produce a movie compared to an enitre TV show. \n",
    "\n",
    "Now let us study some genre specific content and see if there are any patterns. \n",
    "\n",
    "The first place to start when determining if there are any seasonal patterns in the publication of conent is perhaps the most obvious: christmas content. Naturally, one might expect this content to be added to the catalogue towards christmas (november and december). \n",
    "\n",
    "Since Christmas is not a unique genre, we identify christmas movies by extracting all rows where the word \"Christmas\" is in the description column. "
   ]
  },
  {
   "cell_type": "code",
   "execution_count": null,
   "metadata": {},
   "outputs": [],
   "source": [
    "df_xmas = data_set[[\"date_added\",\"description\"]].copy()\n",
    "df_xmas = df_xmas[df_xmas[\"description\"].str.contains(\"Christmas\")]\n",
    "yrs_months.heatplot_analysis(df_xmas,\"Overview of Christmas content additions\",\"Month\",\"Year\")"
   ]
  },
  {
   "cell_type": "markdown",
   "metadata": {},
   "source": [
    "As seen from the above plot, there is a clear pattern in when Christmas related content is added to the Netflix catalogue. We see that most Christmas content is added in November and December.\n",
    "\n",
    "Another category that might containt some pattern is Horror, which one might expect to come out before Halloween. Therefore, we check for when Horrer content is added: "
   ]
  },
  {
   "cell_type": "code",
   "execution_count": null,
   "metadata": {},
   "outputs": [],
   "source": [
    "df_horror = data_set[[\"date_added\",\"listed_in\"]].copy()\n",
    "df_horror = df_horror[df_horror[\"listed_in\"].str.contains(\"Horror\")]\n",
    "yrs_months.heatplot_analysis(df_horror,\"Overview of when Horror content is added\",\"Month\",\"Year\")"
   ]
  },
  {
   "cell_type": "markdown",
   "metadata": {},
   "source": [
    "We see that there is a large addition of Horror content (~25 titles) in January of 2020. Since the dataset stops at January 2020, it is difficult to make conclusions of the pattern of that specific year. By studying 2019, we see that May and October were two months when a significant amount of Horror relted content was added. For 2018, we see that September was the month with the most added Horror content. Thus, there is a weak pattern, but we cannot say definetly that Netflix adds more content before Halloween, as there were added large amounts in May 2019 and January 2020. \n",
    "\n",
    "Another category that might be of interest to study patterns in are love movies, and if there are any relation to the release of romantic movies around valentines:"
   ]
  },
  {
   "cell_type": "code",
   "execution_count": null,
   "metadata": {},
   "outputs": [],
   "source": [
    "df_love = data_set[[\"date_added\",\"listed_in\"]].copy()\n",
    "df_love = df_love[df_love[\"listed_in\"].str.contains(\"Romantic\")]\n",
    "yrs_months.heatplot_analysis(df_love,\"Overview of when Romantic content is added\",\"Month\",\"Year\")"
   ]
  },
  {
   "cell_type": "markdown",
   "metadata": {},
   "source": [
    "As can be seen form the above plot, there does not seem to be any relation between valentines day and the addition of Romantic content. \n",
    "\n",
    "Finally, we check to see if there are any relation between the addition of kids content and summer holiday and Christmas break: "
   ]
  },
  {
   "cell_type": "code",
   "execution_count": null,
   "metadata": {},
   "outputs": [],
   "source": [
    "df_kids = data_set[[\"date_added\",\"listed_in\"]].copy()\n",
    "df_kids = df_kids[df_kids[\"listed_in\"].str.contains(\"Kids'\")]\n",
    "yrs_months.heatplot_analysis(df_kids,\"Overview of when Kids' content is added\",\"Month\",\"Year\")"
   ]
  },
  {
   "cell_type": "markdown",
   "metadata": {},
   "source": [
    "In January of 2016, there was a large addition of kids' content to the catalogue. This is related to the fact that in January of 2016, Netflix announced that they would launch originals targeting kids \\[4]. This is easily identified in the heatmap. There was a large addition of content in July 2019. However, none of the other years contain large summer releases, and we can therefore not conclude that there are any patterns in releasing content for kids around the summer holiday. For the period 2017-2019, if one compares the first half of the year (Jan-June) to the second half of the year (July-Dec), there seem to be more content coming out in the second half of the year. "
   ]
  },
  {
   "cell_type": "markdown",
   "metadata": {},
   "source": [
    "#### Sources for chap 1.2\n",
    "\n",
    "\\[1] pandas.DataFrame.apply [online]. Accessed 27/11/2020. avalable at < https://pandas.pydata.org/pandas-docs/stable/reference/api/pandas.DataFrame.apply.html >\n",
    "\n",
    "\\[2] Stacking and unstacking [online]. Accessed 28/11/2020. Available at < https://riptutorial.com/pandas/example/6787/stacking-and-unstacking >\n",
    "\n",
    "\\[3] matplotlib.pyplot.pcolor [online]. Accessed 29/11/2020. Available at < https://matplotlib.org/3.1.1/api/_as_gen/matplotlib.pyplot.pcolor.html >\n",
    "\n",
    "\\[4] Timeline of Netflix [online]. Accessed 06/12/2020. Available at < https://en.wikipedia.org/wiki/Timeline_of_Netflix >\n"
   ]
  },
  {
   "cell_type": "markdown",
   "metadata": {},
   "source": [
    "# Summary genre"
   ]
  },
  {
   "cell_type": "markdown",
   "metadata": {},
   "source": [
    "# Content evolution of Netflix."
   ]
  },
  {
   "cell_type": "code",
   "execution_count": null,
   "metadata": {},
   "outputs": [],
   "source": [
    "# Import the library used for plot\n",
    "import seaborn as sns\n",
    "import matplotlib.pyplot as plt\n",
    "\n",
    "plt.figure(figsize = (35,6))\n",
    "sns.countplot(x='release_year', data = data_set, hue='type') # Plot the release year"
   ]
  },
  {
   "cell_type": "code",
   "execution_count": null,
   "metadata": {},
   "outputs": [],
   "source": [
    "# See when series and movies where added to netflix catalouge\n",
    "df = data_set.copy()\n",
    "df['year_added'] = df['date_added'].str[-4:]\n",
    "df['year_added'].replace({\"dded\": \"unknown\"}, inplace = True)\n",
    "df.sort_values(by=['year_added'], inplace=True)\n",
    "\n",
    "plt.figure(figsize = (35,10))\n",
    "sns.countplot(x=df['year_added'], data = df, hue='type')\n"
   ]
  },
  {
   "cell_type": "code",
   "execution_count": null,
   "metadata": {},
   "outputs": [],
   "source": [
    "# Check when they added new and old content to the library\n",
    "\n",
    "data_set['release_year'].value_counts()"
   ]
  },
  {
   "cell_type": "code",
   "execution_count": null,
   "metadata": {},
   "outputs": [],
   "source": [
    "import numpy as np\n",
    "\n",
    "# Ceck when netflix started to add older content to the catalouge\n",
    "\n",
    "df['decade'] = \"\"   # Make new column in the dataset\n",
    "\n",
    "# Make conditions for the plot\n",
    "conditions = [\n",
    "    (df['release_year'] >= 1925) & (df['release_year'] <= 1945),\n",
    "    (df['release_year'] >= 1946) & (df['release_year'] <= 1965),\n",
    "    (df['release_year'] >= 1966) & (df['release_year'] <= 1985),\n",
    "    (df['release_year'] >= 1986) & (df['release_year'] <= 2007),\n",
    "    (df['release_year'] >= 2008) & (df['release_year'] <= 2020)\n",
    "]\n",
    "\n",
    "values = ['1925-1945', '1946-1965', '1966-1985', '1986-2007', '2008-2020'] # Which value to add to the condition interval\n",
    "\n",
    "df['year'] = np.select(conditions, values)   # Add values to decade\n",
    "\n",
    "df.drop(df.loc[df['year']=='2008-2020'].index, inplace=True)  # Drop content made after netflixc was released\n",
    "\n",
    "\n",
    "plt.figure(figsize = (35,20))\n",
    "sns.countplot(x=df['year_added'], data = df, hue='year')\n",
    "\n"
   ]
  },
  {
   "cell_type": "markdown",
   "metadata": {},
   "source": [
    "# Movie recommendations"
   ]
  },
  {
   "cell_type": "markdown",
   "metadata": {},
   "source": [
    "The aim of this part is to create content recommondations based on a given title. \n",
    "In order to create recommondations, one needs to identify similarities between the given title and others titles in the dataset. \n",
    "\n",
    "The similarity between titles will be found by comparing and finding similarities in the description, genre and cast columns. \n",
    "\n",
    "To create recommondations, it is crucial to quantify the similarities. For this porpuse, the cosine similarity will be utlizied. The cosine similarity measures similarity between two vectors by comparing the angle between two vectors and determining if they are pointing in the same direction \\[1]\n",
    "\n",
    "To fully understand this concept before the developement of the recommendation system, a simple example is explained:\n",
    "\n",
    "Consider two texts:\n",
    "\n",
    "text1 = Hello Hello Goodbye\n",
    "\n",
    "text2 = Goodbye Hello Goodbye\n",
    "\n",
    "By identifying the words and their frequency in the two texts, the table below is acheived: \n",
    "\n",
    "|  | Hello | Goodbye |\n",
    "| --- | --- | --- |\n",
    "| textA | 2 | 1 |\n",
    "| textB | 1 | 2 |\n",
    "\n",
    "This can now be visualized as vectors: \n"
   ]
  },
  {
   "cell_type": "code",
   "execution_count": null,
   "metadata": {},
   "outputs": [],
   "source": [
    "import matplotlib.pyplot as plt\n",
    "plt.style.use(\"ggplot\")\n",
    "text1_occurences = [2,1]\n",
    "text2_occurences = [1,2]\n",
    "vectors = np.array([text1_occurences,text2_occurences])\n",
    "origin = np.array([[0, 0],[0,0]])\n",
    "plt.quiver(*origin,vectors[:,0],vectors[:,1],color=[\"r\",\"g\"],angles=\"xy\",scale_units=\"xy\",scale=1)\n",
    "plt.xlim(0,2.5)\n",
    "plt.ylim(0,2.5)\n",
    "plt.xlabel(\"Goodbye\")\n",
    "plt.ylabel(\"Hello\")\n",
    "plt.text(0.4,0.5,\"\\u03B8\",fontsize=17)\n",
    "plt.text(1.02,2.02,\"textA\",fontsize=12,color=\"g\")\n",
    "plt.text(2.02,1.02,\"textB\",fontsize=12,color=\"r\")\n",
    "plt.title(\"Vectorized representation of frequency of words\")\n"
   ]
  },
  {
   "cell_type": "markdown",
   "metadata": {},
   "source": [
    "By letting $\\theta$ be the angle between the two vectors, the cosine similarity  is calculated by: \n",
    "\\begin{equation}\n",
    "\\cos \\theta = \\frac{A \\cdot B}{ |A| \\cdot |B|},\n",
    "\\end{equation}\n",
    "where $A$ and $B$ are vectors representing the occurences of words in textA and textB, and $|A|$ and $|B|$ are the length of the vectors.\n",
    "Recalling from calculus the relation between a cosine value for $\\theta$ and the angle $\\theta$ itself:\n",
    "\n",
    "|  Degrees | cos $\\theta$ |\n",
    "|  --- | --- |\n",
    "|  0 | 1 |\n",
    "|  30 | 0.866 |\n",
    "| 60 |  0.5 |\n",
    "| 90 |  0 |\n",
    "\n",
    "For this angle-identifying reason, the cosine similarity is used to identify similar content. The smaller the angle $\\theta$ is between two vectors, the more similar the conent is. \n",
    "\n",
    "As mentioned above, the description, genre and cast column will be used to identify similarities. We start by extracting the dataframe with the respective columns:"
   ]
  },
  {
   "cell_type": "code",
   "execution_count": null,
   "metadata": {},
   "outputs": [],
   "source": [
    "df = data_set[[\"title\",\"description\",\"listed_in\",\"cast\"]].copy()"
   ]
  },
  {
   "cell_type": "markdown",
   "metadata": {},
   "source": [
    "In order to identify cosine similarities, we need to convert the information in the columns to strings. Therefore, the columns are modified and added to a seperate column. We start by removing stopwords from the description column and cleaning it up: "
   ]
  },
  {
   "cell_type": "code",
   "execution_count": null,
   "metadata": {},
   "outputs": [],
   "source": [
    "import nltk\n",
    "nltk.download('stopwords')\n",
    "from nltk.corpus import stopwords\n",
    "from nltk.tokenize import word_tokenize\n",
    "stop_words = stopwords.words('english')"
   ]
  },
  {
   "cell_type": "code",
   "execution_count": null,
   "metadata": {},
   "outputs": [],
   "source": [
    "df"
   ]
  },
  {
   "cell_type": "code",
   "execution_count": null,
   "metadata": {},
   "outputs": [],
   "source": [
    "#Clean the description column\n",
    "df[\"description\"] = df[\"description\"].str.lower() #converting all words to lower \n",
    "df[\"description\"] = df[\"description\"].str.split() #creating each description to a list\n",
    "df[\"description\"] = df[\"description\"].apply(lambda x: pd.Series(''.join([word + ' ' for word in x if word not in stop_words]))) #series of words not in stop words\n",
    "df[\"description\"] = df[\"description\"].apply(lambda x: x.replace(',','')) #Removing commas\n",
    "df[\"description\"] = df[\"description\"].apply(lambda x: x.replace('.','')) #Removing dots"
   ]
  },
  {
   "cell_type": "code",
   "execution_count": null,
   "metadata": {},
   "outputs": [],
   "source": [
    "#Clean the listed in column\n",
    "df[\"listed_in\"] = df[\"listed_in\"].str.lower()\n",
    "df[\"listed_in\"] = df[\"listed_in\"].str.split()\n",
    "df[\"listed_in\"] = df[\"listed_in\"].apply(lambda x: pd.Series(''.join([word + ' ' for word in x if word not in stop_words])))\n",
    "df[\"listed_in\"] = df[\"listed_in\"].apply(lambda x: x.replace(',',''))\n",
    "df[\"listed_in\"] = df[\"listed_in\"].apply(lambda x: x.replace('.',''))\n",
    "df[\"listed_in\"] = df[\"listed_in\"].apply(lambda x: x.replace('&',''))"
   ]
  },
  {
   "cell_type": "code",
   "execution_count": null,
   "metadata": {},
   "outputs": [],
   "source": [
    "#Clean the cast column\n",
    "df[\"cast\"] = df[\"cast\"].str.lower()\n",
    "df[\"cast\"] = df[\"cast\"].apply(lambda x: x.replace(' ','')) #removing whitespace between first and last name so cosine similraity checks entire actor name, and not only first name and last name\n",
    "df[\"cast\"] = df[\"cast\"].apply(lambda x: x.replace(',',' ')) \n",
    "\n"
   ]
  },
  {
   "cell_type": "code",
   "execution_count": null,
   "metadata": {},
   "outputs": [],
   "source": [
    "#Combine description, listed_in and cast as new column \n",
    "df[\"all_info\"] = df[\"description\"] + df[\"listed_in\"] + df[\"cast\"]\n",
    "#df.iloc[0].all_info run this line to see an example"
   ]
  },
  {
   "cell_type": "code",
   "execution_count": null,
   "metadata": {},
   "outputs": [],
   "source": [
    "df"
   ]
  },
  {
   "cell_type": "markdown",
   "metadata": {},
   "source": [
    "Now that we for each title have a single column containing information about the description, the genres and the cast, we can count instances of different words and create a matrix containing instances count of unique words. This can be acheived by using sklearn.feature_extraction.text.CountVectorizer, which is described to \"convert a collection of text documents to a matrix of token counts\" \\[2]."
   ]
  },
  {
   "cell_type": "code",
   "execution_count": null,
   "metadata": {},
   "outputs": [],
   "source": [
    "from sklearn.feature_extraction.text import CountVectorizer\n",
    "cv = CountVectorizer() #Initialize a CountVectorizer object\n",
    "count_matrix = cv.fit_transform(df[\"all_info\"]) # Identify and count instances in the \"all_info\" column. \n",
    "# print(count_matrix.toarray()) print this line to get a feeling of what the count_matrix looks like"
   ]
  },
  {
   "cell_type": "markdown",
   "metadata": {},
   "source": [
    "Once the count_matrix is acheived, the next step is to find the cosine similarity. For this purpose, sklearn.metrics.pairwise.cosine_similarity is used \\[3]."
   ]
  },
  {
   "cell_type": "code",
   "execution_count": null,
   "metadata": {},
   "outputs": [],
   "source": [
    "from sklearn.metrics.pairwise import cosine_similarity\n",
    "\n",
    "cos_sim = cosine_similarity(count_matrix) #Now the cosine similarities have been quantified\n",
    "#print(cos_sim) print this line to get a feeling of what cosine sims looks like\n",
    "\n",
    "#Defining two helper functions\n",
    "def get_title_from_idx(df,idx):\n",
    "    \"\"\"\n",
    "    Returns the title of a entry from a given index\n",
    "    \"\"\"\n",
    "    return df[df.index == idx].title.values[0]\n",
    "#df[df.index == index][\"title\"].values[0]\n",
    "\n",
    "def get_idx_from_title(df,title):\n",
    "    \"\"\"\n",
    "    Returns the index of a movie from a given title\n",
    "    \"\"\"\n",
    "    return df[df[\"title\"]==title].index.values.astype(int)[0]"
   ]
  },
  {
   "cell_type": "code",
   "execution_count": null,
   "metadata": {},
   "outputs": [],
   "source": [
    "title_user_likes = \"Transformers Prime\" #Test code for transformers prime\n",
    "title_idx = get_idx_from_title(df,title_user_likes) #identify the index of the title that the user likes"
   ]
  },
  {
   "cell_type": "markdown",
   "metadata": {},
   "source": [
    "With the index of the movie, we can find the list of the cosine similarities for the specific title. This is done by:"
   ]
  },
  {
   "cell_type": "code",
   "execution_count": null,
   "metadata": {},
   "outputs": [],
   "source": [
    "specific_cos_sim = cos_sim[title_idx]"
   ]
  },
  {
   "cell_type": "markdown",
   "metadata": {},
   "source": [
    "We need to keep track of the indexes elements in the specific_cos_sim scores. By enumerating, the array of cosine similarity scores are converted into tuples containing the index and the scores. Finally, by converting these tuples into a list, we get a list of tuples containing the index and the scores:"
   ]
  },
  {
   "cell_type": "code",
   "execution_count": null,
   "metadata": {},
   "outputs": [],
   "source": [
    "similar_content = list(enumerate(specific_cos_sim))"
   ]
  },
  {
   "cell_type": "markdown",
   "metadata": {},
   "source": [
    "Now we wish to sort the list of tuples based on similarity scores. \n",
    "\n",
    "This is acheived by using the built-in sorted() function in python. The sorted() function buils a new list. In the official documentation for the sorted()-function, it says that the key should specify a function of one argument that is used to extract a comparison key for each element in the iterable \\[4]. We wish to sort on second value for each tuple (wich is the cosine similirity score). I therefore define a function to acheive this:"
   ]
  },
  {
   "cell_type": "code",
   "execution_count": null,
   "metadata": {},
   "outputs": [],
   "source": [
    "def key_func(val):\n",
    "    return val[1]\n",
    "\n",
    "sorted_similar = sorted(similar_content,key=key_func,reverse=True) #using reverse because we wish to sort by descending order\n",
    "#note, could also have used key = lambda x: x[1]\n",
    "sorted_similar_suggestions = sorted_similar[1:] #Skip the first because this will suggest itself\n",
    "\n",
    "\n",
    "#Print top 5 similar content:\n",
    "print(\"Most similar titles to \"+ title_user_likes + \" are:\")\n",
    "for e in sorted_similar_suggestions[0:5]:\n",
    "    print(get_title_from_idx(df,e[0])) #As above, we have a list of tuples, where index 0 is key and inde 1 is cosine sim score. Therefore give index (e[0]) to function.\n",
    "        "
   ]
  },
  {
   "cell_type": "markdown",
   "metadata": {},
   "source": [
    "As seen from the above list, when entering Transformers Prime as liked content, the code returns content similar to this. This is specially noticeable as the top similar content is another Transformers movie, and we can therefore conclude that this recommondation system works fine. "
   ]
  },
  {
   "cell_type": "code",
   "execution_count": null,
   "metadata": {},
   "outputs": [],
   "source": [
    "#Defining the last part as a function and test a couple of times:\n",
    "\n",
    "def title_recommender(df):\n",
    "    user_likes_title = input(\"What title do you like? \")\n",
    "    user_likes_idx = get_idx_from_title(df,user_likes_title)\n",
    "    specific_cos_sim = cos_sim[user_likes_idx]\n",
    "    similar_content = list(enumerate(specific_cos_sim))\n",
    "    sorted_similar = sorted(similar_content,key=key_func,reverse=True)[1:]\n",
    "    print(\"Most similar titles to \"+ user_likes_title + \" are:\")\n",
    "    for e in sorted_similar[0:5]:\n",
    "        print(get_title_from_idx(df,e[0])) "
   ]
  },
  {
   "cell_type": "code",
   "execution_count": null,
   "metadata": {},
   "outputs": [],
   "source": [
    "title_recommender(df) #Enter \"Breaking Bad\""
   ]
  },
  {
   "cell_type": "markdown",
   "metadata": {},
   "source": [
    "We see that one of the suggestions for Breaking Bad is Better Call Saul. This verify the code that the implementation works well, as the two TV shows are related. \n",
    "\n",
    "#### Sources for Movie recommendation part\n",
    "\n",
    "\\[1] Kamber, M., Han, J. & Pei, J. Data Mining (Third Edition), p.39-81 [online]. Accessed 03/12/20. Available at < https://www.sciencedirect.com/science/article/pii/B9780123814791000022 >\n",
    "\n",
    "\\[2] sklearn.feature_extraction.text.CountVectorizer [online]. Accessed 03/12/20. Available at < https://scikit-learn.org/stable/modules/generated/sklearn.feature_extraction.text.CountVectorizer.html >\n",
    "\n",
    "\\[3] sklearn.metrics.pairwise.cosine_similarity [online]. Accessed 04/12/20. Available at < https://scikit-learn.org/stable/modules/generated/sklearn.metrics.pairwise.cosine_similarity.html >\n",
    "\n",
    "\\[4] Python Built-In Functions [online]. Accessed 05/12/20. Available at < https://docs.python.org/3/library/functions.html#sorted >\n"
   ]
  },
  {
   "cell_type": "markdown",
   "metadata": {},
   "source": [
    "# Neural Network\n",
    "\n",
    "Ex 4. Try to predict the genre of a movie/show based on the director, actors, etc. using\n",
    "machine/deep learning techniques.\n",
    "\n",
    "Here we take a dive into a Neural Network model. It was decided to use the model [MLPClassifier][MLPClassifier] from the sklearn library. We will start this chapter with some displamers. \n",
    "\n",
    "Only the finalized model will be displayed here. The data has been polished the python file _cleaning_data_for_NN.py_ to improve the final product. The changes has been mainly to combine similar genres and to remove names of actor/actresses that were only displayed once in the dataset. We believed this would improve our model. \n",
    "\n",
    "As stated, the model has been ran several times, however, only the final model has been displayed below.Furthermore, the previous model has been saved and their report is located below in the [result](#Results) section.\n",
    "\n",
    "\n",
    "## Programming Logic\n",
    "\n",
    "The core of the programming logic for the final model is simple. In the _cleaning_data_for_NN.py_ file we start by cleaning the provided [netflix data][netflixData] set. Removing nan values and values that were incoherent. Movies/TV Shows labled _just_ Movies/TV Shows were dropped from the dataset, and genres labeled with \"TV Show\" or \"Movie\", as for example Romantic Movies ( or Romantic TV Shows) were renamed to just Romantic. The main reason were try to improve the amount of datapoints with the same genre and reducing the amount of classes in the output data. \n",
    "\n",
    "Afterwards the data were checked for duplicates. We had issues with some lables because they were mentioned twice in a row. The biggest issue were about \"International Movies/TV Shows\". Our decision to combine all International subject to a larger genre called \"International\" made it often appeared more than once in several row it was a subject of. We decided to remove duplicates and the Pandas Dataframe were saved to another CSV file, called _cleaned_Netflix_for_NN.csv_.\n",
    "\n",
    "[MLPClassifier]: https://scikit-learn.org/stable/modules/generated/sklearn.neural_network.MLPClassifier.html\n",
    "[netflixData]: https://www.kaggle.com/shivamb/netflix-shows"
   ]
  },
  {
   "cell_type": "markdown",
   "metadata": {},
   "source": [
    "### Reading of CSV file, creating and transforming X & y data.\n",
    "\n",
    "The file _final_NN_script.py_ contains the logic of the final Neural Network algorithm. It will be presented in parts below."
   ]
  },
  {
   "cell_type": "code",
   "execution_count": null,
   "metadata": {},
   "outputs": [],
   "source": [
    "import numpy as np\n",
    "import pandas as pd\n",
    "import seaborn as sns\n",
    "import matplotlib.pyplot as plt\n",
    "import datetime\n",
    "import pickle\n",
    "\n",
    "from sklearn.feature_extraction.text import CountVectorizer\n",
    "from sklearn.model_selection import train_test_split\n",
    "from sklearn.neural_network import MLPClassifier\n",
    "from sklearn.feature_extraction import text \n",
    "from sklearn.metrics import classification_report, multilabel_confusion_matrix"
   ]
  },
  {
   "cell_type": "code",
   "execution_count": null,
   "metadata": {},
   "outputs": [],
   "source": [
    "netflix_data=pd.read_csv(\"cleaned_Netflix_for_NN.csv\")\n",
    "\n",
    "smaller_data = netflix_data.copy()\n",
    "\n",
    "y = smaller_data.listed_in\n",
    "X = [','.join((d, c, r, t)) for d,c,r,t in zip(\n",
    "                                                smaller_data.director, \n",
    "                                                smaller_data.cast, \n",
    "                                                smaller_data.rating, \n",
    "                                                smaller_data.title\n",
    "                                            )]\n",
    "\n",
    "# Custom stop words for the CountVectorizer to ignore while transforming.\n",
    "customStopWords=['no cast', 'no director', 'movies', 'tv shows',\n",
    "                'lgbtq movies', 'teen tv shows', 'cult'] \n",
    "\n",
    "# Find all actors that only appears once in the dataset\n",
    "customCastStopWords = smaller_data.cast.str.split(', ').explode().value_counts()[\n",
    "    smaller_data.cast.str.split(', ').explode().value_counts() < 2].keys()\n",
    "customCastStopWords = [x.lower() for x in customCastStopWords] # Make all values lowercase\n",
    "\n",
    "# Add stopwords for vectorizer into single frozenset\n",
    "stop_words = text.ENGLISH_STOP_WORDS.union(customStopWords)\n",
    "stop_words = stop_words.union(list(customCastStopWords))\n",
    "\n",
    "# Split data into train and test data, training data = 80% of original data & test = 20%.\n",
    "X_train, X_test, y_train, y_test = train_test_split(X,y,test_size=0.2,random_state=1000) \n",
    "\n",
    "# Define the vectorizer algorithm\n",
    "matrix = CountVectorizer(\n",
    "    tokenizer=lambda row: [x.strip() for x in row.split(',') if x != ''], \n",
    "    stop_words=stop_words)\n",
    "\n",
    "# Transform X data\n",
    "x_train_fit = matrix.fit_transform(X_train)\n",
    "x_test_fit = matrix.transform(X_test)\n",
    "\n",
    "# Transform y data\n",
    "y_train_fit = matrix.fit_transform(y_train)\n",
    "y_test_fit = matrix.transform(y_test)\n",
    "\n",
    "# Printing out all genres in the y data\n",
    "print(\"Genres:\")\n",
    "for i in matrix.get_feature_names():\n",
    "    print(i)"
   ]
  },
  {
   "cell_type": "markdown",
   "metadata": {},
   "source": [
    "#### X & y data\n",
    "\n",
    "A few lines needs to be explained in the code section above. The fist is the making of the Y and X data (out and in data) used by the Neural Network algorithm. \n",
    "```python\n",
    "y = smaller_data.listed_in\n",
    "X = [','.join((d, c, r, t)) for d,c,r,t in zip(\n",
    "                                                smaller_data.director, \n",
    "                                                smaller_data.cast, \n",
    "                                                smaller_data.rating, \n",
    "                                                smaller_data.title\n",
    "                                            )]\n",
    "```\n",
    "\n",
    "y data is the output prediction, and in this model we are trying to predict genres from numerous columns of the data set. Alittle selfexplanatory that the y (out) data points needs to be the genres, which, in the dataset is called _listed_in_\n",
    "\n",
    "The X data has a simple ( and potentionally improved ) python _join_ method implementation. We make use of the _CountVectorizer_ method deployed by the sklearn library. This will be further explained later, now we just need to know the input of this can be either a string or byte. \n",
    "\n",
    "[From the countVectorizer documentation][countVectorizer]: \n",
    "> input : string {‘filename’, ‘file’, ‘content’}, default=’content’ <br>\n",
    "> _Otherwise the input is expected to be a sequence of items that can be of type string or byte._\n",
    "\n",
    "To get around this issue (easily) since we want several columns the join method were implemented. Here, for each row, we join all directors, cast members, the rating and the tile into single list of string. This is discussed in the [Improvment Chapter](#Improvments-and-further-research)\n",
    "\n",
    "[countVectorizer]: https://scikit-learn.org/stable/modules/generated/sklearn.feature_extraction.text.CountVectorizer.html\n",
    "\n",
    "#### Stopwords\n",
    "\n",
    "The next section explained is the stopword logic. Because the netflix data set has empty cells from nearly each column, we made use of the imputation method explained earlier and replaces the empty words with filler words as _No Director_ or _No Cast_. Because these words is selfmade and has no meaning, they needs to not be counted by the CountVectorizer method. Here the stopwords come into play. By writing _No Director_ or _No Cast_ as stopwords (among others), we can rely on the method to not take these words into account when making the fitted data.\n",
    "\n",
    "\n",
    "```python\n",
    "# Custom stop words for the CountVectorizer to ignore while transforming.\n",
    "customStopWords=['no cast', 'no director', 'movies', 'tv shows',\n",
    "                'lgbtq movies', 'teen tv shows', 'cult'] \n",
    "\n",
    "customCastStopWords = smaller_data.cast.str.split(', ').explode().value_counts()[\n",
    "    smaller_data.cast.str.split(', ').explode().value_counts() < 2].keys()\n",
    "                                                                                 \n",
    "customCastStopWords = [x.lower() for x in customCastStopWords] # Make all values lowercase\n",
    "\n",
    "# Add stopwords for vectorizer into single frozenset\n",
    "stop_words = text.ENGLISH_STOP_WORDS.union(customStopWords)\n",
    "stop_words = stop_words.union(list(customCastStopWords))\n",
    "```\n",
    "\n",
    "This section of code creates the stopwords for the final model. From previous test the ``` 'lgbtq movies', 'teen tv shows', 'cult' ``` values were added to the stopwords due to the results from the [Classification Report](https://scikit-learn.org/stable/modules/generated/sklearn.metrics.classification_report.html) from a previous model. \n",
    "Further it was decided to remove all actors that only appeared in one movie. The variable _customCastStopWords_ stores these values. \n",
    "\n",
    "#### CountVectorizer\n",
    "\n",
    "After splitting the data into both test and train datasets with a ratio of 20 to 80 percent of the original dataset, the CountVectorizer is used. The documentation explains the class from sklearn as this: \n",
    "> Convert a collection of text documents to a matrix of token counts\n",
    "\n",
    "The method is implemented with a lamdba function: ```  tokenizer=lambda row: [x.strip() for x in row.split(',') if x != ''] ``` The tokenizer paramter is explained as such: \n",
    "> tokenizer : callable, default=None <br>\n",
    "Override the string tokenization step while preserving the preprocessing and n-grams generation steps. \n",
    "\n",
    "This is the parameter that is used to split the words from each row. The lamdba function has been implemented to make use of the join method used to join all the different columns. Now each row gets split and stripped for whitespaces to make sure that every item is the same.  "
   ]
  },
  {
   "cell_type": "markdown",
   "metadata": {},
   "source": [
    "### MLPClassifier method"
   ]
  },
  {
   "cell_type": "code",
   "execution_count": null,
   "metadata": {},
   "outputs": [],
   "source": [
    "hidden_layer = 1000 #round(x_train_fit.shape[1]*(2/3) + y_train_fit.shape[1])\n",
    "\n",
    "# Small datetime to check when ML started\n",
    "datetime_object = datetime.datetime.now()\n",
    "print(\"Begin ML: \", datetime_object)\n",
    "\n",
    "# Neural Network algorithm\n",
    "clf = MLPClassifier(hidden_layer_sizes=(hidden_layer,hidden_layer ),\n",
    "                    solver='adam', verbose=True, \n",
    "                    random_state=1, max_iter=50) \n",
    "\n",
    "clf.fit(x_train_fit, y_train_fit)\n",
    "\n",
    "# Small datetime to check when ML stopped\n",
    "datetime_object = datetime.datetime.now()\n",
    "print(\"End ML: \", datetime_object)"
   ]
  },
  {
   "cell_type": "markdown",
   "metadata": {},
   "source": [
    "## Results\n",
    "\n",
    "As this defined as a unbalanced multilabeled classification, we can look at the micro average results to best see the results of the NN model.\n",
    "By having the _drama_ genre as an example: \n",
    "\n",
    "Precision is calculated: <br>\n",
    "drama correctly indentified divided by drama correctly identified plus other genres identified as drama\n",
    "\n",
    "Recall is calculated:\n",
    "Drama correctly identified by drama correctly identified plus drama identified as other genres. \n",
    "##### First model\n",
    "\n",
    "First we present the Classification Report of the First model\n",
    "\n"
   ]
  },
  {
   "cell_type": "code",
   "execution_count": null,
   "metadata": {},
   "outputs": [],
   "source": [
    "from first_NN_model import first_NN_model\n",
    "\n",
    "x_train_fit, x_test_fit, y_train_fit, y_test_fit, matrix = first_NN_model()\n",
    "\n",
    "fileName = 'first_unflitered_NN_model.sav'\n",
    "\n",
    "loaded_model = pickle.load(open(fileName, 'rb'))\n",
    "y_pred = loaded_model.predict(x_test_fit)\n",
    "\n",
    "\n",
    "print(\"Classification Report: \\n\", classification_report(y_test_fit,y_pred, target_names=list(matrix.get_feature_names())))\n"
   ]
  },
  {
   "cell_type": "markdown",
   "metadata": {},
   "source": [
    "Before cleaning up the data we can still see a good precision score, however the recall score is lower. "
   ]
  },
  {
   "cell_type": "markdown",
   "metadata": {},
   "source": [
    "#### Improving genre data\n",
    "\n",
    "The first attempt to improve the results were to redefine genres. Previous report says several genres had a precision and recall score of 0, thus we made the decision to combine the genres and/or removed them from the transformed dataset. The resulting report is seen below."
   ]
  },
  {
   "cell_type": "code",
   "execution_count": null,
   "metadata": {},
   "outputs": [],
   "source": [
    "from cleaned_genres_script import cleaned_genres_NN_model\n",
    "\n",
    "x_train_fit, x_test_fit, y_train_fit, y_test_fit, matrix = cleaned_genres_NN_model()\n",
    "\n",
    "fileName = 'cleaned_genres_NN_model.sav'\n",
    "\n",
    "loaded_model = pickle.load(open(fileName, 'rb'))\n",
    "y_pred = loaded_model.predict(x_test_fit)\n",
    "\n",
    "\n",
    "print(\"Classification Report: \\n\", classification_report(y_test_fit,y_pred, target_names=list(matrix.get_feature_names())))\n"
   ]
  },
  {
   "cell_type": "markdown",
   "metadata": {},
   "source": [
    "The result shows a good improvment from 0.19 to 0.38 when we cleaned the genres up. We halved the amount of genres from 42  to 22. Our hypothesis to get more refined genres had a positiv result. However, we can still try to get better results. "
   ]
  },
  {
   "cell_type": "markdown",
   "metadata": {},
   "source": [
    "#### Final result\n",
    "\n",
    "The final model removed all actors that only appeared in one movie, (approx 20k names). The logic is seen in the [first subchapter of Programming Logic](#Reading-of-CSV-file,-creating-and-transforming-X-&-y-data.) chapter. We assumed that these names would only confuse the model and not be helpful. The results are printed below in the already saved model."
   ]
  },
  {
   "cell_type": "code",
   "execution_count": null,
   "metadata": {},
   "outputs": [],
   "source": [
    "# Import values needed for classification report\n",
    "from final_NN_script import final_NN_model\n",
    "\n",
    "x_train_fit, x_test_fit, y_train_fit, y_test_fit, matrix = final_NN_model()\n",
    "# Compute results\n",
    "fileName = 'Final_NN_model.sav'\n",
    "\n",
    "loaded_model = pickle.load(open(fileName, 'rb'))\n",
    "y_pred = loaded_model.predict(x_test_fit)\n",
    "\n",
    "\n",
    "print(\"Classification Report: \\n\", classification_report(y_test_fit,y_pred, target_names=list(matrix.get_feature_names())))\n"
   ]
  },
  {
   "cell_type": "markdown",
   "metadata": {},
   "source": [
    "Here we actually see an further improvment on the recall and a small reduction in the precision. Can further small adjustments improve the model? "
   ]
  },
  {
   "cell_type": "markdown",
   "metadata": {},
   "source": [
    "### Confusion Matrix Visualization"
   ]
  },
  {
   "cell_type": "code",
   "execution_count": null,
   "metadata": {},
   "outputs": [],
   "source": [
    "# Confusion Matrix\n",
    "cm = multilabel_confusion_matrix(y_test_fit, y_pred)\n",
    "\n",
    "# Make labels out of genres\n",
    "labels = matrix.get_feature_names()\n",
    " \n",
    "def mutlilabel_cm_plot(confusion_matrix, axes, class_label, class_names, fontsize=14):\n",
    "\n",
    "    df_cm = pd.DataFrame(\n",
    "        confusion_matrix, index=class_names, columns=class_names,\n",
    "    )\n",
    "\n",
    "    try:\n",
    "        heatmap = sns.heatmap(df_cm, annot=True, fmt=\"d\", cbar=False, ax=axes)\n",
    "    except ValueError:\n",
    "        raise ValueError(\"Confusion matrix values must be integers.\")\n",
    "    heatmap.yaxis.set_ticklabels(heatmap.yaxis.get_ticklabels(), rotation=0, ha='right', fontsize=fontsize)\n",
    "    heatmap.xaxis.set_ticklabels(heatmap.xaxis.get_ticklabels(), rotation=45, ha='right', fontsize=fontsize)\n",
    "    axes.set_xlabel('True label')\n",
    "    axes.set_ylabel('Predicted label')\n",
    "    axes.set_title(class_label)\n",
    "    \n",
    "# Plot Confusion Matrix\n",
    "fig, ax = plt.subplots(6, 4, figsize=(7, 12))\n",
    "    \n",
    "for axes, cfs_matrix, label in zip(ax.flatten(), cm, labels):\n",
    "    mutlilabel_cm_plot(cfs_matrix, axes, label, [\"Y\", \"N\"])\n",
    "\n",
    "fig.tight_layout()\n",
    "plt.show()"
   ]
  },
  {
   "cell_type": "markdown",
   "metadata": {},
   "source": [
    "At the end we show the confusion matrixes of all the genres from the final model. "
   ]
  },
  {
   "cell_type": "markdown",
   "metadata": {},
   "source": [
    "### Improvments and further research\n",
    "\n",
    "Here arqe some features that could have been improved given more knowledge and time\n",
    "\n",
    "#### Questions\n",
    "* Could a word embedding model be used to further generalize the names of actor/actresses? \n",
    "* Could the title be used in a better extend? Maybe split and remove more of the same word and not use whole title string as an node?\n",
    "* Could word embedding be used to generelize the training/test data better than the manuall cleaning?\n",
    "\n",
    "#### Improvments\n",
    "* The model could be more refined to accept functions and/or make it more resuable.\n",
    "* The cleaning could be refined to accept different datasets, the genre that were changed is now hardcoded in a dictonary. This is not optimal. "
   ]
  },
  {
   "cell_type": "markdown",
   "metadata": {},
   "source": [
    "# Preparing data for machine learning"
   ]
  },
  {
   "cell_type": "code",
   "execution_count": null,
   "metadata": {},
   "outputs": [],
   "source": [
    "import pandas as pd\n",
    "import numpy as np\n",
    "import data_sanitizer\n",
    "import matplotlib.pyplot as plt\n",
    "\n",
    "dataSet = pd.read_csv('../netflix_titles.csv')"
   ]
  },
  {
   "cell_type": "code",
   "execution_count": null,
   "metadata": {},
   "outputs": [],
   "source": [
    "dataSet = pd.read_csv('../netflix_titles.csv')\n",
    "# Copy listed_in column into it's own dataframe, split each genre into it's own columns and rename the columns\n",
    "genres = dataSet['listed_in'].str.split(', ', expand=True)\n",
    "genres.rename(columns = {0: 'genre1', 1: 'genre2', 2: 'genre3'}, inplace = True)\n",
    "genres"
   ]
  },
  {
   "cell_type": "code",
   "execution_count": null,
   "metadata": {},
   "outputs": [],
   "source": [
    "# Do the same as above for cast and director columns\n",
    "cast = dataSet['cast'].str.split(', ', expand = True)\n",
    "director = dataSet['director'].str.split(', ', expand = True)\n",
    "\n",
    "for i in cast.keys():\n",
    "    cast.rename(columns={i: 'actor{}'.format(i + 1)}, inplace = True)\n",
    "\n",
    "for i in director.keys():\n",
    "    director.rename(columns={i: 'director{}'.format(i + 1)}, inplace = True)\n",
    "\n",
    "cast"
   ]
  },
  {
   "cell_type": "code",
   "execution_count": null,
   "metadata": {},
   "outputs": [],
   "source": [
    "# Remove International Movies and International TV Shows from genres as it is overrepresented and doesn't really tell us much\n",
    "\n",
    "genres = genres.replace({'International Movies': None})\n",
    "genres = genres.replace({'International TV Shows': None})"
   ]
  },
  {
   "cell_type": "code",
   "execution_count": null,
   "metadata": {},
   "outputs": [],
   "source": [
    "# Set any cell that doesn't have a value to nan\n",
    "director = director[director.notnull()]\n",
    "cast = cast[cast.notnull()]\n",
    "genres = genres[genres.notnull()]\n",
    "genres"
   ]
  },
  {
   "cell_type": "code",
   "execution_count": null,
   "metadata": {},
   "outputs": [],
   "source": [
    "# Fetch how many times each director occurs in movies and series\n",
    "directorOccurence = pd.Series()\n",
    "\n",
    "for col in director:\n",
    "    count = director[col].value_counts()\n",
    "    directorOccurence = directorOccurence.add(count, fill_value = 0)\n",
    "\n",
    "directorOccurence = directorOccurence.sort_values(ascending=False)\n",
    "\n",
    "# Which directors occur in more than 7 movies and series\n",
    "directorOccurence[directorOccurence > 7]"
   ]
  },
  {
   "cell_type": "code",
   "execution_count": null,
   "metadata": {},
   "outputs": [],
   "source": [
    "# Same as above but for actors instead\n",
    "actorOccurence = pd.Series()\n",
    "\n",
    "for col in cast:\n",
    "    count = cast[col].value_counts()\n",
    "    actorOccurence = actorOccurence.add(count, fill_value = 0)\n",
    "\n",
    "actorOccurence = actorOccurence.sort_values(ascending=False)\n",
    "\n",
    "# Actors that occur in more than 2 movies and series\n",
    "actorOccurence\n",
    "actorOccurence[actorOccurence > 2]"
   ]
  },
  {
   "cell_type": "code",
   "execution_count": null,
   "metadata": {},
   "outputs": [],
   "source": [
    "cast.count()\n",
    "# We can tell from this that there are very few data entries in the columns further out and we choose to drop\n",
    "# these as there won't be much information lost compared to the potential gain in memory saved."
   ]
  },
  {
   "cell_type": "code",
   "execution_count": null,
   "metadata": {},
   "outputs": [],
   "source": [
    "# Only want to keep columns with more than 100 data points\n",
    "\n",
    "# Potential problem with this approach is that we could lose informtion on the same actor in the case where an actor always occurs as one of the last everytime\n",
    "cast = cast[cast.count().keys()[cast.count().values > 100]]\n",
    "cast"
   ]
  },
  {
   "cell_type": "code",
   "execution_count": null,
   "metadata": {},
   "outputs": [],
   "source": [
    "fig, (ax1, ax2) = plt.subplots(1, 2)\n",
    "fig.subplots_adjust(right = 3, top = 2)\n",
    "\n",
    "# Plot comparing the directors who occurs the most.\n",
    "directorsTop = directorOccurence.iloc[0:50].sort_values()\n",
    "\n",
    "ax1.set_title('Top 50 directors by occurance', fontweight = 'bold')\n",
    "ax1.set_xlabel('Occurance')\n",
    "ax1.barh(width = directorsTop.values, y = directorsTop.keys())\n",
    "\n",
    "# Plot comparing the actors who occurs the most.\n",
    "actorsTop = actorOccurence.iloc[0:50].sort_values()\n",
    "\n",
    "ax2.set_title('Top 50 actors by occurance', fontweight = 'bold')\n",
    "ax2.set_xlabel('Occurance')\n",
    "ax2.barh(width = actorsTop.values, y = actorsTop.keys())\n",
    "\n",
    "fig.show()"
   ]
  },
  {
   "cell_type": "code",
   "execution_count": null,
   "metadata": {},
   "outputs": [],
   "source": [
    "# Check if there is any common genres the directors occur in.\n",
    "\n",
    "# Set to any value between 0 and 50 where 50 is the director with the highest occurance\n",
    "DIRECTOR_INDEX = 25\n",
    "\n",
    "director_with_highest_occurance = directorsTop.index[DIRECTOR_INDEX]\n",
    "\n",
    "movies_series_director_occurs_indexes = []\n",
    "\n",
    "for col in director.columns:\n",
    "    movies_series_director_occurs_indexes += director.loc[director[col] == director_with_highest_occurance].index.values.tolist()\n",
    "\n",
    "\n",
    "genres.iloc[movies_series_director_occurs_indexes]\n",
    "\n",
    "# We can tell from this that there actually seems to be a really big correlation between director and genres (at least for the top 25) as a director\n",
    "# keeps making movies/series in the same genres."
   ]
  },
  {
   "cell_type": "code",
   "execution_count": null,
   "metadata": {},
   "outputs": [],
   "source": [
    "# Check if there is any common genres the actors occur in.\n",
    "\n",
    "# Set to any value between 0 and 50 where 50 is the actor with the highest occurance\n",
    "ACTOR_INDEX = 25\n",
    "\n",
    "actor_with_highest_occurance = actorsTop.index[ACTOR_INDEX]\n",
    "\n",
    "movies_series_actor_occurs_indexes = []\n",
    "\n",
    "\n",
    "\n",
    "for col in cast.columns:\n",
    "    movies_series_actor_occurs_indexes += cast.loc[cast[col] == actor_with_highest_occurance].index.values.tolist()\n",
    "\n",
    "\n",
    "genres.iloc[movies_series_actor_occurs_indexes]\n",
    "\n",
    "# There seems to be some correlation between an actor and genres as well, but not as strong as with the directors. As\n",
    "# many of the actors do occur in the same genres multiple times, but they also deviate from their \"main genre\" at times."
   ]
  },
  {
   "cell_type": "markdown",
   "metadata": {},
   "source": [
    "This relationship between directors and genres, and actors and genres, can be used to predict the genre of a movie based on director and actor, but we got an issue that the number of movies/series an actor/director has been a part of drops of quickly as we can tell from the occurance plots. This means that if we would want to use this information to create a model using machine learning, it could become hard to get a model with high accuracy if what we input to the model doesn't contain any of the directors or actors that has a high occurance, and there isn't particulary many of them."
   ]
  },
  {
   "cell_type": "code",
   "execution_count": 2,
   "metadata": {},
   "outputs": [],
   "source": [
    "from IPython.display import Image"
   ]
  },
  {
   "cell_type": "markdown",
   "metadata": {},
   "source": [
    "# Predict genre from title and description\n",
    "## In this section we are trying to predict genre from the two columns \"title\" and \"description\"\n",
    "### The metedology is:\n",
    "\n",
    "- Import libraries neeeded to make a suitable model and dataset for the model\n",
    "- Clean up the information in the required columns in the dataframe\n",
    "- Find the frequency of all the words used in title and description and remove the common stop words from the english language\n",
    "- Set up a multi label binarizer which is a binary vector representing all genres\n",
    "- Set up a logistic regression model to run the dataset \n",
    "- Use the one vs rest classifier to test each word against the binary vector of genres\n",
    "- The goal is to link the most common words to a genre and be able to predict the genre from the description\n",
    "\n",
    "## Why multilabel?\n",
    "\n",
    "The target value we are testing is genre. Each movie can have several genres and we therefor need a model that can check the input towards several target values. Below is the common 1 vs 1 input to the model and target value represented on the left side. From our data we can have several genres and need a model as shown in the 1 vs multiple targets table.  \n",
    "\n",
    "![title](multilabel.png)\n"
   ]
  },
  {
   "cell_type": "code",
   "execution_count": 3,
   "metadata": {},
   "outputs": [],
   "source": [
    "# import packages needed for data analysis and visialization\n",
    "from matplotlib import pyplot as plt \n",
    "import numpy as np\n",
    "import pandas as pd\n",
    "import seaborn as sns\n",
    "import re\n",
    "import nltk"
   ]
  },
  {
   "cell_type": "markdown",
   "metadata": {},
   "source": [
    "### Explore data set - genres\n",
    "The Netflix catalogue has a total of 42 unique genres. The number of movies or TV shows in each genres vary a lot and ranges from 1927 movies in the \"International Movies\" category to only 10 entries in the \"TV Shows\" category. We see that a few genres are over represented in both the movie and TV show section and a lot of genres have a limited number of entries. The visualization section earlier in the notebook shows more of the distribution of the genres. \n",
    "\n",
    "Due to the relatively short data set and the large number of genres we see that we will have to modify the data set to get more accurate predictions. We ran the method in the end of this section on the full dataset (all genres and types) and will later compare these results to the final results, this to justify some of the choices that were made in the process of cleaning the dataset. "
   ]
  },
  {
   "cell_type": "code",
   "execution_count": 4,
   "metadata": {},
   "outputs": [
    {
     "name": "stdout",
     "output_type": "stream",
     "text": [
      "International Movies        1927\n",
      "Dramas                      1623\n",
      "Comedies                    1113\n",
      "Documentaries                668\n",
      "Action & Adventure           597\n",
      "Independent Movies           552\n",
      "Thrillers                    392\n",
      "Children & Family Movies     378\n",
      "Romantic Movies              376\n",
      "Stand-Up Comedy              281\n",
      "Horror Movies                262\n",
      "Music & Musicals             243\n",
      "Sci-Fi & Fantasy             193\n",
      "Sports Movies                157\n",
      "Classic Movies                84\n",
      "LGBTQ Movies                  60\n",
      "Movies                        56\n",
      "Cult Movies                   55\n",
      "Faith & Spirituality          47\n",
      "Anime Features                45\n",
      "Name: listed_in, dtype: int64\n",
      "International TV Shows          1001\n",
      "TV Dramas                        599\n",
      "TV Comedies                      436\n",
      "Crime TV Shows                   363\n",
      "Kids' TV                         328\n",
      "Docuseries                       279\n",
      "Romantic TV Shows                278\n",
      "British TV Shows                 210\n",
      "Reality TV                       153\n",
      "Korean TV Shows                  132\n",
      "TV Action & Adventure            126\n",
      "Anime Series                     117\n",
      "Spanish-Language TV Shows        117\n",
      "TV Mysteries                      69\n",
      "TV Sci-Fi & Fantasy               68\n",
      "Science & Nature TV               67\n",
      "TV Horror                         54\n",
      "Teen TV Shows                     44\n",
      "TV Thrillers                      44\n",
      "Stand-Up Comedy & Talk Shows      42\n",
      "Classic & Cult TV                 24\n",
      "TV Shows                          10\n",
      "Name: listed_in, dtype: int64\n"
     ]
    }
   ],
   "source": [
    "# Lets check all the unique genres we have in the dataset and the count.\n",
    "movie_genres = data_set['listed_in'].loc[data_set['type'] == 'Movie'].str.split(', ').explode().value_counts()\n",
    "tvshow_genres = data_set['listed_in'].loc[data_set['type'] == 'TV Show'].str.split(', ').explode().value_counts()\n",
    "\n",
    "print(movie_genres)\n",
    "print(tvshow_genres)"
   ]
  },
  {
   "cell_type": "markdown",
   "metadata": {},
   "source": [
    "## Cleaning the dataset\n",
    "\n",
    "First we make a copy of the data set to start to prepare the data as input. It was decided to only use the Movies type for this exercise as this will still give us a large amount of data as there are 4265 movies in the data set. This will also eliminate 22 genres and leave us with 20 genres."
   ]
  },
  {
   "cell_type": "code",
   "execution_count": 5,
   "metadata": {},
   "outputs": [
    {
     "name": "stdout",
     "output_type": "stream",
     "text": [
      "Total no. of Movies in the data set: 4265\n"
     ]
    }
   ],
   "source": [
    "# create new data set with only type = Movie\n",
    "new_set = data_set[data_set['type'] == 'Movie'].copy()\n",
    "\n",
    "# Split genres into list\n",
    "new_set['genre'] = new_set['listed_in'].apply(lambda x: x.split(', '))\n",
    "\n",
    "#Total no. of movies:\n",
    "print(f\"Total no. of Movies in the data set: {new_set.shape[0]}\")"
   ]
  },
  {
   "cell_type": "markdown",
   "metadata": {},
   "source": [
    "First we have to clean the data set to be able to input it in the functions later in this section. We will use the title and description columns to try to predict the genres. The method we use count the number of occurences of the words in the title and description and relate it to the genre of the movie. To be make sure that all equal words get counted we clean the data set by:\n",
    "- making everything lower case\n",
    "- remove all symbols and only keep letters from the English alphabet\n",
    "- remove whitespaces\n",
    "\n",
    "This is done using the clean_text() function on the columns \"title\" and \"description\". Then we added the title and description columns together as one text."
   ]
  },
  {
   "cell_type": "code",
   "execution_count": 6,
   "metadata": {},
   "outputs": [],
   "source": [
    "# function for text cleaning \n",
    "def clean_text(text):\n",
    "    # remove everything except alphabets \n",
    "    text = re.sub(\"[^a-zA-Z]\",\" \",text) \n",
    "    # remove whitespaces \n",
    "    text = ' '.join(text.split()) \n",
    "    # convert text to lowercase \n",
    "    text = text.lower() \n",
    "    \n",
    "    return text\n",
    "\n",
    "# Clean each description and title using clean_text function\n",
    "new_set['clean_desc'] = new_set['description'].apply(lambda x: clean_text(x))\n",
    "new_set['clean_title'] = new_set['title'].apply(lambda x: clean_text(x))\n",
    "\n",
    "# add title to description\n",
    "new_set['title_description'] = new_set['clean_title'] + str(\" \") + new_set['clean_desc']"
   ]
  },
  {
   "cell_type": "markdown",
   "metadata": {},
   "source": [
    "From running the model with all genres, we saw that the categories with very few movies gave really poor results. It was therefore decided to remove the 8 least frequent genres (Anime to Sci-Fi & Fantasy in the list above). This was done by renaming them \"Other\", removing the lines where \"Other\" was the only genre and removing the rest of the \"Other\" category from the other movies. This left a data set that still has at least one genre per movie, but we have eliminated most of the genres that would have caused \"noise\" in the results. With this we end up with 12 unique genres."
   ]
  },
  {
   "cell_type": "code",
   "execution_count": 7,
   "metadata": {},
   "outputs": [],
   "source": [
    "# List of 8 genres with the least no. of movies\n",
    "rare_genres = data_set[data_set.type==\"Movie\"].listed_in.str.split(', ').explode().value_counts().index[-8:]\n",
    "\n",
    "# Rename the 8 rare genres above with \"Other\"\n",
    "new_set['genre'] = new_set.genre.apply(lambda x: [\"Other\" if np.isin(y, rare_genres) else y for y in x])\n",
    "# Remove \"Other\" from the data set\n",
    "new_set = new_set[new_set.genre != \"Other\"]\n",
    "new_set['genre'] = (new_set.genre.map(set)-{'Other'}).map(list)"
   ]
  },
  {
   "cell_type": "markdown",
   "metadata": {},
   "source": [
    "## Find the frequency the words are apperaing in the data set\n",
    "First we take a look at the data set and the most frequent words in the title and description of the dataset. We plot this to get an idea if these can be used to predict the genres. We see that the most frequent words are as expected short words used to connect sentences, such as \"a\", \"the\" and \"to\". These will be used in all categories and will not help to identify the genre of the movie."
   ]
  },
  {
   "cell_type": "code",
   "execution_count": 8,
   "metadata": {},
   "outputs": [
    {
     "data": {
      "image/png": "[encoded data removed]",
      "text/plain": [
       "<Figure size 864x1080 with 1 Axes>"
      ]
     },
     "metadata": {
      "needs_background": "light"
     },
     "output_type": "display_data"
    }
   ],
   "source": [
    "def freq_words(text, terms = 30): \n",
    "  # Create word list from all words in title and description in pandas series\n",
    "  words = text.str.split(expand=True).stack()\n",
    "  \n",
    "  # selecting top n most frequent words in order\n",
    "  d = words.value_counts().index[:terms]\n",
    "  \n",
    "  # visualize words and frequencies\n",
    "  plt.figure(figsize=(12,15)) \n",
    "  ax = sns.countplot(y=words, order=d)\n",
    "  ax.set(ylabel = 'Word') \n",
    "  ax.set_title(f\"Count of {terms} most frequent words\")\n",
    "  plt.show()\n",
    "  \n",
    "# print 100 most frequent words \n",
    "freq_words(new_set['title_description'], 100)"
   ]
  },
  {
   "cell_type": "code",
   "execution_count": 9,
   "metadata": {},
   "outputs": [
    {
     "name": "stderr",
     "output_type": "stream",
     "text": [
      "[nltk_data] Downloading package stopwords to\n",
      "[nltk_data]     C:\\Users\\ASLAKSK\\AppData\\Roaming\\nltk_data...\n",
      "[nltk_data]   Package stopwords is already up-to-date!\n"
     ]
    },
    {
     "data": {
      "text/plain": [
       "True"
      ]
     },
     "execution_count": 9,
     "metadata": {},
     "output_type": "execute_result"
    }
   ],
   "source": [
    "nltk.download('stopwords')"
   ]
  },
  {
   "cell_type": "markdown",
   "metadata": {},
   "source": [
    "## Remove all the stop words from the dataset\n",
    "\n",
    "As mentioned above, we see that the most common words un the dataset are typically \"a\", \"the\", \"to\", etc. These common words will not give any value in predicting the genres. Stop words are the most common words in the English language, a list of these can be used to remove these words in the data set. A common way to remove stop words is to import the library stopwords from nltk.corpus. <br>\n",
    "A good solution to remove stop words was found at. https://www.geeksforgeeks.org/removing-stop-words-nltk-python/\n"
   ]
  },
  {
   "cell_type": "code",
   "execution_count": 10,
   "metadata": {},
   "outputs": [],
   "source": [
    "from nltk.corpus import stopwords\n",
    "stop_words = set(stopwords.words('english'))\n",
    "\n",
    "# function to remove stopwords\n",
    "def remove_stopwords(text):\n",
    "    no_stopword_text = [w for w in text.split() if not w in stop_words]\n",
    "    return ' '.join(no_stopword_text)\n",
    "\n",
    "new_set['title_description'] = new_set['title_description'].apply(lambda x: remove_stopwords(x))"
   ]
  },
  {
   "cell_type": "markdown",
   "metadata": {},
   "source": [
    "The new most frequent words after removing stopwords have been plotted below. We see that we now have words that could potentially represent cretain genres. "
   ]
  },
  {
   "cell_type": "code",
   "execution_count": 11,
   "metadata": {},
   "outputs": [
    {
     "data": {
      "image/png": "[encoded data removed]",
      "text/plain": [
       "<Figure size 864x1080 with 1 Axes>"
      ]
     },
     "metadata": {
      "needs_background": "light"
     },
     "output_type": "display_data"
    }
   ],
   "source": [
    "# Check most frequent words after removing stopwords\n",
    "freq_words(new_set['title_description'], 100)"
   ]
  },
  {
   "cell_type": "markdown",
   "metadata": {},
   "source": [
    "## Genre predictions\n",
    "\n",
    "Since we have a multi label data set (one movie can have multiple genres), we need to transform the target variable (genres) into separate target variables.\n",
    "We use the Binary Relevance approach to assign the genre to the unique target label.\n",
    "\n",
    "The sklearn MultiLabelBinarizer allows us to encode multiple labels per instance saved in a class label. This transforms the target into an array of binary values where 1 and 0 at different locations in the arrays represents the genres with one target variable per unique genre. \n"
   ]
  },
  {
   "cell_type": "code",
   "execution_count": 12,
   "metadata": {},
   "outputs": [],
   "source": [
    "#Import MultiLabelBinarizer from sklean\n",
    "from sklearn.preprocessing import MultiLabelBinarizer \n",
    "\n",
    "mlb = MultiLabelBinarizer()\n",
    "\n",
    "# Fit the label sets and transform target variable\n",
    "y = mlb.fit_transform(new_set['genre'])\n"
   ]
  },
  {
   "cell_type": "markdown",
   "metadata": {},
   "source": [
    "We see that the multi label binarizer represents all genres as a binary array. The labels are stored in the classes_ and can be related to the array by transformation. \n",
    "\n",
    "By printing one row from the y where the genres are fitted we see that we get a binary vector with zeros and ones.\n",
    "By printing the inverse_transform we can see which genres this binary vector represents.\n",
    "\n",
    "We now have a representation of the target value as described in the introduction to predicting genre from description"
   ]
  },
  {
   "cell_type": "code",
   "execution_count": 13,
   "metadata": {},
   "outputs": [
    {
     "name": "stdout",
     "output_type": "stream",
     "text": [
      "Class labels: \n",
      "['Action & Adventure' 'Children & Family Movies' 'Comedies'\n",
      " 'Documentaries' 'Dramas' 'Horror Movies' 'Independent Movies'\n",
      " 'International Movies' 'Music & Musicals' 'Romantic Movies'\n",
      " 'Stand-Up Comedy' 'Thrillers'] \n",
      "\n",
      "[0 0 0 0 0 0 0 1 0 0 0 1]\n",
      "('International Movies', 'Thrillers')\n"
     ]
    }
   ],
   "source": [
    "# The binary classes:\n",
    "print(f\"Class labels: \\n{mlb.classes_} \\n\")\n",
    "\n",
    "# We see that the genres are represented as a binary vector with values 0 and 1\n",
    "# A 1 represents that this row have the genre at this position on the label list.\n",
    "print(y[3]) # Example\n",
    "# By taking the inverse transferm we can see that what genre the bianry represents\n",
    "print(mlb.inverse_transform(y)[3])"
   ]
  },
  {
   "cell_type": "markdown",
   "metadata": {},
   "source": [
    "To relate the title and description to the genre, we use a method to count the number of words and their frequency and relate this to the genre. The method chosen is the sklean TF-IDF Vectorizer. TF-IDF stands for Term Frequency — Inverse Document Frequency and is a statistic that aims to better define how important a word is for a document, while also taking into account the relation to other documents from the same corpus. TfidVectorizer transforms text to feature vectors that can be used as input to estimator.\n",
    "\n",
    "The data set used is relatively short, and as seen above, the 100th most frequent word after removing stopwords is only used about 70 times. It was therefore decided to initialize the TfidVectorizer with the 1000 most frequent words using max_features = 1000. To make sure we don@t have an over-representation of some words with a very high frequency, max_df was set to 0.8, so that words with frequency higher than 80% is filtered out. \n",
    "\n",
    "The data set is then split into train and validation sets for training and evaluating the model's performance. We have found that an 80-20 split where 80% of the data samples are in the train set and the rest are in the validation set is common. Setting of the random_state parameter ensures same results every time."
   ]
  },
  {
   "cell_type": "code",
   "execution_count": 14,
   "metadata": {},
   "outputs": [],
   "source": [
    "# Import TfidVectorizer and train_test_split from sklearn\n",
    "from sklearn.feature_extraction.text import TfidfVectorizer\n",
    "from sklearn.model_selection import train_test_split\n",
    "\n",
    "# Initialize TfidVectorizer with 1000 most frequent words\n",
    "tfidf_vectorizer = TfidfVectorizer(max_df=0.8, max_features=1000)\n",
    "\n",
    "# split dataset into training and validation set\n",
    "xtrain, xval, ytrain, yval = train_test_split(new_set['title_description'], y, test_size=0.2, random_state=10)\n",
    "\n",
    "# create TF-IDF features\n",
    "# fit_transform(): Learn vocabulary and idf from training set, return document-term matrix\n",
    "xtrain_tfidf = tfidf_vectorizer.fit_transform(xtrain) \n",
    "xval_tfidf = tfidf_vectorizer.transform(xval)"
   ]
  },
  {
   "cell_type": "markdown",
   "metadata": {},
   "source": [
    "## How to handle multilabel in a logistic regression model?\n",
    "\n",
    "The logistic regression model will check input vs one target value and will not work directly on a multilabel target. OneVsRestClassifier is the most commonly used strategy for multiclass classification. The one vs rest will split the multi-label dataset into multiple binary classification problems. If we have the multi-label set (Action, Drama, Horror), then the one vs rest classifier will divide the problem into\n",
    "\n",
    "- Binary classification problem 1: Action vs Drama, Horror\n",
    "- Binary classification problem 2: Drama vs Action, Horror\n",
    "- Binary classification problem 3: Horror vs Action, Drama\n",
    "\n",
    "This way we can run a logistic regression model on a multilabel target value. We see that the number of calculations will be larger with the the one vs rest classifier. However, the dataset for the netflix catalouge is small enough that the runtime will not be very long. However this approach will be time consuming when there is very large data set. \n",
    "\n",
    "https://scikit-learn.org/stable/modules/generated/sklearn.multiclass.OneVsRestClassifier.html?highlight=onevsrestclassifier&fbclid=IwAR3Hm-791LbLCwBVkIUdSFo3hUBiWWUdWQ4AyLYj89uEWSjMuKXR_52HKJY#sklearn.multiclass.OneVsRestClassifier"
   ]
  },
  {
   "cell_type": "code",
   "execution_count": 15,
   "metadata": {},
   "outputs": [],
   "source": [
    "from sklearn.linear_model import LogisticRegression\n",
    "\n",
    "# Binary Relevance\n",
    "from sklearn.multiclass import OneVsRestClassifier\n",
    "\n",
    "# Performance metric\n",
    "from sklearn.metrics import f1_score, precision_score, recall_score, classification_report, multilabel_confusion_matrix, ConfusionMatrixDisplay, confusion_matrix"
   ]
  },
  {
   "cell_type": "code",
   "execution_count": 16,
   "metadata": {},
   "outputs": [],
   "source": [
    "lr = LogisticRegression() # Set up the logistic regression model\n",
    "clf = OneVsRestClassifier(lr)   # make a one vs rest classifier of the logistic regression model"
   ]
  },
  {
   "cell_type": "code",
   "execution_count": 17,
   "metadata": {},
   "outputs": [
    {
     "data": {
      "text/plain": [
       "OneVsRestClassifier(estimator=LogisticRegression())"
      ]
     },
     "execution_count": 17,
     "metadata": {},
     "output_type": "execute_result"
    }
   ],
   "source": [
    "# fit model on train data\n",
    "clf.fit(xtrain_tfidf, ytrain)"
   ]
  },
  {
   "cell_type": "code",
   "execution_count": 18,
   "metadata": {},
   "outputs": [],
   "source": [
    "# make predictions for validation set\n",
    "y_pred = clf.predict(xval_tfidf)"
   ]
  },
  {
   "cell_type": "markdown",
   "metadata": {},
   "source": [
    "## Evaluate results\n",
    "\n",
    "First we check a randomly picked prediction to check if we get results. We see that this title gives 2 predictions. "
   ]
  },
  {
   "cell_type": "code",
   "execution_count": 19,
   "metadata": {},
   "outputs": [
    {
     "name": "stdout",
     "output_type": "stream",
     "text": [
      "[0 0 0 0 1 0 0 1 0 0 0 0]\n",
      "('Dramas', 'International Movies')\n"
     ]
    }
   ],
   "source": [
    "#Check prediciton \n",
    "print(y_pred[3])\n",
    "\n",
    "# Inverse transform to get genres:\n",
    "print(mlb.inverse_transform(y_pred)[3])\n"
   ]
  },
  {
   "cell_type": "markdown",
   "metadata": {},
   "source": [
    "To evalueate the results we check the confusion matrix for all the genres. This will tell us wheter the prediction is a true positive, true negative, false positive or false negative as seen in the matrix below. \n",
    "\n",
    "![confusion_matrix](confusion_matrix.png)\n",
    "\n",
    "True positive and true negatives are the observations that are correctly predicted and therefore desirable. \n",
    "\n",
    "The True Positive (TP) are the correctly predicted positive values which means that the value of actual label and predicted label is yes. E.g. Predicted Drama, actual genre is drama. \n",
    "\n",
    "The True Negative (TN) are the correctly predicted negative values which means that the value of actual label and predicted label is no. E.g. Predicted not Drama, actual genre is not Drama. \n",
    "\n",
    "The False positives (FP) occurs when actual label is no and predicted label is yes. E.g. Predicted Drama, actual class not Drama.\n",
    "\n",
    "The False negatives (FN) occurs when actual label is yes and prediced label is no. E.g. predicted not Drama, actual label is Drama. "
   ]
  },
  {
   "cell_type": "code",
   "execution_count": 21,
   "metadata": {},
   "outputs": [
    {
     "data": {
      "image/png": "[encoded data removed]",
      "text/plain": [
       "<Figure size 1800x1080 with 13 Axes>"
      ]
     },
     "metadata": {
      "needs_background": "light"
     },
     "output_type": "display_data"
    }
   ],
   "source": [
    "# Make a plot of the confusion matrix for each genre\n",
    "f, axes = plt.subplots(3, 4, figsize=(25, 15))\n",
    "axes = axes.ravel()\n",
    "for i in range(12):\n",
    "    disp = ConfusionMatrixDisplay(confusion_matrix(yval[:, i],\n",
    "                                                   y_pred[:, i]),\n",
    "                                  display_labels=[0, 1])\n",
    "    disp.plot(ax=axes[i], values_format='.4g')\n",
    "    disp.ax_.set_title(f'{mlb.classes_[i]}')\n",
    "    if i<8:\n",
    "        disp.ax_.set_xlabel('')\n",
    "    if i%4!=0:\n",
    "        disp.ax_.set_ylabel('')\n",
    "    disp.im_.colorbar.remove()\n",
    "\n",
    "plt.subplots_adjust(wspace=0.10, hspace=0.1)\n",
    "f.colorbar(disp.im_, ax=axes)\n",
    "plt.show()"
   ]
  },
  {
   "cell_type": "markdown",
   "metadata": {},
   "source": [
    "The results show that all predictions have a high True Negative score which is to be expected since there are several genres and some genres have few movies. For the categories with the most movies, such as Dramas and International Movies, the True Positives are higher, but this is quite low for some genres. The false Negative (FN) score on most is higher than we would have liked. \n",
    "\n",
    "We then check the classification report which gives the precision score, recall score and f1 score for each genre and combined below. \n",
    "\n",
    "The precision score gives the ratio of predicted positive observations to total predicted positive observations: <br>\n",
    "Precision = TP/(TP+FP)\n",
    "\n",
    "The Recall (Sensitivity) is the ratio of correctly predicted positive observations to all the observations in class = yes: <br>\n",
    "Recall = TP/(TP+FN)\n",
    "\n",
    "F1 score is the weighted average of Precision and Recall. Therefore this score takes both false positives and false negatives into account: <br> \n",
    "F1 Score = 2*(Recall * Precision)/(Recall + Precision)\n",
    "\n",
    "Source: https://blog.exsilio.com/all/accuracy-precision-recall-f1-score-interpretation-of-performance-measures/"
   ]
  },
  {
   "cell_type": "code",
   "execution_count": 22,
   "metadata": {},
   "outputs": [
    {
     "name": "stderr",
     "output_type": "stream",
     "text": [
      "C:\\Users\\ASLAKSK\\Anaconda3\\lib\\site-packages\\sklearn\\metrics\\_classification.py:1221: UndefinedMetricWarning: Precision and F-score are ill-defined and being set to 0.0 in labels with no predicted samples. Use `zero_division` parameter to control this behavior.\n",
      "  _warn_prf(average, modifier, msg_start, len(result))\n",
      "C:\\Users\\ASLAKSK\\Anaconda3\\lib\\site-packages\\sklearn\\metrics\\_classification.py:1221: UndefinedMetricWarning: Precision and F-score are ill-defined and being set to 0.0 in samples with no predicted labels. Use `zero_division` parameter to control this behavior.\n",
      "  _warn_prf(average, modifier, msg_start, len(result))\n",
      "C:\\Users\\ASLAKSK\\Anaconda3\\lib\\site-packages\\sklearn\\metrics\\_classification.py:1221: UndefinedMetricWarning: Recall and F-score are ill-defined and being set to 0.0 in samples with no true labels. Use `zero_division` parameter to control this behavior.\n",
      "  _warn_prf(average, modifier, msg_start, len(result))\n"
     ]
    },
    {
     "data": {
      "text/html": [
       "<div>\n",
       "<style scoped>\n",
       "    .dataframe tbody tr th:only-of-type {\n",
       "        vertical-align: middle;\n",
       "    }\n",
       "\n",
       "    .dataframe tbody tr th {\n",
       "        vertical-align: top;\n",
       "    }\n",
       "\n",
       "    .dataframe thead th {\n",
       "        text-align: right;\n",
       "    }\n",
       "</style>\n",
       "<table border=\"1\" class=\"dataframe\">\n",
       "  <thead>\n",
       "    <tr style=\"text-align: right;\">\n",
       "      <th></th>\n",
       "      <th>precision</th>\n",
       "      <th>recall</th>\n",
       "      <th>f1-score</th>\n",
       "      <th>support</th>\n",
       "      <th>genre</th>\n",
       "    </tr>\n",
       "  </thead>\n",
       "  <tbody>\n",
       "    <tr>\n",
       "      <th>0</th>\n",
       "      <td>0.904762</td>\n",
       "      <td>0.150794</td>\n",
       "      <td>0.258503</td>\n",
       "      <td>126.0</td>\n",
       "      <td>Action &amp; Adventure</td>\n",
       "    </tr>\n",
       "    <tr>\n",
       "      <th>1</th>\n",
       "      <td>0.777778</td>\n",
       "      <td>0.090909</td>\n",
       "      <td>0.162791</td>\n",
       "      <td>77.0</td>\n",
       "      <td>Children &amp; Family Movies</td>\n",
       "    </tr>\n",
       "    <tr>\n",
       "      <th>2</th>\n",
       "      <td>0.758065</td>\n",
       "      <td>0.218605</td>\n",
       "      <td>0.339350</td>\n",
       "      <td>215.0</td>\n",
       "      <td>Comedies</td>\n",
       "    </tr>\n",
       "    <tr>\n",
       "      <th>3</th>\n",
       "      <td>0.925926</td>\n",
       "      <td>0.387597</td>\n",
       "      <td>0.546448</td>\n",
       "      <td>129.0</td>\n",
       "      <td>Documentaries</td>\n",
       "    </tr>\n",
       "    <tr>\n",
       "      <th>4</th>\n",
       "      <td>0.700000</td>\n",
       "      <td>0.479167</td>\n",
       "      <td>0.568905</td>\n",
       "      <td>336.0</td>\n",
       "      <td>Dramas</td>\n",
       "    </tr>\n",
       "    <tr>\n",
       "      <th>5</th>\n",
       "      <td>1.000000</td>\n",
       "      <td>0.087719</td>\n",
       "      <td>0.161290</td>\n",
       "      <td>57.0</td>\n",
       "      <td>Horror Movies</td>\n",
       "    </tr>\n",
       "    <tr>\n",
       "      <th>6</th>\n",
       "      <td>0.000000</td>\n",
       "      <td>0.000000</td>\n",
       "      <td>0.000000</td>\n",
       "      <td>115.0</td>\n",
       "      <td>Independent Movies</td>\n",
       "    </tr>\n",
       "    <tr>\n",
       "      <th>7</th>\n",
       "      <td>0.670423</td>\n",
       "      <td>0.590571</td>\n",
       "      <td>0.627968</td>\n",
       "      <td>403.0</td>\n",
       "      <td>International Movies</td>\n",
       "    </tr>\n",
       "    <tr>\n",
       "      <th>8</th>\n",
       "      <td>1.000000</td>\n",
       "      <td>0.039216</td>\n",
       "      <td>0.075472</td>\n",
       "      <td>51.0</td>\n",
       "      <td>Music &amp; Musicals</td>\n",
       "    </tr>\n",
       "    <tr>\n",
       "      <th>9</th>\n",
       "      <td>0.800000</td>\n",
       "      <td>0.058824</td>\n",
       "      <td>0.109589</td>\n",
       "      <td>68.0</td>\n",
       "      <td>Romantic Movies</td>\n",
       "    </tr>\n",
       "    <tr>\n",
       "      <th>10</th>\n",
       "      <td>0.916667</td>\n",
       "      <td>0.372881</td>\n",
       "      <td>0.530120</td>\n",
       "      <td>59.0</td>\n",
       "      <td>Stand-Up Comedy</td>\n",
       "    </tr>\n",
       "    <tr>\n",
       "      <th>11</th>\n",
       "      <td>1.000000</td>\n",
       "      <td>0.025641</td>\n",
       "      <td>0.050000</td>\n",
       "      <td>78.0</td>\n",
       "      <td>Thrillers</td>\n",
       "    </tr>\n",
       "    <tr>\n",
       "      <th>micro avg</th>\n",
       "      <td>0.724317</td>\n",
       "      <td>0.324971</td>\n",
       "      <td>0.448651</td>\n",
       "      <td>1714.0</td>\n",
       "      <td></td>\n",
       "    </tr>\n",
       "    <tr>\n",
       "      <th>macro avg</th>\n",
       "      <td>0.787802</td>\n",
       "      <td>0.208494</td>\n",
       "      <td>0.285870</td>\n",
       "      <td>1714.0</td>\n",
       "      <td></td>\n",
       "    </tr>\n",
       "    <tr>\n",
       "      <th>weighted avg</th>\n",
       "      <td>0.732894</td>\n",
       "      <td>0.324971</td>\n",
       "      <td>0.401665</td>\n",
       "      <td>1714.0</td>\n",
       "      <td></td>\n",
       "    </tr>\n",
       "    <tr>\n",
       "      <th>samples avg</th>\n",
       "      <td>0.447050</td>\n",
       "      <td>0.313794</td>\n",
       "      <td>0.352013</td>\n",
       "      <td>1714.0</td>\n",
       "      <td></td>\n",
       "    </tr>\n",
       "  </tbody>\n",
       "</table>\n",
       "</div>"
      ],
      "text/plain": [
       "              precision    recall  f1-score  support                     genre\n",
       "0              0.904762  0.150794  0.258503    126.0        Action & Adventure\n",
       "1              0.777778  0.090909  0.162791     77.0  Children & Family Movies\n",
       "2              0.758065  0.218605  0.339350    215.0                  Comedies\n",
       "3              0.925926  0.387597  0.546448    129.0             Documentaries\n",
       "4              0.700000  0.479167  0.568905    336.0                    Dramas\n",
       "5              1.000000  0.087719  0.161290     57.0             Horror Movies\n",
       "6              0.000000  0.000000  0.000000    115.0        Independent Movies\n",
       "7              0.670423  0.590571  0.627968    403.0      International Movies\n",
       "8              1.000000  0.039216  0.075472     51.0          Music & Musicals\n",
       "9              0.800000  0.058824  0.109589     68.0           Romantic Movies\n",
       "10             0.916667  0.372881  0.530120     59.0           Stand-Up Comedy\n",
       "11             1.000000  0.025641  0.050000     78.0                 Thrillers\n",
       "micro avg      0.724317  0.324971  0.448651   1714.0                          \n",
       "macro avg      0.787802  0.208494  0.285870   1714.0                          \n",
       "weighted avg   0.732894  0.324971  0.401665   1714.0                          \n",
       "samples avg    0.447050  0.313794  0.352013   1714.0                          "
      ]
     },
     "execution_count": 22,
     "metadata": {},
     "output_type": "execute_result"
    }
   ],
   "source": [
    "# Check classification report with precision score, recall score and f1 score.\n",
    "report = classification_report(yval, y_pred, output_dict=True)\n",
    "class_df = pd.DataFrame(report).transpose()\n",
    "gen_list = np.append(mlb.classes_, [\"\",\"\",\"\",\"\"])\n",
    "class_df['genre'] = gen_list\n",
    "class_df"
   ]
  },
  {
   "cell_type": "markdown",
   "metadata": {},
   "source": [
    "We see that the precision score is generally high for most genres, except Independent Movies, giving a micro average of 0.72. This is generally quite good. The recall score is quite low for some genres due to the large amount of false negatives for some of the genres. The micro average for recall is 0.32. This gives an f1 score of 0.44."
   ]
  },
  {
   "cell_type": "markdown",
   "metadata": {},
   "source": [
    "## Predictions\n",
    "\n",
    "To show how the model predicts the genres, we pick 50 random movies in the data set and check them in the model and print the results. \n",
    "\n",
    "We see that the model predicts the large genres such as International Movies and Dramas quite well and also smaller genres such as Stand-Up Comedy, probably due to the prevalence of words like comedian and stand-up in these descriptions. The model is though hesitant to give predictions to several movies, which leads to a several false negatives and a low recall score. "
   ]
  },
  {
   "cell_type": "code",
   "execution_count": 24,
   "metadata": {},
   "outputs": [],
   "source": [
    "# Function to predict genre using method above for a given movie\n",
    "def predict_tags(q):\n",
    "    q_vec = tfidf_vectorizer.transform([q])\n",
    "    q_pred = clf.predict(q_vec)\n",
    "    return mlb.inverse_transform(q_pred)"
   ]
  },
  {
   "cell_type": "code",
   "execution_count": 25,
   "metadata": {},
   "outputs": [
    {
     "name": "stdout",
     "output_type": "stream",
     "text": [
      "Movie:  Bright \n",
      "Predicted genre:  [('International Movies',)]\n",
      "Actual genre:  ['Action & Adventure'] \n",
      "\n",
      "Movie:  Look for a Star \n",
      "Predicted genre:  [()]\n",
      "Actual genre:  ['International Movies', 'Comedies', 'Romantic Movies'] \n",
      "\n",
      "Movie:  Lust Stories \n",
      "Predicted genre:  [('Dramas', 'International Movies')]\n",
      "Actual genre:  ['International Movies', 'Comedies', 'Dramas'] \n",
      "\n",
      "Movie:  Casino Tycoon 2 \n",
      "Predicted genre:  [()]\n",
      "Actual genre:  ['Action & Adventure', 'International Movies', 'Dramas'] \n",
      "\n",
      "Movie:  Shanghai Fortress \n",
      "Predicted genre:  [('Dramas', 'International Movies')]\n",
      "Actual genre:  ['International Movies', 'Romantic Movies', 'Dramas'] \n",
      "\n",
      "Movie:  We Are Family \n",
      "Predicted genre:  [('Dramas',)]\n",
      "Actual genre:  ['International Movies', 'Dramas'] \n",
      "\n",
      "Movie:  Shorgul \n",
      "Predicted genre:  [('Dramas', 'International Movies')]\n",
      "Actual genre:  ['International Movies', 'Dramas'] \n",
      "\n",
      "Movie:  Paskal \n",
      "Predicted genre:  [('Dramas', 'International Movies')]\n",
      "Actual genre:  ['Action & Adventure', 'International Movies', 'Dramas'] \n",
      "\n",
      "Movie:  Tinker Bell and the Legend of the NeverBeast \n",
      "Predicted genre:  [()]\n",
      "Actual genre:  ['Children & Family Movies'] \n",
      "\n",
      "Movie:  Care of Kancharapalem \n",
      "Predicted genre:  [('Dramas', 'International Movies')]\n",
      "Actual genre:  ['Comedies', 'Independent Movies', 'Dramas'] \n",
      "\n",
      "Movie:  The Last Hangover \n",
      "Predicted genre:  [()]\n",
      "Actual genre:  ['International Movies', 'Comedies'] \n",
      "\n",
      "Movie:  Virunga \n",
      "Predicted genre:  [()]\n",
      "Actual genre:  ['International Movies', 'Documentaries'] \n",
      "\n",
      "Movie:  One 2 Ka 4 \n",
      "Predicted genre:  [('Dramas', 'International Movies')]\n",
      "Actual genre:  ['Action & Adventure', 'Comedies', 'Dramas'] \n",
      "\n",
      "Movie:  Melle \n",
      "Predicted genre:  [('Dramas', 'International Movies')]\n",
      "Actual genre:  ['International Movies', 'Romantic Movies', 'Dramas'] \n",
      "\n",
      "Movie:  A Little Chaos \n",
      "Predicted genre:  [('Comedies', 'International Movies')]\n",
      "Actual genre:  ['International Movies', 'Independent Movies', 'Dramas'] \n",
      "\n",
      "Movie:  Little Miss Sumo \n",
      "Predicted genre:  [()]\n",
      "Actual genre:  ['International Movies', 'Documentaries'] \n",
      "\n",
      "Movie:  I, Daniel Blake \n",
      "Predicted genre:  [('Dramas',)]\n",
      "Actual genre:  ['Independent Movies', 'Dramas'] \n",
      "\n",
      "Movie:  West Coast \n",
      "Predicted genre:  [()]\n",
      "Actual genre:  ['International Movies', 'Comedies', 'Dramas'] \n",
      "\n",
      "Movie:  Monster High 13 Wishes \n",
      "Predicted genre:  [('Children & Family Movies',)]\n",
      "Actual genre:  ['Children & Family Movies'] \n",
      "\n",
      "Movie:  The Wandering Earth \n",
      "Predicted genre:  [()]\n",
      "Actual genre:  ['International Movies'] \n",
      "\n",
      "Movie:  1000 Rupee Note \n",
      "Predicted genre:  [('Dramas', 'International Movies')]\n",
      "Actual genre:  ['International Movies', 'Dramas'] \n",
      "\n",
      "Movie:  Mirzya \n",
      "Predicted genre:  [('Dramas', 'International Movies')]\n",
      "Actual genre:  ['International Movies', 'Dramas', 'Music & Musicals'] \n",
      "\n",
      "Movie:  EMI: Liya Hai To Chukana Padega \n",
      "Predicted genre:  [('International Movies',)]\n",
      "Actual genre:  ['International Movies', 'Comedies', 'Dramas'] \n",
      "\n",
      "Movie:  The Bar \n",
      "Predicted genre:  [('Dramas',)]\n",
      "Actual genre:  ['International Movies', 'Comedies', 'Horror Movies'] \n",
      "\n",
      "Movie:  Ricardo O'Farrill Abrazo Genial \n",
      "Predicted genre:  [()]\n",
      "Actual genre:  ['Stand-Up Comedy'] \n",
      "\n",
      "Movie:  Christine \n",
      "Predicted genre:  [('Dramas', 'International Movies')]\n",
      "Actual genre:  ['Independent Movies', 'Dramas'] \n",
      "\n",
      "Movie:  Puppy Star Christmas \n",
      "Predicted genre:  [('Children & Family Movies', 'Comedies')]\n",
      "Actual genre:  ['Comedies', 'Children & Family Movies'] \n",
      "\n",
      "Movie:  Secret in Their Eyes \n",
      "Predicted genre:  [('Dramas',)]\n",
      "Actual genre:  ['Thrillers', 'Dramas'] \n",
      "\n",
      "Movie:  Forbidden Games: The Justin Fashanu Story \n",
      "Predicted genre:  [('Documentaries', 'International Movies')]\n",
      "Actual genre:  ['International Movies', 'Documentaries'] \n",
      "\n",
      "Movie:  Security \n",
      "Predicted genre:  [()]\n",
      "Actual genre:  ['Action & Adventure'] \n",
      "\n",
      "Movie:  The Last Hangover \n",
      "Predicted genre:  [()]\n",
      "Actual genre:  ['International Movies', 'Comedies'] \n",
      "\n",
      "Movie:  All Hallows' Eve \n",
      "Predicted genre:  [()]\n",
      "Actual genre:  ['Children & Family Movies', 'Independent Movies'] \n",
      "\n",
      "Movie:  Discovering Bigfoot \n",
      "Predicted genre:  [()]\n",
      "Actual genre:  ['Documentaries'] \n",
      "\n",
      "Movie:  Shonar Pahar \n",
      "Predicted genre:  [('Dramas', 'International Movies')]\n",
      "Actual genre:  ['International Movies', 'Independent Movies', 'Dramas'] \n",
      "\n",
      "Movie:  Sam Kinison: Family Entertainment Hour \n",
      "Predicted genre:  [()]\n",
      "Actual genre:  ['Stand-Up Comedy'] \n",
      "\n",
      "Movie:  National Lampoon's Loaded Weapon 1 \n",
      "Predicted genre:  [()]\n",
      "Actual genre:  ['Action & Adventure', 'Comedies', 'Independent Movies'] \n",
      "\n",
      "Movie:  Trespass Against Us \n",
      "Predicted genre:  [('Dramas', 'International Movies')]\n",
      "Actual genre:  ['Dramas'] \n",
      "\n",
      "Movie:  Gringo: The Dangerous Life of John McAfee \n",
      "Predicted genre:  [()]\n",
      "Actual genre:  ['Documentaries'] \n",
      "\n",
      "Movie:  Tremors 3: Back to Perfection \n",
      "Predicted genre:  [()]\n",
      "Actual genre:  ['Comedies', 'Horror Movies'] \n",
      "\n",
      "Movie:  Deon Cole: Cole Hearted \n",
      "Predicted genre:  [()]\n",
      "Actual genre:  ['Stand-Up Comedy'] \n",
      "\n",
      "Movie:  Bhavesh Joshi Superhero \n",
      "Predicted genre:  [('Dramas', 'International Movies')]\n",
      "Actual genre:  ['International Movies', 'Dramas'] \n",
      "\n",
      "Movie:  Death House \n",
      "Predicted genre:  [()]\n",
      "Actual genre:  ['Horror Movies'] \n",
      "\n",
      "Movie:  Old Lord Savanna \n",
      "Predicted genre:  [('Documentaries',)]\n",
      "Actual genre:  ['International Movies', 'Documentaries'] \n",
      "\n",
      "Movie:  The Ridiculous 6 \n",
      "Predicted genre:  [()]\n",
      "Actual genre:  ['Action & Adventure', 'Comedies'] \n",
      "\n",
      "Movie:  Entanglement \n",
      "Predicted genre:  [('Dramas', 'International Movies')]\n",
      "Actual genre:  ['Romantic Movies', 'Independent Movies', 'Dramas'] \n",
      "\n",
      "Movie:  Deon Cole: Cole Hearted \n",
      "Predicted genre:  [()]\n",
      "Actual genre:  ['Stand-Up Comedy'] \n",
      "\n",
      "Movie:  The Black Prince \n",
      "Predicted genre:  [('Dramas',)]\n",
      "Actual genre:  ['International Movies', 'Dramas'] \n",
      "\n",
      "Movie:  Mango Dreams \n",
      "Predicted genre:  [('International Movies',)]\n",
      "Actual genre:  ['Independent Movies', 'Dramas'] \n",
      "\n",
      "Movie:  Chup Chup Ke \n",
      "Predicted genre:  [('Comedies',)]\n",
      "Actual genre:  ['International Movies', 'Comedies', 'Dramas'] \n",
      "\n",
      "Movie:  Harud \n",
      "Predicted genre:  [('Dramas', 'International Movies')]\n",
      "Actual genre:  ['International Movies', 'Dramas'] \n",
      "\n"
     ]
    }
   ],
   "source": [
    "# Print movie title, predicted genre and actial genre for 50 random movies\n",
    "for i in range(50): \n",
    "  k = xval.sample(1).index[0] \n",
    "  print(\"Movie: \", new_set['title'][k], \"\\nPredicted genre: \", predict_tags(xval[k])), print(\"Actual genre: \",new_set['genre'][k], \"\\n\")\n"
   ]
  },
  {
   "cell_type": "markdown",
   "metadata": {},
   "source": [
    "## Evaluation of Model and Data Set\n",
    "\n",
    "The cleaning of the data set was important to get an OK precision score. \n",
    "\n",
    "At first we tried to use the model to predict the genre with the complete data set and using the description only. The classification report for this is shown below. We see that this gave a low or 0 score for precision for a lot of categories. We could see that it would not be possible to get good predictions without removing some of the genres. Most of the TV genres gave a lower score and it was therefore decided to try to only use movies. In addition we added the title to the prediction data to increase the number of words that could be used.\n",
    "\n",
    "![pre_data_clean](pre_genre_clean.png)"
   ]
  },
  {
   "cell_type": "markdown",
   "metadata": {},
   "source": [
    "The model can still not predict all genres. To get a model that can predict everything we either need a larger dataset to get more words to relate to each genre, or perhaps use methods like word embedding where someone has made a database of words that has already been trained such that words like house and home are given related meaning. We could also try to combine more of the genres that are similar. \n",
    "\n",
    "The model is best at predicting genres where there are many movies, and has problems with the less frequent genres. "
   ]
  },
  {
   "cell_type": "code",
   "execution_count": null,
   "metadata": {},
   "outputs": [],
   "source": []
  }
 ],
 "metadata": {
  "anaconda-cloud": {},
  "kernelspec": {
   "display_name": "Python 3",
   "language": "python",
   "name": "python3"
  },
  "language_info": {
   "codemirror_mode": {
    "name": "ipython",
    "version": 3
   },
   "file_extension": ".py",
   "mimetype": "text/x-python",
   "name": "python",
   "nbconvert_exporter": "python",
   "pygments_lexer": "ipython3",
   "version": "3.8.3"
  }
 },
 "nbformat": 4,
 "nbformat_minor": 4
}
