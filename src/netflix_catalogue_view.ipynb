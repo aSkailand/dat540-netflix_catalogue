{
 "cells": [
  {
   "cell_type": "markdown",
   "metadata": {},
   "source": [
    "# Python setup"
   ]
  },
  {
   "cell_type": "code",
   "execution_count": null,
   "metadata": {
    "collapsed": false
   },
   "outputs": [],
   "source": [
    "import os\n",
    "\n",
    "# Changes the notebook working directory on level up.\n",
    "%cd ..\n",
    "\n",
    "# Running main python script.\n",
    "%run -i \"src/main.py\"\n",
    "\n",
    "# Data set from main.py\n",
    "data_set"
   ]
  },
  {
   "cell_type": "code",
   "execution_count": null,
   "metadata": {
    "collapsed": false
   },
   "outputs": [],
   "source": [
    "import datetime\n",
    "from matplotlib import pyplot as plt \n",
    "\n",
    "# all unique dates \n",
    "date_added = list(set(data_set['date_added']))\n",
    "\n",
    "datetime_list = []\n",
    "\n",
    "for date in date_added:\n",
    "    # remove ',' and leading whitespace from the date string\n",
    "    sanitized_date_string = date.replace(',', '').lstrip()\n",
    "    # discard unknown date\n",
    "    if ('Unknown' not in sanitized_date_string):\n",
    "        # convert to datetime object\n",
    "        datetime_format = datetime.datetime.strptime(sanitized_date_string, '%B %d %Y')\n",
    "        datetime_list.append(datetime_format)\n",
    "\n",
    "# sort the unique dates\n",
    "sorted_datetime = sorted(datetime_list)\n",
    "sorted_datetime_string_list = []\n",
    "# note that the datetime format is given in the format '%B %#d, %Y', the pound sign is needed \n",
    "# in order to remove leading zeroes in dates, '#' for windows '-' for linux (should the code not run)\n",
    "for datetime_object in sorted_datetime:\n",
    "    date_string = datetime_object.strftime('%B %#d, %Y')\n",
    "    sorted_datetime_string_list.append(date_string)\n",
    "    \n",
    "# TODO: visualize the categories when they were added (look for themes relating to that period)\n",
    "# TODO: visualize the frequency of categories added by dates (peak dates)\n",
    "\n",
    "date_freq_dict = dict()\n",
    "for date in sorted_datetime_string_list:\n",
    "    date_freq_dict[date] = len(data_set.loc[data_set['date_added'] == date])\n",
    "\n",
    "# Showing number of added assets for each unique date.\n",
    "plt.plot(list(date_freq_dict.keys()), list(date_freq_dict.values()))\n",
    "plt.show()\n",
    "    \n",
    "\n"
   ]
  },
  {
   "cell_type": "markdown",
   "metadata": {},
   "source": [
    "# Most Popular movie and series genres\n",
    "### Discarding the 'movie' and 'tv show'  entry in the genre list and "
   ]
  },
  {
   "cell_type": "code",
   "execution_count": null,
   "metadata": {
    "collapsed": false
   },
   "outputs": [],
   "source": [
    "from matplotlib import pyplot as plt\n",
    "\n",
    "plt.figure(figsize = (15,15))\n",
    "plt.pie(\n",
    "    [genre_value for genre_value in pop_movie_genre.values()],\n",
    "    labels=[genre_keys for genre_keys in pop_movie_genre.keys()],\n",
    "    autopct=None\n",
    ")\n",
    "plt.show()"
   ]
  },
  {
   "cell_type": "code",
   "execution_count": null,
   "metadata": {
    "collapsed": false
   },
   "outputs": [],
   "source": [
    "from matplotlib import pyplot as plt\n",
    "\n",
    "plt.figure(figsize = (15,15))\n",
    "plt.pie(\n",
    "    [genre_value for genre_value in pop_series_genre.values()],\n",
    "    labels=[genre_keys for genre_keys in pop_series_genre.keys()],\n",
    "    autopct=None\n",
    ")\n",
    "plt.show()\n"
   ]
  },
  {
   "cell_type": "markdown",
   "metadata": {},
   "source": [
    "# Classifying directors from heatmap."
   ]
  },
  {
   "cell_type": "markdown",
   "metadata": {},
   "source": [
    "## Plotting"
   ]
  },
  {
   "cell_type": "code",
   "execution_count": 5,
   "metadata": {
    "collapsed": false
   },
   "outputs": [],
   "source": [
    "populated = director_classification.populate_director_genre_dataframe()"
   ]
  },
  {
   "cell_type": "code",
   "execution_count": null,
   "metadata": {
    "collapsed": false
   },
   "outputs": [],
   "source": [
    "import copy\n",
    "import seaborn as sns\n",
    "\n",
    "# Copying dataframe\n",
    "copy = copy.copy(populated)\n",
    "\n",
    "for d in copy:\n",
    "    # Dropping directors columns that has less that 8 registered movies in total in addition to unknown director.\n",
    "    if (copy[d].sum() < 8.0 or d == 'Unknown director'):\n",
    "        copy.drop([d],  axis=1, inplace = True)\n",
    "\n",
    "sns.heatmap(copy) # Creating heatmap\n",
    "plt.show()\n",
    "\n",
    "\n",
    "\n"
   ]
  }
 ],
 "metadata": {
  "anaconda-cloud": {},
  "kernelspec": {
   "display_name": "Python [default]",
   "language": "python",
   "name": "python3"
  },
  "language_info": {
   "codemirror_mode": {
    "name": "ipython",
    "version": 3
   },
   "file_extension": ".py",
   "mimetype": "text/x-python",
   "name": "python",
   "nbconvert_exporter": "python",
   "pygments_lexer": "ipython3",
   "version": "3.5.2"
  }
 },
 "nbformat": 4,
 "nbformat_minor": 4
}
