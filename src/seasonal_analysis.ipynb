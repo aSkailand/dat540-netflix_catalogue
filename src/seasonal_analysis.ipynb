{
 "cells": [
  {
   "cell_type": "markdown",
   "metadata": {},
   "source": [
    "## Seasonal analysis and genre exploration \n",
    "\n",
    "This work is conducted in a seperate notebook because it is easier to keep track of the workflow from start to finish. "
   ]
  },
  {
   "cell_type": "code",
   "execution_count": 76,
   "metadata": {},
   "outputs": [],
   "source": [
    "import get_unique\n",
    "import pandas as pd\n",
    "import data_sanitizer\n",
    "import main\n",
    "import matplotlib.pyplot as plt\n",
    "plt.style.use(\"ggplot\")"
   ]
  },
  {
   "cell_type": "code",
   "execution_count": 13,
   "metadata": {},
   "outputs": [
    {
     "data": {
      "text/html": [
       "<div>\n",
       "<style scoped>\n",
       "    .dataframe tbody tr th:only-of-type {\n",
       "        vertical-align: middle;\n",
       "    }\n",
       "\n",
       "    .dataframe tbody tr th {\n",
       "        vertical-align: top;\n",
       "    }\n",
       "\n",
       "    .dataframe thead th {\n",
       "        text-align: right;\n",
       "    }\n",
       "</style>\n",
       "<table border=\"1\" class=\"dataframe\">\n",
       "  <thead>\n",
       "    <tr style=\"text-align: right;\">\n",
       "      <th></th>\n",
       "      <th>show_id</th>\n",
       "      <th>type</th>\n",
       "      <th>title</th>\n",
       "      <th>director</th>\n",
       "      <th>cast</th>\n",
       "      <th>country</th>\n",
       "      <th>date_added</th>\n",
       "      <th>release_year</th>\n",
       "      <th>rating</th>\n",
       "      <th>duration</th>\n",
       "      <th>listed_in</th>\n",
       "      <th>description</th>\n",
       "    </tr>\n",
       "  </thead>\n",
       "  <tbody>\n",
       "    <tr>\n",
       "      <th>0</th>\n",
       "      <td>81145628</td>\n",
       "      <td>Movie</td>\n",
       "      <td>Norm of the North: King Sized Adventure</td>\n",
       "      <td>Richard Finn, Tim Maltby</td>\n",
       "      <td>Alan Marriott, Andrew Toth, Brian Dobson, Cole...</td>\n",
       "      <td>United States, India, South Korea, China</td>\n",
       "      <td>September 9, 2019</td>\n",
       "      <td>2019</td>\n",
       "      <td>TV-PG</td>\n",
       "      <td>90 min</td>\n",
       "      <td>Children &amp; Family Movies, Comedies</td>\n",
       "      <td>Before planning an awesome wedding for his gra...</td>\n",
       "    </tr>\n",
       "    <tr>\n",
       "      <th>1</th>\n",
       "      <td>80117401</td>\n",
       "      <td>Movie</td>\n",
       "      <td>Jandino: Whatever it Takes</td>\n",
       "      <td>Unknown director</td>\n",
       "      <td>Jandino Asporaat</td>\n",
       "      <td>United Kingdom</td>\n",
       "      <td>September 9, 2016</td>\n",
       "      <td>2016</td>\n",
       "      <td>TV-MA</td>\n",
       "      <td>94 min</td>\n",
       "      <td>Stand-Up Comedy</td>\n",
       "      <td>Jandino Asporaat riffs on the challenges of ra...</td>\n",
       "    </tr>\n",
       "    <tr>\n",
       "      <th>2</th>\n",
       "      <td>70234439</td>\n",
       "      <td>TV Show</td>\n",
       "      <td>Transformers Prime</td>\n",
       "      <td>Unknown director</td>\n",
       "      <td>Peter Cullen, Sumalee Montano, Frank Welker, J...</td>\n",
       "      <td>United States</td>\n",
       "      <td>September 8, 2018</td>\n",
       "      <td>2013</td>\n",
       "      <td>TV-Y7-FV</td>\n",
       "      <td>1 Season</td>\n",
       "      <td>Kids' TV</td>\n",
       "      <td>With the help of three human allies, the Autob...</td>\n",
       "    </tr>\n",
       "    <tr>\n",
       "      <th>3</th>\n",
       "      <td>80058654</td>\n",
       "      <td>TV Show</td>\n",
       "      <td>Transformers: Robots in Disguise</td>\n",
       "      <td>Unknown director</td>\n",
       "      <td>Will Friedle, Darren Criss, Constance Zimmer, ...</td>\n",
       "      <td>United States</td>\n",
       "      <td>September 8, 2018</td>\n",
       "      <td>2016</td>\n",
       "      <td>TV-Y7</td>\n",
       "      <td>1 Season</td>\n",
       "      <td>Kids' TV</td>\n",
       "      <td>When a prison ship crash unleashes hundreds of...</td>\n",
       "    </tr>\n",
       "    <tr>\n",
       "      <th>4</th>\n",
       "      <td>80125979</td>\n",
       "      <td>Movie</td>\n",
       "      <td>#realityhigh</td>\n",
       "      <td>Fernando Lebrija</td>\n",
       "      <td>Nesta Cooper, Kate Walsh, John Michael Higgins...</td>\n",
       "      <td>United States</td>\n",
       "      <td>September 8, 2017</td>\n",
       "      <td>2017</td>\n",
       "      <td>TV-14</td>\n",
       "      <td>99 min</td>\n",
       "      <td>Comedies</td>\n",
       "      <td>When nerdy high schooler Dani finally attracts...</td>\n",
       "    </tr>\n",
       "    <tr>\n",
       "      <th>...</th>\n",
       "      <td>...</td>\n",
       "      <td>...</td>\n",
       "      <td>...</td>\n",
       "      <td>...</td>\n",
       "      <td>...</td>\n",
       "      <td>...</td>\n",
       "      <td>...</td>\n",
       "      <td>...</td>\n",
       "      <td>...</td>\n",
       "      <td>...</td>\n",
       "      <td>...</td>\n",
       "      <td>...</td>\n",
       "    </tr>\n",
       "    <tr>\n",
       "      <th>6229</th>\n",
       "      <td>80000063</td>\n",
       "      <td>TV Show</td>\n",
       "      <td>Red vs. Blue</td>\n",
       "      <td>Unknown director</td>\n",
       "      <td>Burnie Burns, Jason Saldaña, Gustavo Sorola, G...</td>\n",
       "      <td>United States</td>\n",
       "      <td>Unknown date_added</td>\n",
       "      <td>2015</td>\n",
       "      <td>NR</td>\n",
       "      <td>13 Seasons</td>\n",
       "      <td>TV Action &amp; Adventure, TV Comedies, TV Sci-Fi ...</td>\n",
       "      <td>This parody of first-person shooter games, mil...</td>\n",
       "    </tr>\n",
       "    <tr>\n",
       "      <th>6230</th>\n",
       "      <td>70286564</td>\n",
       "      <td>TV Show</td>\n",
       "      <td>Maron</td>\n",
       "      <td>Unknown director</td>\n",
       "      <td>Marc Maron, Judd Hirsch, Josh Brener, Nora Zeh...</td>\n",
       "      <td>United States</td>\n",
       "      <td>Unknown date_added</td>\n",
       "      <td>2016</td>\n",
       "      <td>TV-MA</td>\n",
       "      <td>4 Seasons</td>\n",
       "      <td>TV Comedies</td>\n",
       "      <td>Marc Maron stars as Marc Maron, who interviews...</td>\n",
       "    </tr>\n",
       "    <tr>\n",
       "      <th>6231</th>\n",
       "      <td>80116008</td>\n",
       "      <td>Movie</td>\n",
       "      <td>Little Baby Bum: Nursery Rhyme Friends</td>\n",
       "      <td>Unknown director</td>\n",
       "      <td>Unknown cast</td>\n",
       "      <td>Unknown country</td>\n",
       "      <td>Unknown date_added</td>\n",
       "      <td>2016</td>\n",
       "      <td>Unknown rating</td>\n",
       "      <td>60 min</td>\n",
       "      <td>Movies</td>\n",
       "      <td>Nursery rhymes and original music for children...</td>\n",
       "    </tr>\n",
       "    <tr>\n",
       "      <th>6232</th>\n",
       "      <td>70281022</td>\n",
       "      <td>TV Show</td>\n",
       "      <td>A Young Doctor's Notebook and Other Stories</td>\n",
       "      <td>Unknown director</td>\n",
       "      <td>Daniel Radcliffe, Jon Hamm, Adam Godley, Chris...</td>\n",
       "      <td>United Kingdom</td>\n",
       "      <td>Unknown date_added</td>\n",
       "      <td>2013</td>\n",
       "      <td>TV-MA</td>\n",
       "      <td>2 Seasons</td>\n",
       "      <td>British TV Shows, TV Comedies, TV Dramas</td>\n",
       "      <td>Set during the Russian Revolution, this comic ...</td>\n",
       "    </tr>\n",
       "    <tr>\n",
       "      <th>6233</th>\n",
       "      <td>70153404</td>\n",
       "      <td>TV Show</td>\n",
       "      <td>Friends</td>\n",
       "      <td>Unknown director</td>\n",
       "      <td>Jennifer Aniston, Courteney Cox, Lisa Kudrow, ...</td>\n",
       "      <td>United States</td>\n",
       "      <td>Unknown date_added</td>\n",
       "      <td>2003</td>\n",
       "      <td>TV-14</td>\n",
       "      <td>10 Seasons</td>\n",
       "      <td>Classic &amp; Cult TV, TV Comedies</td>\n",
       "      <td>This hit sitcom follows the merry misadventure...</td>\n",
       "    </tr>\n",
       "  </tbody>\n",
       "</table>\n",
       "<p>6234 rows × 12 columns</p>\n",
       "</div>"
      ],
      "text/plain": [
       "       show_id     type                                        title  \\\n",
       "0     81145628    Movie      Norm of the North: King Sized Adventure   \n",
       "1     80117401    Movie                   Jandino: Whatever it Takes   \n",
       "2     70234439  TV Show                           Transformers Prime   \n",
       "3     80058654  TV Show             Transformers: Robots in Disguise   \n",
       "4     80125979    Movie                                 #realityhigh   \n",
       "...        ...      ...                                          ...   \n",
       "6229  80000063  TV Show                                 Red vs. Blue   \n",
       "6230  70286564  TV Show                                        Maron   \n",
       "6231  80116008    Movie       Little Baby Bum: Nursery Rhyme Friends   \n",
       "6232  70281022  TV Show  A Young Doctor's Notebook and Other Stories   \n",
       "6233  70153404  TV Show                                      Friends   \n",
       "\n",
       "                      director  \\\n",
       "0     Richard Finn, Tim Maltby   \n",
       "1             Unknown director   \n",
       "2             Unknown director   \n",
       "3             Unknown director   \n",
       "4             Fernando Lebrija   \n",
       "...                        ...   \n",
       "6229          Unknown director   \n",
       "6230          Unknown director   \n",
       "6231          Unknown director   \n",
       "6232          Unknown director   \n",
       "6233          Unknown director   \n",
       "\n",
       "                                                   cast  \\\n",
       "0     Alan Marriott, Andrew Toth, Brian Dobson, Cole...   \n",
       "1                                      Jandino Asporaat   \n",
       "2     Peter Cullen, Sumalee Montano, Frank Welker, J...   \n",
       "3     Will Friedle, Darren Criss, Constance Zimmer, ...   \n",
       "4     Nesta Cooper, Kate Walsh, John Michael Higgins...   \n",
       "...                                                 ...   \n",
       "6229  Burnie Burns, Jason Saldaña, Gustavo Sorola, G...   \n",
       "6230  Marc Maron, Judd Hirsch, Josh Brener, Nora Zeh...   \n",
       "6231                                       Unknown cast   \n",
       "6232  Daniel Radcliffe, Jon Hamm, Adam Godley, Chris...   \n",
       "6233  Jennifer Aniston, Courteney Cox, Lisa Kudrow, ...   \n",
       "\n",
       "                                       country          date_added  \\\n",
       "0     United States, India, South Korea, China   September 9, 2019   \n",
       "1                               United Kingdom   September 9, 2016   \n",
       "2                                United States   September 8, 2018   \n",
       "3                                United States   September 8, 2018   \n",
       "4                                United States   September 8, 2017   \n",
       "...                                        ...                 ...   \n",
       "6229                             United States  Unknown date_added   \n",
       "6230                             United States  Unknown date_added   \n",
       "6231                           Unknown country  Unknown date_added   \n",
       "6232                            United Kingdom  Unknown date_added   \n",
       "6233                             United States  Unknown date_added   \n",
       "\n",
       "      release_year          rating    duration  \\\n",
       "0             2019           TV-PG      90 min   \n",
       "1             2016           TV-MA      94 min   \n",
       "2             2013        TV-Y7-FV    1 Season   \n",
       "3             2016           TV-Y7    1 Season   \n",
       "4             2017           TV-14      99 min   \n",
       "...            ...             ...         ...   \n",
       "6229          2015              NR  13 Seasons   \n",
       "6230          2016           TV-MA   4 Seasons   \n",
       "6231          2016  Unknown rating      60 min   \n",
       "6232          2013           TV-MA   2 Seasons   \n",
       "6233          2003           TV-14  10 Seasons   \n",
       "\n",
       "                                              listed_in  \\\n",
       "0                    Children & Family Movies, Comedies   \n",
       "1                                       Stand-Up Comedy   \n",
       "2                                              Kids' TV   \n",
       "3                                              Kids' TV   \n",
       "4                                              Comedies   \n",
       "...                                                 ...   \n",
       "6229  TV Action & Adventure, TV Comedies, TV Sci-Fi ...   \n",
       "6230                                        TV Comedies   \n",
       "6231                                             Movies   \n",
       "6232           British TV Shows, TV Comedies, TV Dramas   \n",
       "6233                     Classic & Cult TV, TV Comedies   \n",
       "\n",
       "                                            description  \n",
       "0     Before planning an awesome wedding for his gra...  \n",
       "1     Jandino Asporaat riffs on the challenges of ra...  \n",
       "2     With the help of three human allies, the Autob...  \n",
       "3     When a prison ship crash unleashes hundreds of...  \n",
       "4     When nerdy high schooler Dani finally attracts...  \n",
       "...                                                 ...  \n",
       "6229  This parody of first-person shooter games, mil...  \n",
       "6230  Marc Maron stars as Marc Maron, who interviews...  \n",
       "6231  Nursery rhymes and original music for children...  \n",
       "6232  Set during the Russian Revolution, this comic ...  \n",
       "6233  This hit sitcom follows the merry misadventure...  \n",
       "\n",
       "[6234 rows x 12 columns]"
      ]
     },
     "execution_count": 13,
     "metadata": {},
     "output_type": "execute_result"
    }
   ],
   "source": [
    "netflix_titles_filepath = 'netflix_titles.csv'\n",
    "df = main.get_netflix_catalogue_dataframe()\n",
    "data_sanitizer.handle_null_values(df) \n",
    "df"
   ]
  },
  {
   "cell_type": "code",
   "execution_count": 16,
   "metadata": {},
   "outputs": [
    {
     "data": {
      "text/plain": [
       "42"
      ]
     },
     "execution_count": 16,
     "metadata": {},
     "output_type": "execute_result"
    }
   ],
   "source": [
    "unique_genres = get_unique.genres(df)\n",
    "len(unique_genres)"
   ]
  },
  {
   "cell_type": "code",
   "execution_count": 19,
   "metadata": {},
   "outputs": [
    {
     "data": {
      "text/plain": [
       "114"
      ]
     },
     "execution_count": 19,
     "metadata": {},
     "output_type": "execute_result"
    }
   ],
   "source": [
    "unique_countries = get_unique.countires(df)\n",
    "len(unique_countries)"
   ]
  },
  {
   "cell_type": "code",
   "execution_count": null,
   "metadata": {},
   "outputs": [],
   "source": []
  },
  {
   "cell_type": "markdown",
   "metadata": {},
   "source": [
    "#### Lets start by getting av overview of the dataset\n",
    "This will be done by EDA (exploratory data analysis)\n",
    "\n",
    "First studying the relation between TV Shows and Movies"
   ]
  },
  {
   "cell_type": "code",
   "execution_count": 43,
   "metadata": {},
   "outputs": [
    {
     "data": {
      "text/plain": [
       "Text(0.5, 1.0, 'Content overview')"
      ]
     },
     "execution_count": 43,
     "metadata": {},
     "output_type": "execute_result"
    },
    {
     "data": {
      "image/png": "[encoded data removed]",
      "text/plain": [
       "<Figure size 576x396 with 1 Axes>"
      ]
     },
     "metadata": {},
     "output_type": "display_data"
    }
   ],
   "source": [
    "grouped_by_type = df[\"type\"].value_counts()\n",
    "labels = \"Movies\",\"TV Shows\"\n",
    "sizes = grouped_by_type[0], grouped_by_type[1]\n",
    "\n",
    "plt.pie(sizes,labels=labels,autopct=\"%1.1f%%\",shadow=True,startangle=90)\n",
    "plt.title(\"Content overview\")"
   ]
  },
  {
   "cell_type": "markdown",
   "metadata": {},
   "source": [
    "We see that about 2/3rds of the content on Netflix is movies, while the remaining part are TV Shows.\n",
    "\n",
    "Now lets get an overview of the historical rise in content over the years:"
   ]
  },
  {
   "cell_type": "code",
   "execution_count": 53,
   "metadata": {},
   "outputs": [
    {
     "data": {
      "text/plain": [
       "0        September 9, 2019\n",
       "1        September 9, 2016\n",
       "4        September 8, 2017\n",
       "6        September 8, 2017\n",
       "7        September 8, 2017\n",
       "               ...        \n",
       "5577         April 1, 2016\n",
       "5578         April 1, 2016\n",
       "5579         April 1, 2016\n",
       "5580         April 1, 2016\n",
       "6231    Unknown date_added\n",
       "Name: date_added, Length: 4265, dtype: object"
      ]
     },
     "execution_count": 53,
     "metadata": {},
     "output_type": "execute_result"
    }
   ],
   "source": [
    "movie_df = df[df[\"type\"] == \"Movie\"]\n",
    "show_df = df[df[\"type\"] == \"TV Show\"]\n",
    "\n",
    "movie_df[\"date_added\"]"
   ]
  },
  {
   "cell_type": "markdown",
   "metadata": {},
   "source": [
    "The date format is \"Month dd, Year\". We want to extract only the year. This can be done as such:"
   ]
  },
  {
   "cell_type": "code",
   "execution_count": 74,
   "metadata": {},
   "outputs": [],
   "source": [
    "def get_years(df):\n",
    "    valid_years = []\n",
    "    for row in df:\n",
    "        year = row[-4:] #Year is the last 4 chars in the date_added string\n",
    "        if year != \"dded\": #In the case where the year is \"Unknow date added\"\n",
    "            valid_years.append(int(year))\n",
    "    return valid_years\n",
    "        \n",
    "movie_years = get_years(movie_df[\"date_added\"])\n",
    "show_years = get_years(show_df[\"date_added\"])"
   ]
  },
  {
   "cell_type": "code",
   "execution_count": 141,
   "metadata": {},
   "outputs": [
    {
     "data": {
      "text/plain": [
       "(1, 2, 1, 13, 4, 6, 19, 58, 264, 913, 1290, 1546, 147)"
      ]
     },
     "execution_count": 141,
     "metadata": {},
     "output_type": "execute_result"
    }
   ],
   "source": [
    "y_mov"
   ]
  },
  {
   "cell_type": "code",
   "execution_count": 95,
   "metadata": {},
   "outputs": [
    {
     "data": {
      "text/plain": [
       "2019    1546\n",
       "2018    1290\n",
       "2017     913\n",
       "2016     264\n",
       "2020     147\n",
       "2015      58\n",
       "2014      19\n",
       "2011      13\n",
       "2013       6\n",
       "2012       4\n",
       "2009       2\n",
       "2010       1\n",
       "2008       1\n",
       "dtype: int64"
      ]
     },
     "execution_count": 95,
     "metadata": {},
     "output_type": "execute_result"
    }
   ],
   "source": [
    "#movie_yrs_count = pd.Series(movie_years).value_counts()\n",
    "#show_yrs_count = pd.Series(show_years).value_counts()"
   ]
  },
  {
   "cell_type": "code",
   "execution_count": 112,
   "metadata": {},
   "outputs": [
    {
     "data": {
      "text/plain": [
       "{2016: 264,\n",
       " 2017: 913,\n",
       " 2018: 1290,\n",
       " 2019: 1546,\n",
       " 2020: 147,\n",
       " 2008: 1,\n",
       " 2009: 2,\n",
       " 2010: 1,\n",
       " 2011: 13,\n",
       " 2012: 4,\n",
       " 2013: 6,\n",
       " 2014: 19,\n",
       " 2015: 58}"
      ]
     },
     "execution_count": 112,
     "metadata": {},
     "output_type": "execute_result"
    }
   ],
   "source": [
    "movie_yrs_dict = dict((x,movie_years.count(x)) for x in set(movie_years)) \n",
    "show_yrs_dict = dict((x,show_years.count(x)) for x in set(show_years))\n",
    "movie_yrs_dict"
   ]
  },
  {
   "cell_type": "code",
   "execution_count": 128,
   "metadata": {},
   "outputs": [
    {
     "data": {
      "text/plain": [
       "Text(0.5, 1.0, 'Amount of content added to Netflix over the years')"
      ]
     },
     "execution_count": 128,
     "metadata": {},
     "output_type": "execute_result"
    },
    {
     "data": {
      "image/png": "[encoded data removed]",
      "text/plain": [
       "<Figure size 576x396 with 1 Axes>"
      ]
     },
     "metadata": {},
     "output_type": "display_data"
    }
   ],
   "source": [
    "lists_mov = sorted(movie_yrs_dict.items())\n",
    "x_mov,y_mov = zip(*lists_mov)\n",
    "\n",
    "lists_shw = sorted(show_yrs_dict.items())\n",
    "x_shw, y_shw = zip(*lists_shw)\n",
    "\n",
    "\n",
    "plt.plot(x_mov,y_mov,marker=\".\",label=\"Movies\")\n",
    "plt.plot(x_shw,y_shw,marker=\".\",label=\"TV Shows\")\n",
    "plt.legend()\n",
    "plt.xlabel(\"Years\")\n",
    "plt.ylabel(\"Number of content\")\n",
    "plt.title(\"Amount of content added to Netflix over the years\")\n",
    "\n"
   ]
  },
  {
   "cell_type": "markdown",
   "metadata": {},
   "source": [
    "We see that there are have been a major incerease in the amount of added content to Netflix. This is especially true for the Movies category. A reason for this might be that it is easier to produce a movie compared to creating an entire TV Show. Furhter, encapsulated in a single TV Show there might be several seasons. \n",
    "\n",
    "Notice that there is a strong decline in the amount of content added to Netflix in 2020. Two obvious reasons emerge. Firstly, we do not know which date the dataset was created (was it early in 2020?). Secondly, the amount of produced content may have been effected by the covid-19 pandemic, creating a delay and thus a significantly reduced amount of added content to Netflix. \n",
    "\n",
    "To study the dataset more detailed, we know study each month and year for when a content was added:"
   ]
  },
  {
   "cell_type": "code",
   "execution_count": 139,
   "metadata": {},
   "outputs": [
    {
     "data": {
      "text/html": [
       "<div>\n",
       "<style scoped>\n",
       "    .dataframe tbody tr th:only-of-type {\n",
       "        vertical-align: middle;\n",
       "    }\n",
       "\n",
       "    .dataframe tbody tr th {\n",
       "        vertical-align: top;\n",
       "    }\n",
       "\n",
       "    .dataframe thead th {\n",
       "        text-align: right;\n",
       "    }\n",
       "</style>\n",
       "<table border=\"1\" class=\"dataframe\">\n",
       "  <thead>\n",
       "    <tr style=\"text-align: right;\">\n",
       "      <th></th>\n",
       "      <th>index</th>\n",
       "      <th>date_added</th>\n",
       "    </tr>\n",
       "  </thead>\n",
       "  <tbody>\n",
       "    <tr>\n",
       "      <th>0</th>\n",
       "      <td>0</td>\n",
       "      <td>September 9, 2019</td>\n",
       "    </tr>\n",
       "    <tr>\n",
       "      <th>1</th>\n",
       "      <td>1</td>\n",
       "      <td>September 9, 2016</td>\n",
       "    </tr>\n",
       "    <tr>\n",
       "      <th>2</th>\n",
       "      <td>4</td>\n",
       "      <td>September 8, 2017</td>\n",
       "    </tr>\n",
       "    <tr>\n",
       "      <th>3</th>\n",
       "      <td>6</td>\n",
       "      <td>September 8, 2017</td>\n",
       "    </tr>\n",
       "    <tr>\n",
       "      <th>4</th>\n",
       "      <td>7</td>\n",
       "      <td>September 8, 2017</td>\n",
       "    </tr>\n",
       "    <tr>\n",
       "      <th>...</th>\n",
       "      <td>...</td>\n",
       "      <td>...</td>\n",
       "    </tr>\n",
       "    <tr>\n",
       "      <th>4260</th>\n",
       "      <td>5577</td>\n",
       "      <td>April 1, 2016</td>\n",
       "    </tr>\n",
       "    <tr>\n",
       "      <th>4261</th>\n",
       "      <td>5578</td>\n",
       "      <td>April 1, 2016</td>\n",
       "    </tr>\n",
       "    <tr>\n",
       "      <th>4262</th>\n",
       "      <td>5579</td>\n",
       "      <td>April 1, 2016</td>\n",
       "    </tr>\n",
       "    <tr>\n",
       "      <th>4263</th>\n",
       "      <td>5580</td>\n",
       "      <td>April 1, 2016</td>\n",
       "    </tr>\n",
       "    <tr>\n",
       "      <th>4264</th>\n",
       "      <td>6231</td>\n",
       "      <td>Unknown date_added</td>\n",
       "    </tr>\n",
       "  </tbody>\n",
       "</table>\n",
       "<p>4265 rows × 2 columns</p>\n",
       "</div>"
      ],
      "text/plain": [
       "      index          date_added\n",
       "0         0   September 9, 2019\n",
       "1         1   September 9, 2016\n",
       "2         4   September 8, 2017\n",
       "3         6   September 8, 2017\n",
       "4         7   September 8, 2017\n",
       "...     ...                 ...\n",
       "4260   5577       April 1, 2016\n",
       "4261   5578       April 1, 2016\n",
       "4262   5579       April 1, 2016\n",
       "4263   5580       April 1, 2016\n",
       "4264   6231  Unknown date_added\n",
       "\n",
       "[4265 rows x 2 columns]"
      ]
     },
     "execution_count": 139,
     "metadata": {},
     "output_type": "execute_result"
    }
   ],
   "source": [
    "movie_df[\"date_added\"].reset_index()\n"
   ]
  },
  {
   "cell_type": "code",
   "execution_count": null,
   "metadata": {},
   "outputs": [],
   "source": []
  }
 ],
 "metadata": {
  "kernelspec": {
   "display_name": "Python 3",
   "language": "python",
   "name": "python3"
  },
  "language_info": {
   "codemirror_mode": {
    "name": "ipython",
    "version": 3
   },
   "file_extension": ".py",
   "mimetype": "text/x-python",
   "name": "python",
   "nbconvert_exporter": "python",
   "pygments_lexer": "ipython3",
   "version": "3.7.9"
  }
 },
 "nbformat": 4,
 "nbformat_minor": 4
}
